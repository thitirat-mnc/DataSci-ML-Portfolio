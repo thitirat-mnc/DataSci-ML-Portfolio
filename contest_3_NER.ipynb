{
  "cells": [
    {
      "cell_type": "markdown",
      "metadata": {
        "id": "Kzb-qZ2Rsew4"
      },
      "source": [
        "# 1. Download Data\n",
        "\n"
      ]
    },
    {
      "cell_type": "code",
      "execution_count": null,
      "metadata": {
        "colab": {
          "base_uri": "https://localhost:8080/"
        },
        "id": "S_22yvb_sasA",
        "outputId": "c548fdcd-4f9a-4018-fb0a-a5d290f806da"
      },
      "outputs": [
        {
          "output_type": "stream",
          "name": "stdout",
          "text": [
            "Looking in indexes: https://pypi.org/simple, https://us-python.pkg.dev/colab-wheels/public/simple/\n",
            "Collecting sklearn-crfsuite\n",
            "  Downloading sklearn_crfsuite-0.3.6-py2.py3-none-any.whl (12 kB)\n",
            "Collecting python-crfsuite>=0.8.3\n",
            "  Downloading python_crfsuite-0.9.9-cp39-cp39-manylinux_2_17_x86_64.manylinux2014_x86_64.whl (1.0 MB)\n",
            "\u001b[2K     \u001b[90m━━━━━━━━━━━━━━━━━━━━━━━━━━━━━━━━━━━━━━━━\u001b[0m \u001b[32m1.0/1.0 MB\u001b[0m \u001b[31m34.4 MB/s\u001b[0m eta \u001b[36m0:00:00\u001b[0m\n",
            "\u001b[?25hRequirement already satisfied: tabulate in /usr/local/lib/python3.9/dist-packages (from sklearn-crfsuite) (0.8.10)\n",
            "Requirement already satisfied: tqdm>=2.0 in /usr/local/lib/python3.9/dist-packages (from sklearn-crfsuite) (4.65.0)\n",
            "Requirement already satisfied: six in /usr/local/lib/python3.9/dist-packages (from sklearn-crfsuite) (1.16.0)\n",
            "Installing collected packages: python-crfsuite, sklearn-crfsuite\n",
            "Successfully installed python-crfsuite-0.9.9 sklearn-crfsuite-0.3.6\n"
          ]
        }
      ],
      "source": [
        "!pip install sklearn-crfsuite"
      ]
    },
    {
      "cell_type": "markdown",
      "metadata": {
        "id": "B0R4FVMLjq2s"
      },
      "source": [
        "# Preprocessing: ตัดคำและติด POS Tag ก่อน"
      ]
    },
    {
      "cell_type": "code",
      "execution_count": null,
      "metadata": {
        "colab": {
          "base_uri": "https://localhost:8080/"
        },
        "id": "2uGxUENQdqf7",
        "outputId": "5f280990-e17b-43f7-e823-1b858fb561a0"
      },
      "outputs": [
        {
          "output_type": "stream",
          "name": "stdout",
          "text": [
            "Looking in indexes: https://pypi.org/simple, https://us-python.pkg.dev/colab-wheels/public/simple/\n",
            "Collecting pythainlp\n",
            "  Downloading pythainlp-4.0.0-py3-none-any.whl (13.4 MB)\n",
            "\u001b[2K     \u001b[90m━━━━━━━━━━━━━━━━━━━━━━━━━━━━━━━━━━━━━━━━\u001b[0m \u001b[32m13.4/13.4 MB\u001b[0m \u001b[31m81.4 MB/s\u001b[0m eta \u001b[36m0:00:00\u001b[0m\n",
            "\u001b[?25hRequirement already satisfied: requests>=2.22.0 in /usr/local/lib/python3.9/dist-packages (from pythainlp) (2.27.1)\n",
            "Requirement already satisfied: certifi>=2017.4.17 in /usr/local/lib/python3.9/dist-packages (from requests>=2.22.0->pythainlp) (2022.12.7)\n",
            "Requirement already satisfied: idna<4,>=2.5 in /usr/local/lib/python3.9/dist-packages (from requests>=2.22.0->pythainlp) (3.4)\n",
            "Requirement already satisfied: urllib3<1.27,>=1.21.1 in /usr/local/lib/python3.9/dist-packages (from requests>=2.22.0->pythainlp) (1.26.15)\n",
            "Requirement already satisfied: charset-normalizer~=2.0.0 in /usr/local/lib/python3.9/dist-packages (from requests>=2.22.0->pythainlp) (2.0.12)\n",
            "Installing collected packages: pythainlp\n",
            "Successfully installed pythainlp-4.0.0\n"
          ]
        }
      ],
      "source": [
        "!pip install pythainlp"
      ]
    },
    {
      "cell_type": "markdown",
      "metadata": {
        "id": "7LdnP5xOlv3O"
      },
      "source": [
        "#feature เป็นแค่คำอย่างเดียว"
      ]
    },
    {
      "cell_type": "code",
      "execution_count": null,
      "metadata": {
        "id": "v2IrJ54KUaS7"
      },
      "outputs": [],
      "source": [
        "from lst20utils import extract_sentences_from_files, extract_entities, retag"
      ]
    },
    {
      "cell_type": "markdown",
      "metadata": {
        "id": "Vwnk8dVU4JF6"
      },
      "source": [
        "#ดึง tokens จาก train_auto_tok.tsv"
      ]
    },
    {
      "cell_type": "markdown",
      "metadata": {
        "id": "mZC3Cjyt-wjQ"
      },
      "source": [
        "ลองดึง label กับ sentence แบบมี white space"
      ]
    },
    {
      "cell_type": "code",
      "execution_count": null,
      "metadata": {
        "colab": {
          "base_uri": "https://localhost:8080/"
        },
        "id": "YuFL_NGObhkp",
        "outputId": "3c0d94e1-89ff-43bf-ca8c-9dbe611e5783"
      },
      "outputs": [
        {
          "output_type": "stream",
          "name": "stdout",
          "text": [
            "[['ทาง', 'ด้าน', ' ', 'พ.ต.', 'อ', ' ', 'ส', 'รา', 'ยุทธ', ' ', 'สงวน', 'โภ', 'คัย', ' ', 'ผู้กำกับ', ' ', 'สภ.', 'เมือง', 'พัทยา', ' ', 'ซึ่ง', 'ได้', 'เดินทาง', 'มา', 'รับ', 'ตำแหน่ง', 'ใหม่', 'หลัง', 'ถูก', 'สั่ง', 'ย้าย', 'ราชการ', 'ไป', 'อยู่', 'จังหวัด', 'ชลบุรี', 'ชั่วคราว'], ['และ', 'ได้', 'กล่าวว่า', ' ', 'ใน', 'วัน', 'พ', 'รุ้ง', 'นี้', 'จะ', 'นำ', 'ตัวผู้', 'ต้อง', 'มา', 'ไป', 'ที่เกิดเหตุ', 'เพื่อ', 'ทำ', 'แผน', 'ประกอบ', 'คำรับสารภาพ', 'เพื่อ', 'เป็น', 'แนวทาง', 'ทาง', 'คดี', 'ต่อไป', 'ดังกล่าว'], ['ทำเนียบฯ', 'เงียบเหงา', 'คณะ', 'ปฏิรูป', 'ฯ', 'ให้', 'สื่อ', 'ทำหน้าที่', 'ปกติ'], ['ทำเนียบรัฐบาล', ' ', 'บรรยากาศ', 'เงียบเหงา', ' ', 'คณะ', 'ปฏิรูป', 'ฯ', 'ให้', 'สื่อมวลชน', 'ทำหน้าที่', 'ตามปกติ'], ['(', '21', ' ', 'ก.ย.', ')', ' ', 'ผู้สื่อข่าว', 'รายงาน', 'จาก', 'ทำเนียบรัฐบาล', 'ว่า', ' ', 'หลัง', 'คณะ', 'ปฏิรูป', 'การปกครอง', 'ใน', 'ระบอบประชาธิปไตย', 'อัน', 'มี', 'พระมหากษัตริย์', 'ทรง', 'เป็น', 'ประมุข', ' ', 'มี', 'คำสั่ง', 'ให้', 'วันนี้', ' ', '(', '21', ' ', 'ก.ย.', ')', ' ', 'เป็น', 'วันทำงาน', 'แล้ว', 'ก็ตาม', ' ', 'แต่', 'บรรยากาศ', 'ก็', 'ยัง', 'เป็นไป', 'อย่าง', 'เงียบเหงา', ' ', 'ข้าราชการ', 'ทยอย', 'เข้ามา', 'ทำงาน', 'ตั้งแต่', 'ช่วง', 'เช้า', ' ', 'แต่', 'จาก', 'การ', 'สอบถาม', 'พบ', 'ว่า', 'ข้าราชการ', 'บางส่วน', 'ยัง', 'ไม่', 'มา', 'ทำงาน', 'ใน', 'วันนี้', ' ', 'ขณะที่', 'สื่อมวลชน', 'ประจำ', 'ทำเนียบรัฐบาล', 'สามารถ', 'เข้ามา', 'ทำ', 'ข่าว', 'ได้', 'ตามปกติ', ' ', 'ซึ่ง', 'ถือ', 'เป็นครั้งแรก', 'ของ', 'การปฏิวัติ', 'ที่', 'อนุญาต', 'เช่นนี้'], ['จากนั้น', ' ', 'เมื่อ', 'เวลา', 'ประมาณ', ' ', '09.20', ' ', 'น.', ' ', 'นาย', 'รอง', 'พล', ' ', 'เจริญ', 'พันธ์', ' ', 'เลขาธิการ', 'คณะรัฐมนตรี', ' ', 'ได้', 'เดินทาง', 'เข้ามา', 'ทำงาน', 'ที่', 'ทำเนียบรัฐบาล', ' ', 'แต่', 'ใช้เวลา', 'อยู่', 'ไม่', 'นาน', 'นัก', 'ก็', 'เดินทางออก', 'ไป', ' ', 'และ', 'ปฏิเสธ', 'ที่จะ', 'ตอบ', 'ข้อซักถาม', 'ว่า', ' ', 'ได้', 'ติดต่อ', 'กับ', 'บรรดา', 'อดีต', 'รัฐมนตรี', 'หรือไม่', ' ', 'ส่วน', 'ห้องทำงาน', 'ของ', 'รองนายกรัฐมนตรี', 'และ', 'รัฐมนตรี', 'ประจำ', 'สำนักนายกรัฐมนตรี', 'โดยเฉพาะ', 'ห้องทำงาน', ' ', 'ของ', 'นาย', 'เนวิน', ' ', 'ชิด', 'ชอบ', ' ', 'รัฐมนตรี', 'ประจำ', 'สำนักนายกรัฐมนตรี', 'ถูก', 'คณะ', 'ปฏิรูป', 'ฯ', ' ', 'เรียก', 'ให้', 'ไป', 'รายงานตัว', 'ที่', 'กองบัญชาการ', 'กองทัพบก', 'ใน', 'วันนี้', ' ', 'ก็', 'ยัง', 'ไม่', 'มี', 'การ', 'ส่ง', 'เจ้าหน้า', 'ที่มา', 'เก็บ', 'ของ', 'แต่อย่างใด'], ['สำหรับ', 'บรรยากาศ', 'โดย', 'บริเวณ', 'รอบ', 'ๆ', ' ', 'ทำเนียบ', 'ยังมี', 'ทหาร', 'จาก', 'กองพัน', 'ทหารราบ', 'ที่', ' ', '3', ' ', 'กรม', 'ทหารพราน', 'ที่', ' ', '2', ' ', 'รักษา', 'พระองค์', ' ', 'จังหวัด', 'ปราจีนบุรี', ' ', 'ยืน', 'ประจำ', 'การรักษา', 'ความปลอดภัย', 'ตาม', 'ประตู', 'ต่างๆ', ' ', 'และ', 'เปิด', 'ให้', 'เจ้าหน้าที่', 'ของ', 'ทำเนียบฯ', ' ', 'และ', 'รถ', 'เข้า', '-', 'ออก', 'ได้', 'เพียง', 'ประตู', 'เดียว', 'คือ', 'ประตู', 'ที่อยู่', 'ฝั่ง', 'ตรงข้าม', 'กับ', 'กระทรวงศึกษาธิการ', ' ', 'ซึ่ง', 'มี', 'การ', 'ตรวจ', 'รถ', 'เข้า', '-', 'ออก', 'อย่าง', 'เข้มงวด', 'เหมือนเดิม', ' ', 'ส่วน', ' ', 'ที่มา', 'ประจำการ', 'ที่', 'ทำเนียบฯ', ' ', 'มี', 'จำนวน', 'ลดน้อยลง', 'กว่า', 'เมื่อวาน', ' ', 'แต่', 'ก็', 'ยังมี', 'รถถัง', 'จำนวน', ' ', '4', ' ', 'คัน', 'ตั้งอยู่', 'บริเวณ', 'ประตู', 'ทาง', 'เข้าหน้า', 'ตึก', 'ไทย', 'คู่', 'ฟ้า', ' ', 'เลียบ', 'คลอง', 'เปรม', 'ประชากร'], ['ซึ่ง', 'ยังมี', 'ประชาชน', 'ให้ความสนใจ', 'และ', 'มา', 'ร่วม', 'ถ่ายรูป', 'กับ', 'รถถัง', 'พร้อม', 'มอบ', 'ดอกไม้', 'ให้กำลังใจ', 'ทหาร', ' ', 'รวมทั้ง', 'นักท่องเที่ยว', 'ชาวต่างชาติ', ' ', 'ซึ่ง', 'บอ', 'กว่า', 'เมื่อ', 'ทราบ', 'ข่าว', 'การปฏิวัติ', 'ใน', 'ช่วงแรก', 'ก็', 'รู้สึก', 'วิตกกังวล', ' ', 'แต่', 'หลังจาก', 'ได้มา', 'ดู', 'สถานการณ์', 'ด้วย', 'ตา', 'ตัวเอง', 'และ', 'เห็น', 'ว่า', 'ทุกอย่าง', 'เป็นไป', 'ด้วย', 'ความสงบเรียบร้อย', 'ก็', 'สบายใจ', ' ', 'ทั้ง', 'ยัง', 'เห็น', 'ด้วยว่า', 'การปฏิวัติ', 'ของ', 'ไทย', 'แตกต่าง', 'จาก', 'ประเทศ', 'อื่น', 'ด้วย'], ['ส่วน', 'ที่ทำการไปรษณีย์', 'และ', 'ธนาคาร', ' ', 'ที่อยู่', 'ใน', 'บริเวณ', 'ทำเนียบรัฐบาล', ' ', 'มี', 'ผู้', 'มา', 'ใช้', 'บริการ', 'น้อยลง', ' ', 'เนื่องจาก', 'บุคคลภายนอก', 'ไม่', 'สามารถ', 'เข้ามา', 'ใช้', 'บริการ', 'ได้', 'สะดวก', 'เหมือน', 'ที่ผ่านมา', ' ', 'รวมทั้ง', 'เจ้าหน้าที่', 'ภายใน', 'ทำเนียบฯ', 'ก็', 'มา', 'ทำงาน', 'น้อยลง'], ['ผู้สื่อข่าว', 'รายงาน', 'ด้วยว่า', ' ', 'ใน', 'เวลา', ' ', '13.00', ' ', 'น.', ' ', 'พล.ต.ต.', 'พี', 'ระ', 'พันธ์', ' ', 'เปรม', 'ภูติ', ' ', 'ปลัด', 'สำนัก', 'นายกฯ', 'จะ', 'เรียก', 'หัวหน้า', 'ส่วนราชการ', 'ใน', 'การกำกับ', 'ดูแล', 'ของ', 'ปลัด', 'สำนัก', 'นายกฯ', 'เข้ามา', 'ร่วม', 'รับฟัง', 'นโยบาย', 'การทำงาน', 'หลังจาก', 'มี', 'คณะ', 'ปฏิรูป', 'ฯ']]\n",
            "[['O', 'O', 'O', 'B_DES', 'I_DES', 'O', 'B_PER', 'I_PER', 'I_PER', 'I_PER', 'I_PER', 'I_PER', 'I_PER', 'O', 'O', 'O', 'B_ORG', 'I_ORG', 'I_ORG', 'O', 'O', 'O', 'O', 'O', 'O', 'O', 'O', 'O', 'O', 'O', 'O', 'O', 'O', 'O', 'B_LOC', 'I_LOC', 'O'], ['O', 'O', 'O', 'O', 'O', 'B_DTM', 'O', 'O', 'O', 'O', 'O', 'O', 'O', 'O', 'O', 'O', 'O', 'O', 'O', 'O', 'O', 'O', 'O', 'O', 'O', 'O', 'O', 'O'], ['B_LOC', 'O', 'B_ORG', 'I_ORG', 'I_ORG', 'O', 'O', 'O', 'O'], ['B_LOC', 'O', 'O', 'O', 'O', 'B_ORG', 'I_ORG', 'I_ORG', 'O', 'O', 'O', 'O'], ['O', 'B_DTM', 'I_DTM', 'I_DTM', 'O', 'O', 'O', 'O', 'O', 'B_LOC', 'O', 'O', 'O', 'B_ORG', 'I_ORG', 'I_ORG', 'I_ORG', 'I_ORG', 'I_ORG', 'I_ORG', 'I_ORG', 'I_ORG', 'I_ORG', 'I_ORG', 'O', 'O', 'O', 'O', 'O', 'O', 'O', 'B_DTM', 'I_DTM', 'I_DTM', 'O', 'O', 'O', 'O', 'O', 'O', 'O', 'O', 'O', 'O', 'O', 'O', 'O', 'O', 'O', 'O', 'O', 'O', 'O', 'O', 'O', 'O', 'O', 'O', 'O', 'O', 'O', 'O', 'O', 'O', 'O', 'O', 'O', 'O', 'O', 'O', 'O', 'O', 'O', 'O', 'O', 'O', 'O', 'O', 'O', 'O', 'O', 'O', 'O', 'O', 'O', 'O', 'O', 'O', 'O', 'O', 'O'], ['O', 'O', 'O', 'B_DTM', 'I_DTM', 'I_DTM', 'I_DTM', 'I_DTM', 'I_DTM', 'O', 'B_TTL', 'B_PER', 'I_PER', 'I_PER', 'I_PER', 'I_PER', 'O', 'O', 'O', 'O', 'O', 'O', 'O', 'O', 'O', 'B_LOC', 'O', 'O', 'O', 'O', 'O', 'O', 'O', 'O', 'O', 'O', 'O', 'O', 'O', 'O', 'O', 'O', 'O', 'O', 'O', 'O', 'O', 'O', 'O', 'B_DES', 'O', 'O', 'O', 'O', 'O', 'O', 'O', 'O', 'O', 'B_ORG', 'O', 'O', 'O', 'O', 'B_TTL', 'B_PER', 'I_PER', 'I_PER', 'I_PER', 'O', 'O', 'O', 'B_ORG', 'O', 'B_ORG', 'I_ORG', 'I_ORG', 'O', 'O', 'O', 'O', 'O', 'O', 'B_ORG', 'B_ORG', 'O', 'O', 'O', 'O', 'O', 'O', 'O', 'O', 'O', 'O', 'O', 'O', 'O', 'O'], ['O', 'O', 'O', 'O', 'O', 'O', 'O', 'O', 'O', 'O', 'O', 'B_ORG', 'I_ORG', 'I_ORG', 'I_ORG', 'I_ORG', 'O', 'B_ORG', 'I_ORG', 'I_ORG', 'I_ORG', 'I_ORG', 'I_ORG', 'I_ORG', 'I_ORG', 'O', 'B_LOC', 'I_LOC', 'O', 'O', 'O', 'O', 'O', 'O', 'O', 'O', 'O', 'O', 'O', 'O', 'O', 'O', 'B_LOC', 'O', 'O', 'O', 'O', 'O', 'O', 'O', 'O', 'O', 'O', 'O', 'O', 'O', 'O', 'O', 'O', 'B_ORG', 'O', 'O', 'O', 'O', 'O', 'O', 'O', 'O', 'O', 'O', 'O', 'O', 'O', 'O', 'O', 'O', 'O', 'O', 'B_LOC', 'O', 'O', 'O', 'O', 'O', 'O', 'O', 'O', 'O', 'O', 'O', 'O', 'O', 'B_NUM', 'O', 'O', 'O', 'O', 'O', 'O', 'O', 'B_LOC', 'I_LOC', 'I_LOC', 'I_LOC', 'O', 'O', 'B_LOC', 'I_LOC', 'I_LOC'], ['O', 'O', 'O', 'O', 'O', 'O', 'O', 'O', 'O', 'O', 'O', 'O', 'O', 'O', 'O', 'O', 'O', 'O', 'O', 'O', 'O', 'O', 'O', 'O', 'O', 'O', 'O', 'O', 'O', 'O', 'O', 'O', 'O', 'O', 'O', 'O', 'O', 'O', 'O', 'O', 'O', 'O', 'O', 'O', 'O', 'O', 'O', 'O', 'O', 'O', 'O', 'O', 'O', 'O', 'O', 'O', 'O', 'B_LOC', 'O', 'O', 'O', 'O', 'O'], ['O', 'O', 'O', 'O', 'O', 'O', 'O', 'O', 'B_LOC', 'O', 'O', 'O', 'O', 'O', 'O', 'O', 'O', 'O', 'O', 'O', 'O', 'O', 'O', 'O', 'O', 'O', 'O', 'O', 'O', 'O', 'O', 'O', 'B_LOC', 'O', 'O', 'O', 'O'], ['O', 'O', 'O', 'O', 'O', 'B_DTM', 'I_DTM', 'I_DTM', 'I_DTM', 'I_DTM', 'O', 'B_DES', 'B_PER', 'I_PER', 'I_PER', 'I_PER', 'I_PER', 'I_PER', 'O', 'O', 'B_ORG', 'I_ORG', 'O', 'O', 'O', 'O', 'O', 'O', 'O', 'O', 'O', 'B_ORG', 'I_ORG', 'O', 'O', 'O', 'O', 'O', 'O', 'O', 'B_ORG', 'I_ORG', 'I_ORG']]\n"
          ]
        }
      ],
      "source": [
        "token_seq_list = []\n",
        "sentence = []\n",
        "label_seq = []\n",
        "label_seq_list = []\n",
        "with open('/content/train_auto_tok.tsv', 'r') as f:\n",
        "    original_list = f.readlines()\n",
        "    for word_and_tag in original_list:\n",
        "        word = word_and_tag.split('\\t')[0]\n",
        "        if word_and_tag == '\\n':\n",
        "            token_seq_list.append(sentence)\n",
        "            sentence = []\n",
        "            label_seq_list.append(label_seq)\n",
        "            label_seq = []\n",
        "        else:\n",
        "            sentence.append(word)\n",
        "            tag = word_and_tag.split('\\t')[-1].strip()\n",
        "            label_seq.append(tag)\n",
        "    # Append any remaining sequence\n",
        "    if sentence:\n",
        "        token_seq_list.append(sentence)\n",
        "\n",
        "print(token_seq_list[-10:])\n",
        "print(label_seq_list[-10:])"
      ]
    },
    {
      "cell_type": "code",
      "execution_count": null,
      "metadata": {
        "colab": {
          "base_uri": "https://localhost:8080/"
        },
        "id": "6cxhj-EZnJv-",
        "outputId": "d0899f9a-7274-409d-c8c9-868b48e91f2d"
      },
      "outputs": [
        {
          "output_type": "stream",
          "name": "stdout",
          "text": [
            "[['\"', 'อ.', 'สม', 'พจน์', '\"', 'แต่ง', '\"', 'แพนด้า', 'น่ารัก', '\"', ' ', 'ตุน', 'เพลง', 'รอ', '\"', 'ลูกกรุง', '\"', 'กลับมา', 'อีก'], ['หลังจากที่', 'มี', 'ข่าว', 'ว่า', 'ได้', 'แต่งเพลง', 'แพนด้า', 'น่ารัก', ' ', 'เพื่อ', 'มอบให้', 'ลูก', 'ของ', 'ช่วง', 'ช่วง', 'และ', 'หลินฮุ่ย', ' ', 'แม้', 'จะ', 'ยัง', 'ไม่', 'ทราบ', 'ว่า', 'ลูก', 'หมี', 'แพนด้า', 'น้อย', 'ชื่อ', 'อะไรก็ตาม', ' ', 'อ.', 'สม', 'พจน์', ' ', 'สิงห์', 'สุวรรณ', ' ', 'ได้', 'ให้', 'สัมภาษณ์', 'ที่', 'บ้าน', 'ฝัน', 'ตะวัน', 'รัญจวน', ' ', 'ลาดพร้าว', ' ', '124', ' ', 'ว่า'], ['\"', 'สาเหตุ', 'ที่', 'ผม', 'แต่งเพลง', 'แพนด้า', 'น่ารัก', ' ', 'ก็', 'เพราะ', 'อยาก', 'จะ', 'มีส่วน', 'ร่วมใน', 'การ', 'ต้อนรับ', 'ครอบครัว', 'หมี', 'แพนด้า', ' ', 'ซึ่ง', 'ทางการ', 'จีน', 'ส่ง', 'มา', 'อยู่', 'ที่', 'ประเทศ', 'ไทย', 'ทูต', 'วัฒนธรรม', ' ', 'ผม', 'แต่งเพลง', 'นี้', 'เสร็จ', 'เรียบร้อย', 'แล้ว', ' ', 'ถึง', 'ได้', 'พบ', 'กับ', 'น้อง', 'ออมสิน', 'ที่', 'บ้าน', 'ฝัน', 'ฯ', ' ', 'เมื่อ', 'ทาบทาม', 'ให้', 'ร้องเพลง', 'นี้', 'น้อง', 'ออมสิน', 'ก็', 'รีบ', 'ตกลง', 'ทันที', ' ', 'อีก', 'สอง', 'วัน', 'ต่อมา', 'ก็', 'เข้า', 'ห้อง', 'อัด', 'เรียบร้อย', ' ', 'ประมาณ', 'สัปดาห์', 'หน้า', 'จะ', 'ฟังเพลง', 'แพนด้า', 'น่ารัก', 'ได้ที่', ' ', 'www', '.', 'you', '2', 'play', '.', 'com'], ['นอกจาก', 'เพลง', 'แพนด้า', 'น่ารัก', 'แล้ว', ' ', 'ผม', 'ยัง', 'แต่ง', 'อีก', 'หลาย', 'เพลง', 'เป็น', 'เพลง', 'ไม่เชิง', 'ลูกกรุง', ' ', 'เป็น', 'เพลง', 'สมัยนิยม', 'แนว', 'ป็อป', 'แจ๊ส', ' ', 'ให้', 'คุณ', 'ชูใจ', ' ', 'เพ', 'ชรา', ' ', 'ลูกศิษย์', 'คน', 'ใหม่', 'ร้อง', ' ', 'และ', 'ยัง', 'แต่งเพลง', 'ใหม่', 'ให้', 'คุณ', 'โฉมฉาย', ' ', 'อรุณ', 'ฉาน', ' ', 'ร้อง', 'อีกด้วย'], ['ขณะนี้', 'กำลัง', 'แต่งเพลง', 'หนุ่ม', 'กางเกงแพร', ' ', 'สำหรับ', 'งาน', 'กางเกงแพร', 'อิน', 'คอนเสิร์ต', ' ', 'ผม', 'คิด', 'ว่า', 'ปีหน้า', 'เพลง', 'ลูกกรุง', 'คงจะ', 'กลับมา', 'แน่นอน', ' ', 'ผม', 'จึง', 'ได้', 'รีบ', 'แต่งเพลง', 'ไว้', 'รอ', 'รับ', 'การ', 'กลับมา', '\"', ' ', 'อ.', 'สม', 'พจน์', 'กล่าว'], ['พท.', 'พร้อม', 'หนุน', 'จัด', 'ประชุม', 'สมัชชา', 'สหภาพ', 'รัฐสภา', ' ', 'ครั้ง', 'ที่', ' ', '122', ' ', 'ที่', 'ไทย', 'เป็นเจ้าภาพ'], ['รอง', 'หัวหน้าพรรค', 'เพื่อ', 'ไทย', ' ', 'ระบุ', ' ', 'พรรค', 'พร้อม', 'ให้การ', 'สนับสนุน', 'การ', 'จัด', 'ประชุม', 'สมัชชา', 'สหภาพ', 'รัฐสภา', ' ', 'ครั้ง', 'ที่', ' ', '122', ' ', 'ที่', 'ประเทศ', 'ไทย', 'เป็นเจ้าภาพ', 'อย่าง', 'เต็มที่', ' ', 'ภายหลัง', 'การหารือ', 'กับ', 'เลขาธิการ', 'สหภาพ', 'รัฐสภา'], ['นาย', 'ปาน', 'ป', 'รี', 'ย์', ' ', 'พหิทธา', 'นุ', 'กร', ' ', 'รอง', 'หัวหน้าพรรค', 'เพื่อ', 'ไทย', ' ', 'เปิดเผย', 'ว่า', ' ', 'เมื่อ', 'วันที่', ' ', '11', ' ', 'สิงหาคม', ' ', 'ที่ผ่านมา', ' ', 'ได้', 'มีโอกาส', 'พบ', 'กับ', ' ', 'นาย', 'อันเดอร์', 'ส', ' ', 'บี', '.', ' ', 'จอห์น', 'สัน', ' ', '(', 'Mr', '.', ' ', 'Anders', ' ', 'B', '.', ' ', 'Johnsson', ')', ' ', 'เลขาธิการ', 'สหภาพ', 'รัฐสภา', ' ', 'หรือ', ' ', 'IPU', ' ', '(', 'Inter-Parliamentary', ' ', 'Union', ')', ' ', 'และ', ' ', 'นาย', 'ต่อ', 'พงษ์', ' ', 'ไชย', 'สาส์น', ' ', 'ประธาน', 'คณะกรรมาธิการ', 'การต่างประเทศ', ' ', 'สภาผู้แทนราษฎร', ' ', 'ซึ่ง', ' ', 'นาย', 'อันเดอร์', 'ส', ' ', 'ได้', 'เดินทาง', 'มา', 'เยือน', 'ประเทศ', 'ไทย', 'เพื่อ', 'ต้องการ', 'พบปะ', 'และ', 'แลกเปลี่ยนความคิดเห็น', 'กับ', 'รัฐบาล', 'และ', 'หน่วยงาน', 'ต่างๆ', ' ', 'ของ', 'ไทย'], ['เพื่อ', 'เตรียม', 'ความพร้อม', 'สำหรับ', 'จัด', 'การประชุม', 'สมัชชา', 'สหภาพ', 'รัฐสภา', ' ', '(', 'IPU', ' ', 'Assembly', ')', ' ', 'ครั้ง', 'ที่', ' ', '122', ' ', 'ระหว่าง', 'เดือน', 'มีนาคม', ' ', '-', ' ', 'เมษายน', ' ', 'ปี', ' ', '2553', ' ', 'ที่', 'ประเทศ', 'ไทย', ' ', 'โดย', 'ได้', 'มี', 'การ', 'แลกเปลี่ยนความคิดเห็น', ' ', 'และ', 'ขอ', 'การ', 'สนับสนุน', 'จาก', 'พรรค', 'เพื่อ', 'ไทย', 'ใน', 'ฐานะ', 'ฝ่ายค้าน'], ['สำหรับ', 'การ', 'จัดงาน', 'ใน', 'ปีหน้า', 'ด้วย', ' ', 'รอง', 'หัวหน้าพรรค', 'เพื่อ', 'ไทย', ' ', 'กล่าวว่า', ' ', 'พรรค', 'เพื่อ', 'ไทย', 'พร้อม', 'สนับสนุน', 'การ', 'จัดงาน', 'ประชุม', 'สมัชชา', 'สหภาพ', 'รัฐสภา', ' ', 'และ', 'จะ', 'ช่วย', 'ผลักดัน', 'ให้', 'งบประมาณ', 'ที่', 'ใช้', 'สำหรับ', 'การ', 'จัดงาน', ' ', 'ซึ่ง', 'อยู่', 'ระหว่าง', 'การพิจารณา', 'ของ', 'คณะกรรมาธิการ', 'พิจารณา', 'งบประมาณ', 'ฯ', ' ', 'สภาผู้แทนราษฎร', ' ', 'ให้', 'ผ่าน', 'ความ', 'เห็นชอบ', 'จาก', 'สภา', 'โดยเร็ว']]\n",
            "[['O', 'B_TTL', 'B_PER', 'I_PER', 'O', 'O', 'O', 'O', 'O', 'O', 'O', 'O', 'O', 'O', 'O', 'O', 'O', 'O', 'O'], ['O', 'O', 'O', 'O', 'O', 'O', 'O', 'O', 'O', 'O', 'O', 'O', 'O', 'O', 'O', 'O', 'O', 'O', 'O', 'O', 'O', 'O', 'O', 'O', 'O', 'O', 'O', 'O', 'O', 'O', 'O', 'B_TTL', 'B_PER', 'I_PER', 'I_PER', 'I_PER', 'I_PER', 'O', 'O', 'O', 'O', 'O', 'B_LOC', 'I_LOC', 'I_LOC', 'I_LOC', 'O', 'B_LOC', 'O', 'O', 'O', 'O'], ['O', 'O', 'O', 'O', 'O', 'O', 'O', 'O', 'O', 'O', 'O', 'O', 'O', 'O', 'O', 'O', 'O', 'O', 'O', 'O', 'O', 'B_ORG', 'B_LOC', 'O', 'O', 'O', 'O', 'B_LOC', 'I_LOC', 'O', 'O', 'O', 'O', 'O', 'O', 'O', 'O', 'O', 'O', 'O', 'O', 'O', 'O', 'B_TTL', 'B_PER', 'O', 'O', 'O', 'O', 'O', 'O', 'O', 'O', 'O', 'O', 'B_TTL', 'B_PER', 'O', 'O', 'O', 'O', 'O', 'O', 'B_MEA', 'I_MEA', 'O', 'O', 'O', 'O', 'O', 'O', 'O', 'B_DTM', 'I_DTM', 'I_DTM', 'O', 'O', 'O', 'O', 'O', 'O', 'O', 'O', 'O', 'O', 'O', 'O', 'O'], ['O', 'O', 'O', 'O', 'O', 'O', 'O', 'O', 'O', 'O', 'O', 'O', 'O', 'O', 'O', 'O', 'O', 'O', 'O', 'O', 'O', 'O', 'O', 'O', 'O', 'B_TTL', 'O', 'O', 'O', 'O', 'O', 'O', 'O', 'O', 'O', 'O', 'O', 'O', 'O', 'O', 'O', 'O', 'B_PER', 'I_PER', 'I_PER', 'I_PER', 'O', 'O', 'O'], ['O', 'O', 'O', 'O', 'O', 'O', 'O', 'O', 'O', 'O', 'O', 'O', 'O', 'O', 'O', 'B_DTM', 'O', 'O', 'O', 'O', 'O', 'O', 'O', 'O', 'O', 'O', 'O', 'O', 'O', 'O', 'O', 'O', 'O', 'O', 'B_TTL', 'B_PER', 'I_PER', 'O'], ['B_ORG', 'O', 'O', 'O', 'O', 'B_ORG', 'I_ORG', 'I_ORG', 'O', 'O', 'O', 'O', 'O', 'O', 'O', 'B_LOC', 'O'], ['O', 'O', 'O', 'O', 'O', 'O', 'O', 'B_ORG', 'O', 'O', 'O', 'O', 'O', 'O', 'O', 'O', 'O', 'O', 'O', 'O', 'O', 'O', 'O', 'O', 'O', 'O', 'O', 'O', 'O', 'O', 'O', 'O', 'O', 'O', 'O', 'O'], ['B_TTL', 'B_PER', 'I_PER', 'I_PER', 'I_PER', 'I_PER', 'I_PER', 'I_PER', 'I_PER', 'O', 'B_DES', 'O', 'O', 'O', 'O', 'O', 'O', 'O', 'O', 'O', 'O', 'O', 'O', 'O', 'O', 'O', 'O', 'O', 'O', 'O', 'O', 'O', 'O', 'O', 'O', 'O', 'O', 'O', 'O', 'O', 'O', 'O', 'O', 'O', 'O', 'O', 'O', 'O', 'O', 'O', 'O', 'O', 'O', 'O', 'O', 'O', 'O', 'O', 'O', 'O', 'O', 'O', 'O', 'O', 'O', 'O', 'O', 'O', 'O', 'O', 'O', 'O', 'O', 'O', 'O', 'O', 'O', 'O', 'O', 'O', 'O', 'O', 'O', 'O', 'O', 'O', 'O', 'O', 'O', 'O', 'O', 'O', 'O', 'O', 'O', 'O', 'O', 'O', 'O', 'O', 'O', 'O', 'O', 'O', 'O', 'O', 'O', 'O'], ['O', 'O', 'O', 'O', 'O', 'O', 'B_ORG', 'I_ORG', 'I_ORG', 'O', 'O', 'B_ORG', 'O', 'O', 'O', 'O', 'O', 'O', 'O', 'O', 'O', 'O', 'B_DTM', 'I_DTM', 'O', 'O', 'O', 'O', 'O', 'B_DTM', 'I_DTM', 'I_DTM', 'O', 'O', 'B_LOC', 'I_LOC', 'O', 'O', 'O', 'O', 'O', 'O', 'O', 'O', 'O', 'O', 'O', 'O', 'B_ORG', 'I_ORG', 'I_ORG', 'O', 'O', 'O'], ['O', 'O', 'O', 'O', 'O', 'O', 'O', 'O', 'O', 'O', 'O', 'O', 'O', 'O', 'B_ORG', 'I_ORG', 'I_ORG', 'O', 'O', 'O', 'O', 'O', 'O', 'O', 'O', 'O', 'O', 'O', 'O', 'O', 'O', 'O', 'O', 'O', 'O', 'O', 'O', 'O', 'O', 'O', 'O', 'O', 'O', 'O', 'O', 'O', 'O', 'O', 'O', 'O', 'O', 'O', 'O', 'O', 'O', 'O', 'O']]\n"
          ]
        }
      ],
      "source": [
        "token_seq_list2 = []\n",
        "sentence2 = []\n",
        "label_seq2 = []\n",
        "label_seq_list2 = []\n",
        "with open('/content/dev_auto_tok.tsv', 'r') as f:\n",
        "    original_list = f.readlines()\n",
        "    for word_and_tag in original_list:\n",
        "        word = word_and_tag.split('\\t')[0]\n",
        "        if word_and_tag == '\\n':\n",
        "            token_seq_list2.append(sentence2)\n",
        "            sentence2 = []\n",
        "            label_seq_list2.append(label_seq2)\n",
        "            label_seq2 = []\n",
        "        else:\n",
        "            sentence2.append(word)\n",
        "            tag = word_and_tag.split('\\t')[-1].strip()\n",
        "            label_seq2.append(tag)\n",
        "    # Append any remaining sequence\n",
        "    if sentence2:\n",
        "        token_seq_list2.append(sentence2)\n",
        "\n",
        "print(token_seq_list2[:10])\n",
        "print(label_seq_list2[:10])"
      ]
    },
    {
      "cell_type": "code",
      "execution_count": null,
      "metadata": {
        "id": "MquuLM3AoLLf"
      },
      "outputs": [],
      "source": [
        "token_seq_list.extend(token_seq_list2)\n",
        "label_seq_list.extend(label_seq_list2)"
      ]
    },
    {
      "cell_type": "code",
      "execution_count": null,
      "metadata": {
        "colab": {
          "base_uri": "https://localhost:8080/"
        },
        "id": "hutk3TqRocJ8",
        "outputId": "9c30ef0d-612f-49c6-c051-b5d1c59a7e04"
      },
      "outputs": [
        {
          "output_type": "execute_result",
          "data": {
            "text/plain": [
              "68930"
            ]
          },
          "metadata": {},
          "execution_count": 7
        }
      ],
      "source": [
        "len(token_seq_list)"
      ]
    },
    {
      "cell_type": "markdown",
      "metadata": {
        "id": "sUJ3oeue4Pde"
      },
      "source": [
        "#tokenize text จาก .txt"
      ]
    },
    {
      "cell_type": "code",
      "execution_count": null,
      "metadata": {
        "colab": {
          "base_uri": "https://localhost:8080/"
        },
        "id": "KvdW7PInpdX6",
        "outputId": "e04c2520-8116-4195-b2a2-c633c0176029"
      },
      "outputs": [
        {
          "output_type": "stream",
          "name": "stdout",
          "text": [
            "5620\n"
          ]
        }
      ],
      "source": [
        "with open('dev_set.txt', 'r', encoding='utf-8') as f:\n",
        "    # Read the contents of the file into a string variable\n",
        "    text = f.read()\n",
        "\n",
        "# Split the text into sentences using the newline character as a delimiter\n",
        "sentences = text.split('\\n')\n",
        "\n",
        "# Split each sentence into words using the '|' character as a delimiter\n",
        "dev_seq_list = [sentence.split('|') for sentence in sentences]\n",
        "\n",
        "# Print the resulting list of word lists\n",
        "print(len(dev_seq_list))"
      ]
    },
    {
      "cell_type": "code",
      "execution_count": null,
      "metadata": {
        "colab": {
          "base_uri": "https://localhost:8080/"
        },
        "id": "ZPBboKzUfwfP",
        "outputId": "0ffae21b-46b7-4147-8eca-ca077cfc42d1"
      },
      "outputs": [
        {
          "output_type": "stream",
          "name": "stdout",
          "text": [
            "5250\n"
          ]
        }
      ],
      "source": [
        "with open('test_set.txt', 'r', encoding='utf-8') as f:\n",
        "    # Read the contents of the file into a string variable\n",
        "    text = f.read()\n",
        "\n",
        "# Split the text into sentences using the newline character as a delimiter\n",
        "sentences = text.split('\\n')\n",
        "\n",
        "# Split each sentence into words using the '|' character as a delimiter\n",
        "test_seq_list = [sentence.split('|') for sentence in sentences]\n",
        "\n",
        "# Print the resulting list of word lists\n",
        "print(len(test_seq_list))"
      ]
    },
    {
      "cell_type": "markdown",
      "metadata": {
        "id": "yorjVvw_RjKm"
      },
      "source": [
        "#Featurize"
      ]
    },
    {
      "cell_type": "code",
      "execution_count": null,
      "metadata": {
        "id": "ImseST3cc0wH"
      },
      "outputs": [],
      "source": [
        "def prev(i, tokens):\n",
        "    if i-1 > 0 :\n",
        "      prev = tokens[i-1][0]\n",
        "    else:\n",
        "      prev = 'START-WORD'\n",
        "    return {'prev': prev}"
      ]
    },
    {
      "cell_type": "code",
      "execution_count": null,
      "metadata": {
        "id": "YsBCk4blqTVx"
      },
      "outputs": [],
      "source": [
        "def current(i, tokens):\n",
        "    return {'current': tokens[i][0]}"
      ]
    },
    {
      "cell_type": "code",
      "execution_count": null,
      "metadata": {
        "id": "LqAXRVhOqUM-"
      },
      "outputs": [],
      "source": [
        "def next(i, tokens):\n",
        "    if i+1 < len(tokens) :\n",
        "      next = tokens[i+1][0]\n",
        "    else:\n",
        "      next = 'END-WORD'\n",
        "    return {'next': next}"
      ]
    },
    {
      "cell_type": "code",
      "execution_count": null,
      "metadata": {
        "id": "MUjsiS8DkaV9"
      },
      "outputs": [],
      "source": [
        "def conjunctive_word(i, tokens):\n",
        "    words =[]\n",
        "    posi = [-2, -1, 0, 1, 2]\n",
        "    position_str = ' '.join([str(x) for x in posi])\n",
        "    for position in posi:\n",
        "        if 0 <= i + position < len(tokens):\n",
        "            words.append(tokens[i+position][0])\n",
        "    return {'conj-word': '-'.join(words)}"
      ]
    },
    {
      "cell_type": "code",
      "execution_count": null,
      "metadata": {
        "id": "BQ61G12ZNino"
      },
      "outputs": [],
      "source": [
        "def prev_pos(i, tokens):\n",
        "    if i-1 > 0 :\n",
        "      prev = tokens[i-1][1]\n",
        "    else:\n",
        "      prev = 'START-WORD'\n",
        "    return {'prev_pos': prev}"
      ]
    },
    {
      "cell_type": "code",
      "execution_count": null,
      "metadata": {
        "id": "kvLdAEZ4NqFP"
      },
      "outputs": [],
      "source": [
        "def current_pos(i, tokens):\n",
        "    return {'current_pos': tokens[i][1]}"
      ]
    },
    {
      "cell_type": "code",
      "execution_count": null,
      "metadata": {
        "id": "VBnN0jWeNtCB"
      },
      "outputs": [],
      "source": [
        "def next_pos(i, tokens):\n",
        "    if i+1 < len(tokens) :\n",
        "      next = tokens[i+1][1]\n",
        "    else:\n",
        "      next = 'END-WORD'\n",
        "    return {'next_pos': next}"
      ]
    },
    {
      "cell_type": "code",
      "execution_count": null,
      "metadata": {
        "id": "vnv5Y_C2Nw-G"
      },
      "outputs": [],
      "source": [
        "def conjunctive_pos(i, tokens):\n",
        "    words =[]\n",
        "    posi = [-1, 0, 1]\n",
        "    position_str = ' '.join([str(x) for x in posi])\n",
        "    for position in posi:\n",
        "        if 0 <= i + position < len(tokens):\n",
        "            words.append(tokens[i+position][1])\n",
        "    return {'conj-pos': '-'.join(words)}"
      ]
    },
    {
      "cell_type": "code",
      "execution_count": null,
      "metadata": {
        "id": "f4R0A4kske52"
      },
      "outputs": [],
      "source": [
        "s = ['ทาง', 'ด้าน', ' ', 'พ.ต.', 'อ', ' ', 'ส', 'รา', 'ยุทธ', ' ', 'สงวน', 'โภ', 'คัย', ' ', 'ผู้กำกับ', ' ', 'สภ.', 'เมือง', 'พัทยา', ' ', 'ซึ่ง', 'ได้', 'เดินทาง', 'มา', 'รับ', 'ตำแหน่ง', 'ใหม่', 'หลัง', 'ถูก', 'สั่ง', 'ย้าย', 'ราชการ', 'ไป', 'อยู่', 'จังหวัด', 'ชลบุรี', 'ชั่วคราว']"
      ]
    },
    {
      "cell_type": "code",
      "execution_count": null,
      "metadata": {
        "id": "9awTcsMNN4LE"
      },
      "outputs": [],
      "source": [
        "from pythainlp import pos_tag\n",
        "s_tag = pos_tag(s, corpus='orchid_ud')"
      ]
    },
    {
      "cell_type": "code",
      "execution_count": null,
      "metadata": {
        "colab": {
          "base_uri": "https://localhost:8080/"
        },
        "id": "QCmI0sxZsIV4",
        "outputId": "cdb48846-79f0-42cd-c2e3-0b59ca7fb661"
      },
      "outputs": [
        {
          "output_type": "stream",
          "name": "stdout",
          "text": [
            "[('ทาง', 'ADP'), ('ด้าน', 'NOUN'), (' ', 'PUNCT'), ('พ.ต.', 'NOUN'), ('อ', 'NOUN'), (' ', 'PUNCT'), ('ส', 'NOUN'), ('รา', 'NOUN'), ('ยุทธ', 'NOUN'), (' ', 'PUNCT'), ('สงวน', 'NOUN'), ('โภ', 'NOUN'), ('คัย', 'NOUN'), (' ', 'PUNCT'), ('ผู้กำกับ', 'ADP'), (' ', 'PUNCT'), ('สภ.', 'NOUN'), ('เมือง', 'NOUN'), ('พัทยา', 'NOUN'), (' ', 'PUNCT'), ('ซึ่ง', 'SCONJ'), ('ได้', 'AUX'), ('เดินทาง', 'VERB'), ('มา', 'AUX'), ('รับ', 'VERB'), ('ตำแหน่ง', 'NOUN'), ('ใหม่', 'ADJ'), ('หลัง', 'NOUN'), ('ถูก', 'AUX'), ('สั่ง', 'VERB'), ('ย้าย', 'VERB'), ('ราชการ', 'NOUN'), ('ไป', 'AUX'), ('อยู่', 'AUX'), ('จังหวัด', 'NOUN'), ('ชลบุรี', 'NOUN'), ('ชั่วคราว', 'ADJ')]\n"
          ]
        }
      ],
      "source": [
        "print(s_tag)"
      ]
    },
    {
      "cell_type": "code",
      "execution_count": null,
      "metadata": {
        "colab": {
          "base_uri": "https://localhost:8080/"
        },
        "id": "KxYyjEO8rXhq",
        "outputId": "8f7f6c0c-eb69-45c4-9cd7-718f9d61ee2c"
      },
      "outputs": [
        {
          "data": {
            "text/plain": [
              "{'next_pos': 'NOUN'}"
            ]
          },
          "execution_count": 26,
          "metadata": {},
          "output_type": "execute_result"
        }
      ],
      "source": [
        "next_pos(3, s_tag)"
      ]
    },
    {
      "cell_type": "code",
      "execution_count": null,
      "metadata": {
        "colab": {
          "base_uri": "https://localhost:8080/"
        },
        "id": "A_64tqz9khOQ",
        "outputId": "3220d8dc-74ec-45ac-f2da-368333a7dc25"
      },
      "outputs": [
        {
          "output_type": "execute_result",
          "data": {
            "text/plain": [
              "{'conj-word': 'ยุทธ- -สงวน-โภ-คัย'}"
            ]
          },
          "metadata": {},
          "execution_count": 18
        }
      ],
      "source": [
        "conjunctive_word(10, s_tag)"
      ]
    },
    {
      "cell_type": "code",
      "execution_count": null,
      "metadata": {
        "id": "OVEQ96MwXbEf"
      },
      "outputs": [],
      "source": [
        "#tok_seq_list = [[(w if w != '' else ' ') for w in sentence] for sentence in token_seq_list]\n",
        "#tok_seq_list = [[(x[0], x[1]) for x in pos_tag(s, corpus='pud')] for s in tok_seq_list]"
      ]
    },
    {
      "cell_type": "code",
      "execution_count": null,
      "metadata": {
        "id": "XIj8yzsAx5mZ",
        "colab": {
          "base_uri": "https://localhost:8080/"
        },
        "outputId": "b8740851-9183-4170-e300-1dde3a2fe1be"
      },
      "outputs": [
        {
          "output_type": "execute_result",
          "data": {
            "text/plain": [
              "[{'current': 'อีก',\n",
              "  'current_pos': 'DET',\n",
              "  'next': 'ทั้งเมือง',\n",
              "  'next_pos': 'DET',\n",
              "  'prev': 'START-WORD',\n",
              "  'prev_pos': 'START-WORD'},\n",
              " {'current': 'ทั้งเมือง',\n",
              "  'current_pos': 'DET',\n",
              "  'next': 'วอน',\n",
              "  'next_pos': 'NOUN',\n",
              "  'prev': 'START-WORD',\n",
              "  'prev_pos': 'START-WORD',\n",
              "  'conj-word': 'อีก-ทั้งเมือง-วอน-ซาน',\n",
              "  'conj-pos': 'DET-DET-NOUN'},\n",
              " {'current': 'วอน',\n",
              "  'current_pos': 'NOUN',\n",
              "  'next': 'ซาน',\n",
              "  'next_pos': 'NOUN',\n",
              "  'prev': 'ทั้งเมือง',\n",
              "  'prev_pos': 'DET',\n",
              "  'conj-word': 'อีก-ทั้งเมือง-วอน-ซาน- ',\n",
              "  'conj-pos': 'DET-NOUN-NOUN'},\n",
              " {'current': 'ซาน',\n",
              "  'current_pos': 'NOUN',\n",
              "  'next': ' ',\n",
              "  'next_pos': 'PUNCT',\n",
              "  'prev': 'วอน',\n",
              "  'prev_pos': 'NOUN',\n",
              "  'conj-word': 'ทั้งเมือง-วอน-ซาน- -เป็น',\n",
              "  'conj-pos': 'NOUN-NOUN-PUNCT'},\n",
              " {'current': ' ',\n",
              "  'current_pos': 'PUNCT',\n",
              "  'next': 'เป็น',\n",
              "  'next_pos': 'VERB',\n",
              "  'prev': 'ซาน',\n",
              "  'prev_pos': 'NOUN',\n",
              "  'conj-word': 'วอน-ซาน- -เป็น-เมือง',\n",
              "  'conj-pos': 'NOUN-PUNCT-VERB'},\n",
              " {'current': 'เป็น',\n",
              "  'current_pos': 'VERB',\n",
              "  'next': 'เมือง',\n",
              "  'next_pos': 'NOUN',\n",
              "  'prev': ' ',\n",
              "  'prev_pos': 'PUNCT',\n",
              "  'conj-word': 'ซาน- -เป็น-เมือง-ที่อยู่',\n",
              "  'conj-pos': 'PUNCT-VERB-NOUN'},\n",
              " {'current': 'เมือง',\n",
              "  'current_pos': 'NOUN',\n",
              "  'next': 'ที่อยู่',\n",
              "  'next_pos': 'NOUN',\n",
              "  'prev': 'เป็น',\n",
              "  'prev_pos': 'VERB',\n",
              "  'conj-word': ' -เป็น-เมือง-ที่อยู่-ใกล้',\n",
              "  'conj-pos': 'VERB-NOUN-NOUN'},\n",
              " {'current': 'ที่อยู่',\n",
              "  'current_pos': 'NOUN',\n",
              "  'next': 'ใกล้',\n",
              "  'next_pos': 'ADJ',\n",
              "  'prev': 'เมือง',\n",
              "  'prev_pos': 'NOUN',\n",
              "  'conj-word': 'เป็น-เมือง-ที่อยู่-ใกล้-สถานที่',\n",
              "  'conj-pos': 'NOUN-NOUN-ADJ'},\n",
              " {'current': 'ใกล้',\n",
              "  'current_pos': 'ADJ',\n",
              "  'next': 'สถานที่',\n",
              "  'next_pos': 'NOUN',\n",
              "  'prev': 'ที่อยู่',\n",
              "  'prev_pos': 'NOUN',\n",
              "  'conj-word': 'เมือง-ที่อยู่-ใกล้-สถานที่-ยิง',\n",
              "  'conj-pos': 'NOUN-ADJ-NOUN'},\n",
              " {'current': 'สถานที่',\n",
              "  'current_pos': 'NOUN',\n",
              "  'next': 'ยิง',\n",
              "  'next_pos': 'VERB',\n",
              "  'prev': 'ใกล้',\n",
              "  'prev_pos': 'ADJ',\n",
              "  'conj-word': 'ที่อยู่-ใกล้-สถานที่-ยิง-ขีปนาวุธ',\n",
              "  'conj-pos': 'ADJ-NOUN-VERB'},\n",
              " {'current': 'ยิง',\n",
              "  'current_pos': 'VERB',\n",
              "  'next': 'ขีปนาวุธ',\n",
              "  'next_pos': 'NOUN',\n",
              "  'prev': 'สถานที่',\n",
              "  'prev_pos': 'NOUN',\n",
              "  'conj-word': 'ใกล้-สถานที่-ยิง-ขีปนาวุธ-ของ',\n",
              "  'conj-pos': 'NOUN-VERB-NOUN'},\n",
              " {'current': 'ขีปนาวุธ',\n",
              "  'current_pos': 'NOUN',\n",
              "  'next': 'ของ',\n",
              "  'next_pos': 'ADP',\n",
              "  'prev': 'ยิง',\n",
              "  'prev_pos': 'VERB',\n",
              "  'conj-word': 'สถานที่-ยิง-ขีปนาวุธ-ของ-เกาหลีเหนือ',\n",
              "  'conj-pos': 'VERB-NOUN-ADP'},\n",
              " {'current': 'ของ',\n",
              "  'current_pos': 'ADP',\n",
              "  'next': 'เกาหลีเหนือ',\n",
              "  'next_pos': 'NOUN',\n",
              "  'prev': 'ขีปนาวุธ',\n",
              "  'prev_pos': 'NOUN',\n",
              "  'conj-word': 'ยิง-ขีปนาวุธ-ของ-เกาหลีเหนือ- ',\n",
              "  'conj-pos': 'NOUN-ADP-NOUN'},\n",
              " {'current': 'เกาหลีเหนือ',\n",
              "  'current_pos': 'NOUN',\n",
              "  'next': ' ',\n",
              "  'next_pos': 'PUNCT',\n",
              "  'prev': 'ของ',\n",
              "  'prev_pos': 'ADP',\n",
              "  'conj-word': 'ขีปนาวุธ-ของ-เกาหลีเหนือ- -7',\n",
              "  'conj-pos': 'ADP-NOUN-PUNCT'},\n",
              " {'current': ' ',\n",
              "  'current_pos': 'PUNCT',\n",
              "  'next': '7',\n",
              "  'next_pos': 'NUM',\n",
              "  'prev': 'เกาหลีเหนือ',\n",
              "  'prev_pos': 'NOUN',\n",
              "  'conj-word': 'ของ-เกาหลีเหนือ- -7- ',\n",
              "  'conj-pos': 'NOUN-PUNCT-NUM'},\n",
              " {'current': '7',\n",
              "  'current_pos': 'NUM',\n",
              "  'next': ' ',\n",
              "  'next_pos': 'PUNCT',\n",
              "  'prev': ' ',\n",
              "  'prev_pos': 'PUNCT',\n",
              "  'conj-word': 'เกาหลีเหนือ- -7- -ลูก',\n",
              "  'conj-pos': 'PUNCT-NUM-PUNCT'},\n",
              " {'current': ' ',\n",
              "  'current_pos': 'PUNCT',\n",
              "  'next': 'ลูก',\n",
              "  'next_pos': 'NOUN',\n",
              "  'prev': '7',\n",
              "  'prev_pos': 'NUM',\n",
              "  'conj-word': ' -7- -ลูก- ',\n",
              "  'conj-pos': 'NUM-PUNCT-NOUN'},\n",
              " {'current': 'ลูก',\n",
              "  'current_pos': 'NOUN',\n",
              "  'next': ' ',\n",
              "  'next_pos': 'PUNCT',\n",
              "  'prev': ' ',\n",
              "  'prev_pos': 'PUNCT',\n",
              "  'conj-word': '7- -ลูก- -เมื่อ',\n",
              "  'conj-pos': 'PUNCT-NOUN-PUNCT'},\n",
              " {'current': ' ',\n",
              "  'current_pos': 'PUNCT',\n",
              "  'next': 'เมื่อ',\n",
              "  'next_pos': 'SCONJ',\n",
              "  'prev': 'ลูก',\n",
              "  'prev_pos': 'NOUN',\n",
              "  'conj-word': ' -ลูก- -เมื่อ-วัน',\n",
              "  'conj-pos': 'NOUN-PUNCT-SCONJ'},\n",
              " {'current': 'เมื่อ',\n",
              "  'current_pos': 'SCONJ',\n",
              "  'next': 'วัน',\n",
              "  'next_pos': 'NOUN',\n",
              "  'prev': ' ',\n",
              "  'prev_pos': 'PUNCT',\n",
              "  'conj-word': 'ลูก- -เมื่อ-วัน-เสาร์',\n",
              "  'conj-pos': 'PUNCT-SCONJ-NOUN'},\n",
              " {'current': 'วัน',\n",
              "  'current_pos': 'NOUN',\n",
              "  'next': 'เสาร์',\n",
              "  'next_pos': 'NOUN',\n",
              "  'prev': 'เมื่อ',\n",
              "  'prev_pos': 'SCONJ',\n",
              "  'conj-word': ' -เมื่อ-วัน-เสาร์- ',\n",
              "  'conj-pos': 'SCONJ-NOUN-NOUN'},\n",
              " {'current': 'เสาร์',\n",
              "  'current_pos': 'NOUN',\n",
              "  'next': ' ',\n",
              "  'next_pos': 'PUNCT',\n",
              "  'prev': 'วัน',\n",
              "  'prev_pos': 'NOUN',\n",
              "  'conj-word': 'เมื่อ-วัน-เสาร์- -(',\n",
              "  'conj-pos': 'NOUN-NOUN-PUNCT'},\n",
              " {'current': ' ',\n",
              "  'current_pos': 'PUNCT',\n",
              "  'next': '(',\n",
              "  'next_pos': 'PUNCT',\n",
              "  'prev': 'เสาร์',\n",
              "  'prev_pos': 'NOUN',\n",
              "  'conj-word': 'วัน-เสาร์- -(-4',\n",
              "  'conj-pos': 'NOUN-PUNCT-PUNCT'},\n",
              " {'current': '(',\n",
              "  'current_pos': 'PUNCT',\n",
              "  'next': '4',\n",
              "  'next_pos': 'NUM',\n",
              "  'prev': ' ',\n",
              "  'prev_pos': 'PUNCT',\n",
              "  'conj-word': 'เสาร์- -(-4- ',\n",
              "  'conj-pos': 'PUNCT-PUNCT-NUM'},\n",
              " {'current': '4',\n",
              "  'current_pos': 'NUM',\n",
              "  'next': ' ',\n",
              "  'next_pos': 'PUNCT',\n",
              "  'prev': '(',\n",
              "  'prev_pos': 'PUNCT',\n",
              "  'conj-word': ' -(-4- -ก.ค.',\n",
              "  'conj-pos': 'PUNCT-NUM-PUNCT'},\n",
              " {'current': ' ',\n",
              "  'current_pos': 'PUNCT',\n",
              "  'next': 'ก.ค.',\n",
              "  'next_pos': 'NOUN',\n",
              "  'prev': '4',\n",
              "  'prev_pos': 'NUM',\n",
              "  'conj-word': '(-4- -ก.ค.-)',\n",
              "  'conj-pos': 'NUM-PUNCT-NOUN'},\n",
              " {'current': 'ก.ค.',\n",
              "  'current_pos': 'NOUN',\n",
              "  'next': ')',\n",
              "  'next_pos': 'PUNCT',\n",
              "  'prev': ' ',\n",
              "  'prev_pos': 'PUNCT',\n",
              "  'conj-word': '4- -ก.ค.-)- ',\n",
              "  'conj-pos': 'PUNCT-NOUN-PUNCT'},\n",
              " {'current': ')',\n",
              "  'current_pos': 'PUNCT',\n",
              "  'next': ' ',\n",
              "  'next_pos': 'PUNCT',\n",
              "  'prev': 'ก.ค.',\n",
              "  'prev_pos': 'NOUN',\n",
              "  'conj-word': ' -ก.ค.-)- -ซึ่ง',\n",
              "  'conj-pos': 'NOUN-PUNCT-PUNCT'},\n",
              " {'current': ' ',\n",
              "  'current_pos': 'PUNCT',\n",
              "  'next': 'ซึ่ง',\n",
              "  'next_pos': 'SCONJ',\n",
              "  'prev': ')',\n",
              "  'prev_pos': 'PUNCT',\n",
              "  'conj-word': 'ก.ค.-)- -ซึ่ง-ท้าทาย',\n",
              "  'conj-pos': 'PUNCT-PUNCT-SCONJ'},\n",
              " {'current': 'ซึ่ง',\n",
              "  'current_pos': 'SCONJ',\n",
              "  'next': 'ท้าทาย',\n",
              "  'next_pos': 'VERB',\n",
              "  'prev': ' ',\n",
              "  'prev_pos': 'PUNCT',\n",
              "  'conj-word': ')- -ซึ่ง-ท้าทาย-มติ',\n",
              "  'conj-pos': 'PUNCT-SCONJ-VERB'},\n",
              " {'current': 'ท้าทาย',\n",
              "  'current_pos': 'VERB',\n",
              "  'next': 'มติ',\n",
              "  'next_pos': 'NOUN',\n",
              "  'prev': 'ซึ่ง',\n",
              "  'prev_pos': 'SCONJ',\n",
              "  'conj-word': ' -ซึ่ง-ท้าทาย-มติ-คว่ำบาตร',\n",
              "  'conj-pos': 'SCONJ-VERB-NOUN'},\n",
              " {'current': 'มติ',\n",
              "  'current_pos': 'NOUN',\n",
              "  'next': 'คว่ำบาตร',\n",
              "  'next_pos': 'NOUN',\n",
              "  'prev': 'ท้าทาย',\n",
              "  'prev_pos': 'VERB',\n",
              "  'conj-word': 'ซึ่ง-ท้าทาย-มติ-คว่ำบาตร-ของ',\n",
              "  'conj-pos': 'VERB-NOUN-NOUN'},\n",
              " {'current': 'คว่ำบาตร',\n",
              "  'current_pos': 'NOUN',\n",
              "  'next': 'ของ',\n",
              "  'next_pos': 'ADP',\n",
              "  'prev': 'มติ',\n",
              "  'prev_pos': 'NOUN',\n",
              "  'conj-word': 'ท้าทาย-มติ-คว่ำบาตร-ของ-สหประชาชาติ',\n",
              "  'conj-pos': 'NOUN-NOUN-ADP'},\n",
              " {'current': 'ของ',\n",
              "  'current_pos': 'ADP',\n",
              "  'next': 'สหประชาชาติ',\n",
              "  'next_pos': 'NOUN',\n",
              "  'prev': 'คว่ำบาตร',\n",
              "  'prev_pos': 'NOUN',\n",
              "  'conj-word': 'มติ-คว่ำบาตร-ของ-สหประชาชาติ- ',\n",
              "  'conj-pos': 'NOUN-ADP-NOUN'},\n",
              " {'current': 'สหประชาชาติ',\n",
              "  'current_pos': 'NOUN',\n",
              "  'next': ' ',\n",
              "  'next_pos': 'PUNCT',\n",
              "  'prev': 'ของ',\n",
              "  'prev_pos': 'ADP',\n",
              "  'conj-word': 'คว่ำบาตร-ของ-สหประชาชาติ- -(',\n",
              "  'conj-pos': 'ADP-NOUN-PUNCT'},\n",
              " {'current': ' ',\n",
              "  'current_pos': 'PUNCT',\n",
              "  'next': '(',\n",
              "  'next_pos': 'PUNCT',\n",
              "  'prev': 'สหประชาชาติ',\n",
              "  'prev_pos': 'NOUN',\n",
              "  'conj-word': 'ของ-สหประชาชาติ- -(-ยูเอ็น',\n",
              "  'conj-pos': 'NOUN-PUNCT-PUNCT'},\n",
              " {'current': '(',\n",
              "  'current_pos': 'PUNCT',\n",
              "  'next': 'ยูเอ็น',\n",
              "  'next_pos': 'NOUN',\n",
              "  'prev': ' ',\n",
              "  'prev_pos': 'PUNCT',\n",
              "  'conj-word': 'สหประชาชาติ- -(-ยูเอ็น-)',\n",
              "  'conj-pos': 'PUNCT-PUNCT-NOUN'},\n",
              " {'current': 'ยูเอ็น',\n",
              "  'current_pos': 'NOUN',\n",
              "  'next': ')',\n",
              "  'next_pos': 'PUNCT',\n",
              "  'prev': '(',\n",
              "  'prev_pos': 'PUNCT',\n",
              "  'conj-word': ' -(-ยูเอ็น-)- ',\n",
              "  'conj-pos': 'PUNCT-NOUN-PUNCT'},\n",
              " {'current': ')',\n",
              "  'current_pos': 'PUNCT',\n",
              "  'next': ' ',\n",
              "  'next_pos': 'PUNCT',\n",
              "  'prev': 'ยูเอ็น',\n",
              "  'prev_pos': 'NOUN',\n",
              "  'conj-word': '(-ยูเอ็น-)- -เป็นอย่างมาก',\n",
              "  'conj-pos': 'NOUN-PUNCT-PUNCT'},\n",
              " {'current': ' ',\n",
              "  'current_pos': 'PUNCT',\n",
              "  'next': 'เป็นอย่างมาก',\n",
              "  'next_pos': 'ADV',\n",
              "  'prev': ')',\n",
              "  'prev_pos': 'PUNCT',\n",
              "  'conj-word': 'ยูเอ็น-)- -เป็นอย่างมาก',\n",
              "  'conj-pos': 'PUNCT-PUNCT-ADV'},\n",
              " {'current': 'เป็นอย่างมาก',\n",
              "  'current_pos': 'ADV',\n",
              "  'next': 'END-WORD',\n",
              "  'next_pos': 'END-WORD',\n",
              "  'prev': ' ',\n",
              "  'prev_pos': 'PUNCT'}]"
            ]
          },
          "metadata": {},
          "execution_count": 23
        }
      ],
      "source": [
        "from pythainlp import pos_tag\n",
        "tok_seq_list = [[(x[0], x[1]) for x in pos_tag(s, corpus='orchid_ud')] for s in token_seq_list]\n",
        "def featurize(feature_function_list, tokens):\n",
        "    feature_dict_seq = []\n",
        "    for i in range(len(tokens)):\n",
        "        feature_dict = {}\n",
        "        for feature_fn in feature_function_list:\n",
        "            if feature_fn == 'conjunctive_word':\n",
        "                if i == 0 or i == len(tokens)-1:\n",
        "                    pass\n",
        "                else:\n",
        "                    feature_dict.update(feature_fn(i, tokens))\n",
        "            else:\n",
        "                feature_dict.update(feature_fn(i, tokens))\n",
        "        feature_dict_seq.append(feature_dict)\n",
        "    if len(tokens) > 2:\n",
        "        feature_dict_seq[0].pop('conj-word', None)\n",
        "        feature_dict_seq[-1].pop('conj-word', None)\n",
        "        feature_dict_seq[0].pop('conj-pos', None)\n",
        "        feature_dict_seq[-1].pop('conj-pos', None)\n",
        "    return feature_dict_seq\n",
        "feature_functions = [current, current_pos, next, next_pos, prev, prev_pos, conjunctive_word, conjunctive_pos]\n",
        "feature_seq_list = [featurize(feature_functions, token_list) for token_list in tok_seq_list]\n",
        "feature_seq_list[-1]"
      ]
    },
    {
      "cell_type": "code",
      "execution_count": null,
      "metadata": {
        "id": "wLNS4uHtNjAv"
      },
      "outputs": [],
      "source": [
        "feature_seq_list[-1]"
      ]
    },
    {
      "cell_type": "code",
      "execution_count": null,
      "metadata": {
        "id": "_uxT9xa7QtDw"
      },
      "outputs": [],
      "source": [
        "dev_list = [[(x[0], x[1]) for x in pos_tag(s, corpus='orchid_ud')] for s in dev_seq_list]"
      ]
    },
    {
      "cell_type": "code",
      "execution_count": null,
      "metadata": {
        "id": "Jw7Xd_54l5j5"
      },
      "outputs": [],
      "source": [
        "test_list = [[(x[0], x[1]) for x in pos_tag(s, corpus='orchid_ud')] for s in test_seq_list]"
      ]
    },
    {
      "cell_type": "code",
      "execution_count": null,
      "metadata": {
        "id": "NSAd1CunQAPT"
      },
      "outputs": [],
      "source": [
        "feature_functions = [current, current_pos, next, next_pos, prev, prev_pos, conjunctive_word, conjunctive_pos]\n",
        "feature_seq_list = [featurize(feature_functions, token_list) for token_list in dev_list]\n",
        "feature_seq_list[0]"
      ]
    },
    {
      "cell_type": "code",
      "execution_count": null,
      "metadata": {
        "id": "IO9M0ACJRQoJ",
        "colab": {
          "base_uri": "https://localhost:8080/"
        },
        "outputId": "c81e8c2d-ecf1-4ed3-e98b-81ddf641aa7e"
      },
      "outputs": [
        {
          "output_type": "execute_result",
          "data": {
            "text/plain": [
              "[{'current': 'สั่ง',\n",
              "  'current_pos': 'VERB',\n",
              "  'next': 'คุม',\n",
              "  'next_pos': 'NOUN',\n",
              "  'prev': 'START-WORD',\n",
              "  'prev_pos': 'START-WORD'},\n",
              " {'current': 'คุม',\n",
              "  'current_pos': 'NOUN',\n",
              "  'next': 'เข้ม',\n",
              "  'next_pos': 'ADJ',\n",
              "  'prev': 'START-WORD',\n",
              "  'prev_pos': 'START-WORD',\n",
              "  'conj-word': 'สั่ง-คุม-เข้ม-\"',\n",
              "  'conj-pos': 'VERB-NOUN-ADJ'},\n",
              " {'current': 'เข้ม',\n",
              "  'current_pos': 'ADJ',\n",
              "  'next': '\"',\n",
              "  'next_pos': 'PUNCT',\n",
              "  'prev': 'คุม',\n",
              "  'prev_pos': 'NOUN',\n",
              "  'conj-word': 'สั่ง-คุม-เข้ม-\"-ชุมชน',\n",
              "  'conj-pos': 'NOUN-ADJ-PUNCT'},\n",
              " {'current': '\"',\n",
              "  'current_pos': 'PUNCT',\n",
              "  'next': 'ชุมชน',\n",
              "  'next_pos': 'NOUN',\n",
              "  'prev': 'เข้ม',\n",
              "  'prev_pos': 'ADJ',\n",
              "  'conj-word': 'คุม-เข้ม-\"-ชุมชน-แพง',\n",
              "  'conj-pos': 'ADJ-PUNCT-NOUN'},\n",
              " {'current': 'ชุมชน',\n",
              "  'current_pos': 'NOUN',\n",
              "  'next': 'แพง',\n",
              "  'next_pos': 'ADJ',\n",
              "  'prev': '\"',\n",
              "  'prev_pos': 'PUNCT',\n",
              "  'conj-word': 'เข้ม-\"-ชุมชน-แพง-เพียบ',\n",
              "  'conj-pos': 'PUNCT-NOUN-ADJ'},\n",
              " {'current': 'แพง',\n",
              "  'current_pos': 'ADJ',\n",
              "  'next': 'เพียบ',\n",
              "  'next_pos': 'NOUN',\n",
              "  'prev': 'ชุมชน',\n",
              "  'prev_pos': 'NOUN',\n",
              "  'conj-word': '\"-ชุมชน-แพง-เพียบ-\"',\n",
              "  'conj-pos': 'NOUN-ADJ-NOUN'},\n",
              " {'current': 'เพียบ',\n",
              "  'current_pos': 'NOUN',\n",
              "  'next': '\"',\n",
              "  'next_pos': 'PUNCT',\n",
              "  'prev': 'แพง',\n",
              "  'prev_pos': 'ADJ',\n",
              "  'conj-word': 'ชุมชน-แพง-เพียบ-\"- ',\n",
              "  'conj-pos': 'ADJ-NOUN-PUNCT'},\n",
              " {'current': '\"',\n",
              "  'current_pos': 'PUNCT',\n",
              "  'next': ' ',\n",
              "  'next_pos': 'PUNCT',\n",
              "  'prev': 'เพียบ',\n",
              "  'prev_pos': 'NOUN',\n",
              "  'conj-word': 'แพง-เพียบ-\"- -โละ',\n",
              "  'conj-pos': 'NOUN-PUNCT-PUNCT'},\n",
              " {'current': ' ',\n",
              "  'current_pos': 'PUNCT',\n",
              "  'next': 'โละ',\n",
              "  'next_pos': 'NOUN',\n",
              "  'prev': '\"',\n",
              "  'prev_pos': 'PUNCT',\n",
              "  'conj-word': 'เพียบ-\"- -โละ-สินค้า',\n",
              "  'conj-pos': 'PUNCT-PUNCT-NOUN'},\n",
              " {'current': 'โละ',\n",
              "  'current_pos': 'NOUN',\n",
              "  'next': 'สินค้า',\n",
              "  'next_pos': 'NOUN',\n",
              "  'prev': ' ',\n",
              "  'prev_pos': 'PUNCT',\n",
              "  'conj-word': '\"- -โละ-สินค้า-พลัง',\n",
              "  'conj-pos': 'PUNCT-NOUN-NOUN'},\n",
              " {'current': 'สินค้า',\n",
              "  'current_pos': 'NOUN',\n",
              "  'next': 'พลัง',\n",
              "  'next_pos': 'NOUN',\n",
              "  'prev': 'โละ',\n",
              "  'prev_pos': 'NOUN',\n",
              "  'conj-word': ' -โละ-สินค้า-พลัง-แสงอาทิตย์',\n",
              "  'conj-pos': 'NOUN-NOUN-NOUN'},\n",
              " {'current': 'พลัง',\n",
              "  'current_pos': 'NOUN',\n",
              "  'next': 'แสงอาทิตย์',\n",
              "  'next_pos': 'NOUN',\n",
              "  'prev': 'สินค้า',\n",
              "  'prev_pos': 'NOUN',\n",
              "  'conj-word': 'โละ-สินค้า-พลัง-แสงอาทิตย์',\n",
              "  'conj-pos': 'NOUN-NOUN-NOUN'},\n",
              " {'current': 'แสงอาทิตย์',\n",
              "  'current_pos': 'NOUN',\n",
              "  'next': 'END-WORD',\n",
              "  'next_pos': 'END-WORD',\n",
              "  'prev': 'พลัง',\n",
              "  'prev_pos': 'NOUN'}]"
            ]
          },
          "metadata": {},
          "execution_count": 30
        }
      ],
      "source": [
        "feature_functions = [current, current_pos, next, next_pos, prev, prev_pos, conjunctive_word, conjunctive_pos]\n",
        "test_feature_seq_list = [featurize(feature_functions, token_list) for token_list in test_list]\n",
        "test_feature_seq_list[0]"
      ]
    },
    {
      "cell_type": "code",
      "execution_count": null,
      "metadata": {
        "id": "lyBApy9SWHzr"
      },
      "outputs": [],
      "source": [
        "for x_seq, y_seq in zip(token_seq_list, label_seq_list):\n",
        "  a = len(x_seq) - len(y_seq)\n",
        "  if a != 0:\n",
        "    print(len(x_seq) - len(y_seq))"
      ]
    },
    {
      "cell_type": "code",
      "execution_count": null,
      "metadata": {
        "colab": {
          "base_uri": "https://localhost:8080/"
        },
        "id": "0Lq7XEpktMIV",
        "outputId": "29846f7c-5bbe-4a6f-9af6-b9873395d696"
      },
      "outputs": [
        {
          "output_type": "execute_result",
          "data": {
            "text/plain": [
              "68930"
            ]
          },
          "metadata": {},
          "execution_count": 39
        }
      ],
      "source": [
        "len(feature_seq_list)"
      ]
    },
    {
      "cell_type": "markdown",
      "metadata": {
        "id": "8Jj_em90WcG2"
      },
      "source": [
        "#Train CRF"
      ]
    },
    {
      "cell_type": "code",
      "execution_count": null,
      "metadata": {
        "colab": {
          "base_uri": "https://localhost:8080/",
          "height": 35
        },
        "id": "Mhjs154WWbV-",
        "outputId": "f0439374-9c4e-46cc-e53a-c952d28c2e34"
      },
      "outputs": [
        {
          "output_type": "execute_result",
          "data": {
            "text/plain": [
              "'1.2.2'"
            ],
            "application/vnd.google.colaboratory.intrinsic+json": {
              "type": "string"
            }
          },
          "metadata": {},
          "execution_count": 24
        }
      ],
      "source": [
        "import sklearn\n",
        "sklearn.__version__"
      ]
    },
    {
      "cell_type": "code",
      "execution_count": null,
      "metadata": {
        "colab": {
          "base_uri": "https://localhost:8080/",
          "height": 75
        },
        "id": "9tMm5hN96qrO",
        "outputId": "69f90667-c796-4ce9-b25b-9ae1128b1dbb"
      },
      "outputs": [
        {
          "output_type": "execute_result",
          "data": {
            "text/plain": [
              "CRF()"
            ],
            "text/html": [
              "<style>#sk-container-id-1 {color: black;background-color: white;}#sk-container-id-1 pre{padding: 0;}#sk-container-id-1 div.sk-toggleable {background-color: white;}#sk-container-id-1 label.sk-toggleable__label {cursor: pointer;display: block;width: 100%;margin-bottom: 0;padding: 0.3em;box-sizing: border-box;text-align: center;}#sk-container-id-1 label.sk-toggleable__label-arrow:before {content: \"▸\";float: left;margin-right: 0.25em;color: #696969;}#sk-container-id-1 label.sk-toggleable__label-arrow:hover:before {color: black;}#sk-container-id-1 div.sk-estimator:hover label.sk-toggleable__label-arrow:before {color: black;}#sk-container-id-1 div.sk-toggleable__content {max-height: 0;max-width: 0;overflow: hidden;text-align: left;background-color: #f0f8ff;}#sk-container-id-1 div.sk-toggleable__content pre {margin: 0.2em;color: black;border-radius: 0.25em;background-color: #f0f8ff;}#sk-container-id-1 input.sk-toggleable__control:checked~div.sk-toggleable__content {max-height: 200px;max-width: 100%;overflow: auto;}#sk-container-id-1 input.sk-toggleable__control:checked~label.sk-toggleable__label-arrow:before {content: \"▾\";}#sk-container-id-1 div.sk-estimator input.sk-toggleable__control:checked~label.sk-toggleable__label {background-color: #d4ebff;}#sk-container-id-1 div.sk-label input.sk-toggleable__control:checked~label.sk-toggleable__label {background-color: #d4ebff;}#sk-container-id-1 input.sk-hidden--visually {border: 0;clip: rect(1px 1px 1px 1px);clip: rect(1px, 1px, 1px, 1px);height: 1px;margin: -1px;overflow: hidden;padding: 0;position: absolute;width: 1px;}#sk-container-id-1 div.sk-estimator {font-family: monospace;background-color: #f0f8ff;border: 1px dotted black;border-radius: 0.25em;box-sizing: border-box;margin-bottom: 0.5em;}#sk-container-id-1 div.sk-estimator:hover {background-color: #d4ebff;}#sk-container-id-1 div.sk-parallel-item::after {content: \"\";width: 100%;border-bottom: 1px solid gray;flex-grow: 1;}#sk-container-id-1 div.sk-label:hover label.sk-toggleable__label {background-color: #d4ebff;}#sk-container-id-1 div.sk-serial::before {content: \"\";position: absolute;border-left: 1px solid gray;box-sizing: border-box;top: 0;bottom: 0;left: 50%;z-index: 0;}#sk-container-id-1 div.sk-serial {display: flex;flex-direction: column;align-items: center;background-color: white;padding-right: 0.2em;padding-left: 0.2em;position: relative;}#sk-container-id-1 div.sk-item {position: relative;z-index: 1;}#sk-container-id-1 div.sk-parallel {display: flex;align-items: stretch;justify-content: center;background-color: white;position: relative;}#sk-container-id-1 div.sk-item::before, #sk-container-id-1 div.sk-parallel-item::before {content: \"\";position: absolute;border-left: 1px solid gray;box-sizing: border-box;top: 0;bottom: 0;left: 50%;z-index: -1;}#sk-container-id-1 div.sk-parallel-item {display: flex;flex-direction: column;z-index: 1;position: relative;background-color: white;}#sk-container-id-1 div.sk-parallel-item:first-child::after {align-self: flex-end;width: 50%;}#sk-container-id-1 div.sk-parallel-item:last-child::after {align-self: flex-start;width: 50%;}#sk-container-id-1 div.sk-parallel-item:only-child::after {width: 0;}#sk-container-id-1 div.sk-dashed-wrapped {border: 1px dashed gray;margin: 0 0.4em 0.5em 0.4em;box-sizing: border-box;padding-bottom: 0.4em;background-color: white;}#sk-container-id-1 div.sk-label label {font-family: monospace;font-weight: bold;display: inline-block;line-height: 1.2em;}#sk-container-id-1 div.sk-label-container {text-align: center;}#sk-container-id-1 div.sk-container {/* jupyter's `normalize.less` sets `[hidden] { display: none; }` but bootstrap.min.css set `[hidden] { display: none !important; }` so we also need the `!important` here to be able to override the default hidden behavior on the sphinx rendered scikit-learn.org. See: https://github.com/scikit-learn/scikit-learn/issues/21755 */display: inline-block !important;position: relative;}#sk-container-id-1 div.sk-text-repr-fallback {display: none;}</style><div id=\"sk-container-id-1\" class=\"sk-top-container\"><div class=\"sk-text-repr-fallback\"><pre>CRF()</pre><b>In a Jupyter environment, please rerun this cell to show the HTML representation or trust the notebook. <br />On GitHub, the HTML representation is unable to render, please try loading this page with nbviewer.org.</b></div><div class=\"sk-container\" hidden><div class=\"sk-item\"><div class=\"sk-estimator sk-toggleable\"><input class=\"sk-toggleable__control sk-hidden--visually\" id=\"sk-estimator-id-1\" type=\"checkbox\" checked><label for=\"sk-estimator-id-1\" class=\"sk-toggleable__label sk-toggleable__label-arrow\">CRF</label><div class=\"sk-toggleable__content\"><pre>CRF()</pre></div></div></div></div></div>"
            ]
          },
          "metadata": {},
          "execution_count": 25
        }
      ],
      "source": [
        "import sklearn_crfsuite\n",
        "crf = sklearn_crfsuite.CRF()\n",
        "crf.keep_tempfiles = False\n",
        "crf.model_filename= None\n",
        "crf.fit(feature_seq_list, label_seq_list)"
      ]
    },
    {
      "cell_type": "markdown",
      "metadata": {
        "id": "WE5O9lipW9VN"
      },
      "source": [
        "# Evaluate\n"
      ]
    },
    {
      "cell_type": "code",
      "execution_count": null,
      "metadata": {
        "id": "fS5PQfbhWoKr",
        "colab": {
          "base_uri": "https://localhost:8080/"
        },
        "outputId": "0168c3c7-278f-48ea-eea3-9a0a74d57524"
      },
      "outputs": [
        {
          "output_type": "execute_result",
          "data": {
            "text/plain": [
              "[['O', 'O', 'O', 'O', 'O', 'O', 'O', 'O', 'O', 'O'],\n",
              " ['B_PER',\n",
              "  'I_PER',\n",
              "  'I_PER',\n",
              "  'I_PER',\n",
              "  'O',\n",
              "  'O',\n",
              "  'O',\n",
              "  'O',\n",
              "  'B_NUM',\n",
              "  'O',\n",
              "  'B_MEA',\n",
              "  'I_MEA',\n",
              "  'O',\n",
              "  'B_NUM',\n",
              "  'O',\n",
              "  'O',\n",
              "  'O',\n",
              "  'O',\n",
              "  'O',\n",
              "  'O',\n",
              "  'O',\n",
              "  'O',\n",
              "  'O',\n",
              "  'O',\n",
              "  'B_MEA',\n",
              "  'I_MEA',\n",
              "  'I_MEA',\n",
              "  'O',\n",
              "  'O',\n",
              "  'O',\n",
              "  'O',\n",
              "  'O',\n",
              "  'O',\n",
              "  'O',\n",
              "  'O',\n",
              "  'O',\n",
              "  'O',\n",
              "  'O',\n",
              "  'B_MEA',\n",
              "  'O',\n",
              "  'O',\n",
              "  'O',\n",
              "  'O',\n",
              "  'O']]"
            ]
          },
          "metadata": {},
          "execution_count": 26
        }
      ],
      "source": [
        "pred = crf.predict(feature_seq_list)\n",
        "pred[0:2]"
      ]
    },
    {
      "cell_type": "code",
      "execution_count": null,
      "metadata": {
        "id": "U50g2DMnDhkz",
        "colab": {
          "base_uri": "https://localhost:8080/"
        },
        "outputId": "223f5a24-dab9-485b-f6d8-5e3427367524"
      },
      "outputs": [
        {
          "output_type": "execute_result",
          "data": {
            "text/plain": [
              "[['O',\n",
              "  'O',\n",
              "  'O',\n",
              "  'O',\n",
              "  'O',\n",
              "  'O',\n",
              "  'O',\n",
              "  'O',\n",
              "  'O',\n",
              "  'O',\n",
              "  'O',\n",
              "  'O',\n",
              "  'O',\n",
              "  'O',\n",
              "  'O',\n",
              "  'O',\n",
              "  'O',\n",
              "  'O',\n",
              "  'O',\n",
              "  'O',\n",
              "  'O',\n",
              "  'O',\n",
              "  'O',\n",
              "  'O',\n",
              "  'O'],\n",
              " ['O',\n",
              "  'O',\n",
              "  'B_ORG',\n",
              "  'O',\n",
              "  'O',\n",
              "  'O',\n",
              "  'O',\n",
              "  'O',\n",
              "  'O',\n",
              "  'O',\n",
              "  'O',\n",
              "  'O',\n",
              "  'O',\n",
              "  'O',\n",
              "  'O',\n",
              "  'O',\n",
              "  'O',\n",
              "  'B_ORG',\n",
              "  'O',\n",
              "  'O',\n",
              "  'O',\n",
              "  'O',\n",
              "  'O',\n",
              "  'O',\n",
              "  'O',\n",
              "  'O',\n",
              "  'O',\n",
              "  'O',\n",
              "  'O',\n",
              "  'O',\n",
              "  'O',\n",
              "  'O',\n",
              "  'O',\n",
              "  'O',\n",
              "  'B_ORG',\n",
              "  'O',\n",
              "  'O',\n",
              "  'O',\n",
              "  'O',\n",
              "  'O',\n",
              "  'O',\n",
              "  'O',\n",
              "  'O',\n",
              "  'O']]"
            ]
          },
          "metadata": {},
          "execution_count": 31
        }
      ],
      "source": [
        "test_pred = crf.predict(test_feature_seq_list)\n",
        "test_pred[-2:]"
      ]
    },
    {
      "cell_type": "code",
      "execution_count": null,
      "metadata": {
        "id": "AWMMxuc-RyFl"
      },
      "outputs": [],
      "source": [
        "dev_pred = crf.predict(feature_seq_list)\n",
        "dev_pred[-2:]"
      ]
    },
    {
      "cell_type": "code",
      "execution_count": null,
      "metadata": {
        "id": "nUWukQ4CXIKt",
        "colab": {
          "base_uri": "https://localhost:8080/"
        },
        "outputId": "4c298c1f-2ce8-4480-f3a1-514f2f2f01af"
      },
      "outputs": [
        {
          "output_type": "stream",
          "name": "stderr",
          "text": [
            "/usr/local/lib/python3.9/dist-packages/sklearn/metrics/_classification.py:1344: UndefinedMetricWarning: Precision and F-score are ill-defined and being set to 0.0 in labels with no predicted samples. Use `zero_division` parameter to control this behavior.\n",
            "  _warn_prf(average, modifier, msg_start, len(result))\n",
            "/usr/local/lib/python3.9/dist-packages/sklearn/metrics/_classification.py:1344: UndefinedMetricWarning: Precision and F-score are ill-defined and being set to 0.0 in labels with no predicted samples. Use `zero_division` parameter to control this behavior.\n",
            "  _warn_prf(average, modifier, msg_start, len(result))\n"
          ]
        },
        {
          "output_type": "stream",
          "name": "stdout",
          "text": [
            "              precision    recall  f1-score   support\n",
            "\n",
            "       B_BRN       0.86      0.33      0.48       460\n",
            "       B_DES       0.89      0.84      0.86     16915\n",
            "       B_DTM       0.87      0.82      0.84     14882\n",
            "       B_LOC       0.82      0.77      0.79     31202\n",
            "       B_MEA       0.80      0.76      0.78     32214\n",
            "      B_NAME       0.00      0.00      0.00        14\n",
            "       B_NUM       0.74      0.68      0.71     13569\n",
            "       B_ORG       0.84      0.76      0.80     46454\n",
            "       B_PER       0.92      0.89      0.91     45666\n",
            "       B_TRM       0.82      0.60      0.69       898\n",
            "       B_TTL       0.93      0.95      0.94     21444\n",
            "       I_BRN       0.88      0.50      0.63       505\n",
            "       I_DES       0.87      0.83      0.85      6370\n",
            "       I_DTM       0.88      0.95      0.91     46211\n",
            "       I_LOC       0.83      0.85      0.84     29985\n",
            "       I_MEA       0.71      0.89      0.79     25103\n",
            "      I_NAME       0.00      0.00      0.00        23\n",
            "       I_NUM       0.82      0.84      0.83      4063\n",
            "       I_ORG       0.84      0.86      0.85     54913\n",
            "       I_PER       0.90      0.96      0.93     99091\n",
            "       I_TRM       0.87      0.62      0.73      1087\n",
            "       I_TTL       0.88      0.82      0.85      1022\n",
            "           O       0.98      0.98      0.98   2262877\n",
            "\n",
            "    accuracy                           0.96   2754968\n",
            "   macro avg       0.78      0.72      0.74   2754968\n",
            "weighted avg       0.96      0.96      0.96   2754968\n",
            "\n"
          ]
        },
        {
          "output_type": "stream",
          "name": "stderr",
          "text": [
            "/usr/local/lib/python3.9/dist-packages/sklearn/metrics/_classification.py:1344: UndefinedMetricWarning: Precision and F-score are ill-defined and being set to 0.0 in labels with no predicted samples. Use `zero_division` parameter to control this behavior.\n",
            "  _warn_prf(average, modifier, msg_start, len(result))\n"
          ]
        }
      ],
      "source": [
        "from sklearn.metrics import classification_report\n",
        "flat_gold_list = [label for seq in label_seq_list for label in seq]\n",
        "flat_pred_list = [label for seq in pred for label in seq]\n",
        "print(classification_report(flat_gold_list, flat_pred_list))"
      ]
    },
    {
      "cell_type": "code",
      "execution_count": null,
      "metadata": {
        "id": "vZO3lwrzrST3"
      },
      "outputs": [],
      "source": [
        "dev_mapped_list = [list(zip(words, labels)) for words, labels in zip(dev_seq_list, dev_pred)]"
      ]
    },
    {
      "cell_type": "code",
      "execution_count": null,
      "metadata": {
        "id": "tQBMBLT7KL88"
      },
      "outputs": [],
      "source": [
        "test_mapped_list = [list(zip(words, labels)) for words, labels in zip(test_seq_list, test_pred)]"
      ]
    },
    {
      "cell_type": "code",
      "execution_count": null,
      "metadata": {
        "colab": {
          "base_uri": "https://localhost:8080/"
        },
        "id": "_sMkO54_rThW",
        "outputId": "83289691-d71a-4eb7-a4d7-fb3505da38f9"
      },
      "outputs": [
        {
          "output_type": "execute_result",
          "data": {
            "text/plain": [
              "5250"
            ]
          },
          "metadata": {},
          "execution_count": 33
        }
      ],
      "source": [
        "len(test_mapped_list)"
      ]
    },
    {
      "cell_type": "code",
      "execution_count": null,
      "metadata": {
        "id": "Mbkm_CWLdnYC"
      },
      "outputs": [],
      "source": [
        "from lst20utils import extract_sentences_from_files, extract_entities, retag"
      ]
    },
    {
      "cell_type": "code",
      "execution_count": null,
      "metadata": {
        "id": "lI0cNXSGeJxQ"
      },
      "outputs": [],
      "source": [
        "import json\n",
        "def write_entity_file(sentences, file_name):\n",
        "    solution = []\n",
        "    for s in sentences:\n",
        "        _, entities = extract_entities(s)\n",
        "        solution.append(entities)\n",
        "    with open(file_name, mode='w', encoding='utf8') as f:\n",
        "        json.dump(solution, f, indent=4)\n",
        "    return solution"
      ]
    },
    {
      "cell_type": "code",
      "execution_count": null,
      "metadata": {
        "id": "b6k4wmUCuGZ-"
      },
      "outputs": [],
      "source": [
        "sentences = [[('\"', 'O'), ('อ.', 'B_LOC'), ('สม', 'O'), ('พจน์', 'O'), ('\"', 'O'), ('แต่ง', 'O'), ('\"', 'O'), ('แพนด้า', 'O'), ('น่ารัก', 'O'), ('\"', 'O'), (' ', 'O'), ('ตุน', 'O'), ('เพลง', 'O'), ('รอ', 'O'), ('\"', 'O'), ('ลูกกรุง', 'O'), ('\"', 'O'), ('กลับมา', 'O'), ('อีก', 'O')], [('หลังจากที่', 'O'), ('มี', 'O'), ('ข่าว', 'O'), ('ว่า', 'O'), ('ได้', 'O'), ('แต่งเพลง', 'O'), ('แพนด้า', 'O'), ('น่ารัก', 'O'), (' ', 'O'), ('เพื่อ', 'O'), ('มอบให้', 'O'), ('ลูก', 'O'), ('ของ', 'O'), ('ช่วง', 'O'), ('ช่วง', 'O'), ('และ', 'O'), ('หลินฮุ่ย', 'O'), (' ', 'O'), ('แม้', 'O'), ('จะ', 'O'), ('ยัง', 'O'), ('ไม่', 'O'), ('ทราบ', 'O'), ('ว่า', 'O'), ('ลูก', 'O'), ('หมี', 'O'), ('แพนด้า', 'O'), ('น้อย', 'O'), ('ชื่อ', 'O'), ('อะไรก็ตาม', 'O'), (' ', 'O'), ('อ.', 'O'), ('สม', 'B_PER'), ('พจน์', 'I_PER'), (' ', 'I_PER'), ('สิงห์', 'I_PER'), ('สุวรรณ', 'I_PER'), (' ', 'I_PER'), ('ได้', 'O'), ('ให้', 'O'), ('สัมภาษณ์', 'O'), ('ที่', 'O'), ('บ้าน', 'O'), ('ฝัน', 'O'), ('ตะวัน', 'O'), ('รัญจวน', 'O'), (' ', 'O'), ('ลาดพร้าว', 'O'), (' ', 'O'), ('124', 'O'), (' ', 'O'), ('ว่า', 'O')], [('\"', 'O'), ('สาเหตุ', 'O'), ('ที่', 'O'), ('ผม', 'O'), ('แต่งเพลง', 'O'), ('แพนด้า', 'O'), ('น่ารัก', 'O'), (' ', 'O'), ('ก็', 'O'), ('เพราะ', 'O'), ('อยาก', 'O'), ('จะ', 'O'), ('มีส่วน', 'O'), ('ร่วมใน', 'O'), ('การ', 'O'), ('ต้อนรับ', 'O'), ('ครอบครัว', 'O'), ('หมี', 'O'), ('แพนด้า', 'O'), (' ', 'O'), ('ซึ่ง', 'O'), ('ทางการ', 'O'), ('จีน', 'B_LOC'), ('ส่ง', 'O'), ('มา', 'O'), ('อยู่', 'O'), ('ที่', 'O'), ('ประเทศ', 'B_LOC'), ('ไทย', 'I_LOC'), ('ทูต', 'O'), ('วัฒนธรรม', 'O'), (' ', 'O'), ('ผม', 'O'), ('แต่งเพลง', 'O'), ('นี้', 'O'), ('เสร็จ', 'O'), ('เรียบร้อย', 'O'), ('แล้ว', 'O'), (' ', 'O'), ('ถึง', 'O'), ('ได้', 'O'), ('พบ', 'O'), ('กับ', 'O'), ('น้อง', 'O'), ('ออมสิน', 'O'), ('ที่', 'O'), ('บ้าน', 'O'), ('ฝัน', 'O'), ('ฯ', 'O'), (' ', 'O'), ('เมื่อ', 'O'), ('ทาบทาม', 'O'), ('ให้', 'O'), ('ร้องเพลง', 'O'), ('นี้', 'O'), ('น้อง', 'O'), ('ออมสิน', 'O'), ('ก็', 'O'), ('รีบ', 'O'), ('ตกลง', 'O'), ('ทันที', 'O'), (' ', 'O'), ('อีก', 'O'), ('สอง', 'B_MEA'), ('วัน', 'I_MEA'), ('ต่อมา', 'O'), ('ก็', 'O'), ('เข้า', 'O'), ('ห้อง', 'O'), ('อัด', 'O'), ('เรียบร้อย', 'O'), (' ', 'O'), ('ประมาณ', 'O'), ('สัปดาห์', 'O'), ('หน้า', 'O'), ('จะ', 'O'), ('ฟังเพลง', 'O'), ('แพนด้า', 'O'), ('น่ารัก', 'O'), ('ได้ที่', 'O'), (' ', 'O'), ('www', 'O'), ('.', 'B_ORG'), ('you', 'I_ORG'), ('2', 'I_ORG'), ('play', 'I_ORG'), ('.', 'I_ORG'), ('com', 'O')], [('นอกจาก', 'O'), ('เพลง', 'O'), ('แพนด้า', 'O'), ('น่ารัก', 'O'), ('แล้ว', 'O'), (' ', 'O'), ('ผม', 'O'), ('ยัง', 'O'), ('แต่ง', 'O'), ('อีก', 'O'), ('หลาย', 'O'), ('เพลง', 'O'), ('เป็น', 'O'), ('เพลง', 'O'), ('ไม่เชิง', 'O'), ('ลูกกรุง', 'O'), (' ', 'O'), ('เป็น', 'O'), ('เพลง', 'O'), ('สมัยนิยม', 'O'), ('แนว', 'O'), ('ป็อป', 'O'), ('แจ๊ส', 'O'), (' ', 'O'), ('ให้', 'O'), ('คุณ', 'O'), ('ชูใจ', 'O'), (' ', 'O'), ('เพ', 'O'), ('ชรา', 'O'), (' ', 'O'), ('ลูกศิษย์', 'O'), ('คน', 'O'), ('ใหม่', 'O'), ('ร้อง', 'O'), (' ', 'O'), ('และ', 'O'), ('ยัง', 'O'), ('แต่งเพลง', 'O'), ('ใหม่', 'O'), ('ให้', 'O'), ('คุณ', 'O'), ('โฉมฉาย', 'O'), (' ', 'O'), ('อรุณ', 'O'), ('ฉาน', 'O'), (' ', 'O'), ('ร้อง', 'O'), ('อีกด้วย', 'O')], [('ขณะนี้', 'O'), ('กำลัง', 'O'), ('แต่งเพลง', 'O'), ('หนุ่ม', 'O'), ('กางเกงแพร', 'O'), (' ', 'O'), ('สำหรับ', 'O'), ('งาน', 'O'), ('กางเกงแพร', 'O'), ('อิน', 'O'), ('คอนเสิร์ต', 'O'), (' ', 'O'), ('ผม', 'O'), ('คิด', 'O'), ('ว่า', 'O'), ('ปีหน้า', 'O'), ('เพลง', 'O'), ('ลูกกรุง', 'O'), ('คงจะ', 'O'), ('กลับมา', 'O'), ('แน่นอน', 'O'), (' ', 'O'), ('ผม', 'O'), ('จึง', 'O'), ('ได้', 'O'), ('รีบ', 'O'), ('แต่งเพลง', 'O'), ('ไว้', 'O'), ('รอ', 'O'), ('รับ', 'O'), ('การ', 'O'), ('กลับมา', 'O'), ('\"', 'O'), (' ', 'O'), ('อ.', 'O'), ('สม', 'O'), ('พจน์', 'O'), ('กล่าว', 'O')], [('พท.', 'O'), ('พร้อม', 'O'), ('หนุน', 'O'), ('จัด', 'O'), ('ประชุม', 'O'), ('สมัชชา', 'O'), ('สหภาพ', 'O'), ('รัฐสภา', 'O'), (' ', 'O'), ('ครั้ง', 'O'), ('ที่', 'O'), (' ', 'O'), ('122', 'O'), (' ', 'O'), ('ที่', 'O'), ('ไทย', 'O'), ('เป็นเจ้าภาพ', 'O')], [('รอง', 'O'), ('หัวหน้าพรรค', 'O'), ('เพื่อ', 'O'), ('ไทย', 'O'), (' ', 'O'), ('ระบุ', 'O'), (' ', 'O'), ('พรรค', 'O'), ('พร้อม', 'O'), ('ให้การ', 'O'), ('สนับสนุน', 'O'), ('การ', 'O'), ('จัด', 'O'), ('ประชุม', 'O'), ('สมัชชา', 'O'), ('สหภาพ', 'O'), ('รัฐสภา', 'O'), (' ', 'O'), ('ครั้ง', 'O'), ('ที่', 'O'), (' ', 'O'), ('122', 'O'), (' ', 'O'), ('ที่', 'O'), ('ประเทศ', 'O'), ('ไทย', 'B_LOC'), ('เป็นเจ้าภาพ', 'O'), ('อย่าง', 'O'), ('เต็มที่', 'O'), (' ', 'O'), ('ภายหลัง', 'O'), ('การหารือ', 'O'), ('กับ', 'O'), ('เลขาธิการ', 'O'), ('สหภาพ', 'O'), ('รัฐสภา', 'O')], [('นาย', 'B_TTL'), ('ปาน', 'B_PER'), ('ป', 'I_PER'), ('รี', 'I_PER'), ('ย์', 'I_PER'), (' ', 'I_PER'), ('พหิทธา', 'I_PER'), ('นุ', 'I_PER'), ('กร', 'I_PER'), (' ', 'I_PER'), ('รอง', 'O'), ('หัวหน้าพรรค', 'O'), ('เพื่อ', 'O'), ('ไทย', 'O'), (' ', 'O'), ('เปิดเผย', 'O'), ('ว่า', 'O'), (' ', 'O'), ('เมื่อ', 'O'), ('วันที่', 'B_DTM'), (' ', 'I_DTM'), ('11', 'I_DTM'), (' ', 'I_DTM'), ('สิงหาคม', 'I_DTM'), (' ', 'O'), ('ที่ผ่านมา', 'O'), (' ', 'O'), ('ได้', 'O'), ('มีโอกาส', 'O'), ('พบ', 'O'), ('กับ', 'O'), (' ', 'O'), ('นาย', 'B_TTL'), ('อันเดอร์', 'B_PER'), ('ส', 'I_PER'), (' ', 'I_PER'), ('บี', 'I_PER'), ('.', 'I_PER'), (' ', 'I_PER'), ('จอห์น', 'I_PER'), ('สัน', 'I_PER'), (' ', 'I_PER'), ('(', 'O'), ('Mr', 'O'), ('.', 'O'), (' ', 'O'), ('Anders', 'O'), (' ', 'O'), ('B', 'O'), ('.', 'O'), (' ', 'O'), ('Johnsson', 'O'), (')', 'O'), (' ', 'O'), ('เลขาธิการ', 'O'), ('สหภาพ', 'O'), ('รัฐสภา', 'O'), (' ', 'O'), ('หรือ', 'O'), (' ', 'O'), ('IPU', 'O'), (' ', 'O'), ('(', 'O'), ('Inter-Parliamentary', 'O'), (' ', 'O'), ('Union', 'O'), (')', 'O'), (' ', 'O'), ('และ', 'O'), (' ', 'O'), ('นาย', 'B_TTL'), ('ต่อ', 'B_PER'), ('พงษ์', 'I_PER'), (' ', 'I_PER'), ('ไชย', 'I_PER'), ('สาส์น', 'I_PER'), (' ', 'I_PER'), ('ประธาน', 'O'), ('คณะกรรมาธิการ', 'O'), ('การต่างประเทศ', 'O'), (' ', 'O'), ('สภาผู้แทนราษฎร', 'O'), (' ', 'O'), ('ซึ่ง', 'O'), (' ', 'O'), ('นาย', 'B_TTL'), ('อันเดอร์', 'B_PER'), ('ส', 'I_PER'), (' ', 'I_PER'), ('ได้', 'O'), ('เดินทาง', 'O'), ('มา', 'O'), ('เยือน', 'O'), ('ประเทศ', 'O'), ('ไทย', 'B_LOC'), ('เพื่อ', 'O'), ('ต้องการ', 'O'), ('พบปะ', 'O'), ('และ', 'O'), ('แลกเปลี่ยนความคิดเห็น', 'O'), ('กับ', 'O'), ('รัฐบาล', 'O'), ('และ', 'O'), ('หน่วยงาน', 'O'), ('ต่างๆ', 'O'), (' ', 'O'), ('ของ', 'O'), ('ไทย', 'B_LOC')], [('เพื่อ', 'O'), ('เตรียม', 'O'), ('ความพร้อม', 'O'), ('สำหรับ', 'O'), ('จัด', 'O'), ('การประชุม', 'O'), ('สมัชชา', 'O'), ('สหภาพ', 'O'), ('รัฐสภา', 'O'), (' ', 'O'), ('(', 'O'), ('IPU', 'O'), (' ', 'O'), ('Assembly', 'O'), (')', 'O'), (' ', 'O'), ('ครั้ง', 'O'), ('ที่', 'O'), (' ', 'O'), ('122', 'O'), (' ', 'O'), ('ระหว่าง', 'O'), ('เดือน', 'B_DTM'), ('มีนาคม', 'I_DTM'), (' ', 'I_DTM'), ('-', 'I_DTM'), (' ', 'I_DTM'), ('เมษายน', 'I_DTM'), (' ', 'I_DTM'), ('ปี', 'I_DTM'), (' ', 'I_DTM'), ('2553', 'I_DTM'), (' ', 'O'), ('ที่', 'O'), ('ประเทศ', 'O'), ('ไทย', 'B_LOC'), (' ', 'O'), ('โดย', 'O'), ('ได้', 'O'), ('มี', 'O'), ('การ', 'O'), ('แลกเปลี่ยนความคิดเห็น', 'O'), (' ', 'O'), ('และ', 'O'), ('ขอ', 'O'), ('การ', 'O'), ('สนับสนุน', 'O'), ('จาก', 'O'), ('พรรค', 'O'), ('เพื่อ', 'O'), ('ไทย', 'O'), ('ใน', 'O'), ('ฐานะ', 'O'), ('ฝ่ายค้าน', 'O')], [('สำหรับ', 'O'), ('การ', 'O'), ('จัดงาน', 'O'), ('ใน', 'O'), ('ปีหน้า', 'O'), ('ด้วย', 'O'), (' ', 'O'), ('รอง', 'O'), ('หัวหน้าพรรค', 'O'), ('เพื่อ', 'O'), ('ไทย', 'O'), (' ', 'O'), ('กล่าวว่า', 'O'), (' ', 'O'), ('พรรค', 'O'), ('เพื่อ', 'O'), ('ไทย', 'O'), ('พร้อม', 'O'), ('สนับสนุน', 'O'), ('การ', 'O'), ('จัดงาน', 'O'), ('ประชุม', 'O'), ('สมัชชา', 'O'), ('สหภาพ', 'O'), ('รัฐสภา', 'O'), (' ', 'O'), ('และ', 'O'), ('จะ', 'O'), ('ช่วย', 'O'), ('ผลักดัน', 'O'), ('ให้', 'O'), ('งบประมาณ', 'O'), ('ที่', 'O'), ('ใช้', 'O'), ('สำหรับ', 'O'), ('การ', 'O'), ('จัดงาน', 'O'), (' ', 'O'), ('ซึ่ง', 'O'), ('อยู่', 'O'), ('ระหว่าง', 'O'), ('การพิจารณา', 'O'), ('ของ', 'O'), ('คณะกรรมาธิการ', 'O'), ('พิจารณา', 'O'), ('งบประมาณ', 'O'), ('ฯ', 'O'), (' ', 'O'), ('สภาผู้แทนราษฎร', 'B_ORG'), (' ', 'O'), ('ให้', 'O'), ('ผ่าน', 'O'), ('ความ', 'O'), ('เห็นชอบ', 'O'), ('จาก', 'O'), ('สภา', 'B_ORG'), ('โดยเร็ว', 'O')]]"
      ]
    },
    {
      "cell_type": "code",
      "execution_count": null,
      "metadata": {
        "id": "VWk_Fg1BeUuD"
      },
      "outputs": [],
      "source": [
        "pred4_dev_entities = write_entity_file(dev_mapped_list, 'pred4_dev_entities.json')"
      ]
    },
    {
      "cell_type": "code",
      "execution_count": null,
      "metadata": {
        "id": "s6i8Aj2AKXwq"
      },
      "outputs": [],
      "source": [
        "predicted5_test_entities = write_entity_file(test_mapped_list, 'predicted5_test_entities.json')"
      ]
    },
    {
      "cell_type": "code",
      "execution_count": null,
      "metadata": {
        "id": "mA1gfmO-eoCU",
        "colab": {
          "base_uri": "https://localhost:8080/"
        },
        "outputId": "d721e1cc-7dad-4999-c10a-c8b295f5d623"
      },
      "outputs": [
        {
          "output_type": "stream",
          "name": "stdout",
          "text": [
            "41512 predicted1_test_entities.json\n"
          ]
        }
      ],
      "source": [
        "!wc -l predicted1_test_entities.json"
      ]
    },
    {
      "cell_type": "code",
      "execution_count": null,
      "metadata": {
        "id": "0us69FJivarZ",
        "colab": {
          "base_uri": "https://localhost:8080/"
        },
        "outputId": "0831fb66-b0bf-457d-fd16-d7bf081c24c3"
      },
      "outputs": [
        {
          "output_type": "execute_result",
          "data": {
            "text/plain": [
              "[[],\n",
              " [('ORG', 'สำนักงบฯ'), ('NUM', '5.3 พันล้าน'), ('MEA', '50')],\n",
              " [('TTL', 'นาย'),\n",
              "  ('PER', 'อรรถวิชช์ สุวรรณภักดี'),\n",
              "  ('DES', 'ส.ส.'),\n",
              "  ('ORG', 'กทม.'),\n",
              "  ('ORG', 'พรรคประชาธิปัตย์')],\n",
              " [],\n",
              " [],\n",
              " [('NUM', '2.'), ('NUM', '170'), ('MEA', '50'), ('ORG', 'สพช.')],\n",
              " [('NUM', '3.'), ('MEA', '20')],\n",
              " [('NUM', '4.')],\n",
              " [('ORG', 'กองปราบปราม'), ('DTM', 'วันที่ 4 ส.ค.')],\n",
              " []]"
            ]
          },
          "metadata": {},
          "execution_count": 38
        }
      ],
      "source": [
        "predicted5_test_entities[:10]"
      ]
    },
    {
      "cell_type": "code",
      "execution_count": null,
      "metadata": {
        "colab": {
          "base_uri": "https://localhost:8080/"
        },
        "id": "CIW-pFUZ3N6K",
        "outputId": "21ffa771-663d-419b-da8f-3c2aede4f52f"
      },
      "outputs": [
        {
          "name": "stdout",
          "output_type": "stream",
          "text": [
            "Number of sentences: 5620\n"
          ]
        }
      ],
      "source": [
        "import json\n",
        "# load the JSON file\n",
        "with open('/content/dev_entities.json') as f:\n",
        "    data = json.load(f)\n",
        "\n",
        "# count the number of sentences\n",
        "num_sentences = len(data)\n",
        "\n",
        "print('Number of sentences:', num_sentences)"
      ]
    },
    {
      "cell_type": "code",
      "execution_count": null,
      "metadata": {
        "colab": {
          "base_uri": "https://localhost:8080/"
        },
        "id": "OhYX-9dTeuu_",
        "outputId": "23770863-20d1-4786-b1ad-87e2e759d3e2"
      },
      "outputs": [
        {
          "name": "stdout",
          "output_type": "stream",
          "text": [
            "{\n",
            "  \"0 Overall F1\": 0.6998728509038643,\n",
            "  \"0 Overall P\": 0.8325660923319742,\n",
            "  \"0 Overall R\": 0.6036620255578867,\n",
            "  \"1 ORG F1\": 0.7337579617834394,\n",
            "  \"2 PER F1\": 0.8337769890564922,\n",
            "  \"3 MEA F1\": 0.5306806282722514,\n",
            "  \"4 LOC F1\": 0.6540585774058578,\n",
            "  \"5 TTL F1\": 0.8790712673331184,\n",
            "  \"6 DTM F1\": 0.6745298055467007,\n",
            "  \"7 NUM F1\": 0.5281346920691183,\n",
            "  \"8 DES F1\": 0.681383370125092,\n",
            "  \"9 MISC F1\": 0,\n",
            "  \"10 TRM F1\": 0.5572519083969466,\n",
            "  \"11 BRN F1\": 0.4285714285714285\n",
            "}\n"
          ]
        }
      ],
      "source": [
        "!python3 evaluate.py dev_entities.json pred4_dev_entities.json"
      ]
    }
  ],
  "metadata": {
    "accelerator": "GPU",
    "colab": {
      "provenance": [],
      "toc_visible": true
    },
    "gpuClass": "standard",
    "kernelspec": {
      "display_name": "Python 3",
      "name": "python3"
    },
    "language_info": {
      "name": "python"
    }
  },
  "nbformat": 4,
  "nbformat_minor": 0
}