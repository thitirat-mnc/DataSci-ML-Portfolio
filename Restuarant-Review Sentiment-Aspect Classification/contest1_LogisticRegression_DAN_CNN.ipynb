{
  "cells": [
    {
      "cell_type": "markdown",
      "metadata": {
        "id": "RojEL6sIEX9R"
      },
      "source": [
        "<a id=\"top\"></a>\n",
        "\n",
        "## Restaurant Review AspectCategory (5 classes) and Polarity Classification (4 classes)\n",
        "### Using Logistic Regression, DAN, CNN"
      ]
    },
    {
      "cell_type": "code",
      "execution_count": null,
      "metadata": {
        "colab": {
          "base_uri": "https://localhost:8080/"
        },
        "id": "7N8a248Sg-Iy",
        "outputId": "1c2d7a2b-57d6-423c-957f-18c31811d856"
      },
      "outputs": [
        {
          "name": "stderr",
          "output_type": "stream",
          "text": [
            "[nltk_data] Downloading package punkt to /root/nltk_data...\n",
            "[nltk_data]   Unzipping tokenizers/punkt.zip.\n"
          ]
        },
        {
          "data": {
            "text/plain": [
              "True"
            ]
          },
          "execution_count": 1,
          "metadata": {},
          "output_type": "execute_result"
        }
      ],
      "source": [
        "import pandas as pd\n",
        "import random\n",
        "import numpy as np\n",
        "import nltk\n",
        "nltk.download('punkt')"
      ]
    },
    {
      "cell_type": "code",
      "execution_count": null,
      "metadata": {
        "id": "V73IMvAGbSLV"
      },
      "outputs": [],
      "source": [
        "!pip install -U spacy\n",
        "!python -m spacy download en\n",
        "import spacy\n",
        "sp = spacy.load('en_core_web_sm')\n",
        "all_stopwords = sp.Defaults.stop_words"
      ]
    },
    {
      "cell_type": "markdown",
      "metadata": {
        "id": "4rIblBvvEewo"
      },
      "source": [
        "<br>\n",
        "<hr style=\"border: 4px solid #B7C9F2;\" />\n",
        "<hr style=\"border: 2px solid #FB88B4;\" />\n",
        "\n",
        "---\n",
        "\n",
        "<a id=\"top\"></a>\n",
        "\n",
        "# Download Data"
      ]
    },
    {
      "cell_type": "code",
      "execution_count": null,
      "metadata": {
        "id": "jR5My40FhMaU"
      },
      "outputs": [],
      "source": [
        "!gdown --id 10fHsgc9E1n_JgaV-mmS818cF9QL_5Wwg # train data from contest1 file\n",
        "!gdown --id 1gbC4rWAwyBL9ZDHnQRqPbKOhPBPAlh5z  # evaluate.py"
      ]
    },
    {
      "cell_type": "code",
      "execution_count": null,
      "metadata": {
        "colab": {
          "base_uri": "https://localhost:8080/",
          "height": 582
        },
        "id": "FHHgvGUUlM_-",
        "outputId": "fd20f80a-30b5-42ac-a54b-e5d7818781e3"
      },
      "outputs": [
        {
          "data": {
            "text/html": [
              "\n",
              "  <div id=\"df-836637f6-cfe1-4da4-a58a-720574ab3803\">\n",
              "    <div class=\"colab-df-container\">\n",
              "      <div>\n",
              "<style scoped>\n",
              "    .dataframe tbody tr th:only-of-type {\n",
              "        vertical-align: middle;\n",
              "    }\n",
              "\n",
              "    .dataframe tbody tr th {\n",
              "        vertical-align: top;\n",
              "    }\n",
              "\n",
              "    .dataframe thead th {\n",
              "        text-align: right;\n",
              "    }\n",
              "</style>\n",
              "<table border=\"1\" class=\"dataframe\">\n",
              "  <thead>\n",
              "    <tr style=\"text-align: right;\">\n",
              "      <th></th>\n",
              "      <th>id</th>\n",
              "      <th>text</th>\n",
              "      <th>aspectCategory</th>\n",
              "      <th>polarity</th>\n",
              "    </tr>\n",
              "  </thead>\n",
              "  <tbody>\n",
              "    <tr>\n",
              "      <th>0</th>\n",
              "      <td>3121</td>\n",
              "      <td>But the staff was so horrible to us.</td>\n",
              "      <td>service</td>\n",
              "      <td>negative</td>\n",
              "    </tr>\n",
              "    <tr>\n",
              "      <th>1</th>\n",
              "      <td>2777</td>\n",
              "      <td>To be completely fair, the only redeeming fact...</td>\n",
              "      <td>food</td>\n",
              "      <td>positive</td>\n",
              "    </tr>\n",
              "    <tr>\n",
              "      <th>2</th>\n",
              "      <td>2777</td>\n",
              "      <td>To be completely fair, the only redeeming fact...</td>\n",
              "      <td>anecdotes/miscellaneous</td>\n",
              "      <td>negative</td>\n",
              "    </tr>\n",
              "    <tr>\n",
              "      <th>3</th>\n",
              "      <td>1634</td>\n",
              "      <td>The food is uniformly exceptional, with a very...</td>\n",
              "      <td>food</td>\n",
              "      <td>positive</td>\n",
              "    </tr>\n",
              "    <tr>\n",
              "      <th>4</th>\n",
              "      <td>2534</td>\n",
              "      <td>Where Gabriela personaly greets you and recomm...</td>\n",
              "      <td>service</td>\n",
              "      <td>positive</td>\n",
              "    </tr>\n",
              "    <tr>\n",
              "      <th>...</th>\n",
              "      <td>...</td>\n",
              "      <td>...</td>\n",
              "      <td>...</td>\n",
              "      <td>...</td>\n",
              "    </tr>\n",
              "    <tr>\n",
              "      <th>3151</th>\n",
              "      <td>2853</td>\n",
              "      <td>I would highly recommend this place to everyon...</td>\n",
              "      <td>anecdotes/miscellaneous</td>\n",
              "      <td>positive</td>\n",
              "    </tr>\n",
              "    <tr>\n",
              "      <th>3152</th>\n",
              "      <td>1163</td>\n",
              "      <td>The service is fantastic.</td>\n",
              "      <td>service</td>\n",
              "      <td>positive</td>\n",
              "    </tr>\n",
              "    <tr>\n",
              "      <th>3153</th>\n",
              "      <td>216</td>\n",
              "      <td>I recommend that you try this hidden spot whic...</td>\n",
              "      <td>anecdotes/miscellaneous</td>\n",
              "      <td>positive</td>\n",
              "    </tr>\n",
              "    <tr>\n",
              "      <th>3154</th>\n",
              "      <td>1109</td>\n",
              "      <td>The garlic mashed potatoes are hands down the ...</td>\n",
              "      <td>food</td>\n",
              "      <td>positive</td>\n",
              "    </tr>\n",
              "    <tr>\n",
              "      <th>3155</th>\n",
              "      <td>899</td>\n",
              "      <td>Food and service was okay.</td>\n",
              "      <td>food</td>\n",
              "      <td>neutral</td>\n",
              "    </tr>\n",
              "  </tbody>\n",
              "</table>\n",
              "<p>3156 rows × 4 columns</p>\n",
              "</div>\n",
              "      <button class=\"colab-df-convert\" onclick=\"convertToInteractive('df-836637f6-cfe1-4da4-a58a-720574ab3803')\"\n",
              "              title=\"Convert this dataframe to an interactive table.\"\n",
              "              style=\"display:none;\">\n",
              "        \n",
              "  <svg xmlns=\"http://www.w3.org/2000/svg\" height=\"24px\"viewBox=\"0 0 24 24\"\n",
              "       width=\"24px\">\n",
              "    <path d=\"M0 0h24v24H0V0z\" fill=\"none\"/>\n",
              "    <path d=\"M18.56 5.44l.94 2.06.94-2.06 2.06-.94-2.06-.94-.94-2.06-.94 2.06-2.06.94zm-11 1L8.5 8.5l.94-2.06 2.06-.94-2.06-.94L8.5 2.5l-.94 2.06-2.06.94zm10 10l.94 2.06.94-2.06 2.06-.94-2.06-.94-.94-2.06-.94 2.06-2.06.94z\"/><path d=\"M17.41 7.96l-1.37-1.37c-.4-.4-.92-.59-1.43-.59-.52 0-1.04.2-1.43.59L10.3 9.45l-7.72 7.72c-.78.78-.78 2.05 0 2.83L4 21.41c.39.39.9.59 1.41.59.51 0 1.02-.2 1.41-.59l7.78-7.78 2.81-2.81c.8-.78.8-2.07 0-2.86zM5.41 20L4 18.59l7.72-7.72 1.47 1.35L5.41 20z\"/>\n",
              "  </svg>\n",
              "      </button>\n",
              "      \n",
              "  <style>\n",
              "    .colab-df-container {\n",
              "      display:flex;\n",
              "      flex-wrap:wrap;\n",
              "      gap: 12px;\n",
              "    }\n",
              "\n",
              "    .colab-df-convert {\n",
              "      background-color: #E8F0FE;\n",
              "      border: none;\n",
              "      border-radius: 50%;\n",
              "      cursor: pointer;\n",
              "      display: none;\n",
              "      fill: #1967D2;\n",
              "      height: 32px;\n",
              "      padding: 0 0 0 0;\n",
              "      width: 32px;\n",
              "    }\n",
              "\n",
              "    .colab-df-convert:hover {\n",
              "      background-color: #E2EBFA;\n",
              "      box-shadow: 0px 1px 2px rgba(60, 64, 67, 0.3), 0px 1px 3px 1px rgba(60, 64, 67, 0.15);\n",
              "      fill: #174EA6;\n",
              "    }\n",
              "\n",
              "    [theme=dark] .colab-df-convert {\n",
              "      background-color: #3B4455;\n",
              "      fill: #D2E3FC;\n",
              "    }\n",
              "\n",
              "    [theme=dark] .colab-df-convert:hover {\n",
              "      background-color: #434B5C;\n",
              "      box-shadow: 0px 1px 3px 1px rgba(0, 0, 0, 0.15);\n",
              "      filter: drop-shadow(0px 1px 2px rgba(0, 0, 0, 0.3));\n",
              "      fill: #FFFFFF;\n",
              "    }\n",
              "  </style>\n",
              "\n",
              "      <script>\n",
              "        const buttonEl =\n",
              "          document.querySelector('#df-836637f6-cfe1-4da4-a58a-720574ab3803 button.colab-df-convert');\n",
              "        buttonEl.style.display =\n",
              "          google.colab.kernel.accessAllowed ? 'block' : 'none';\n",
              "\n",
              "        async function convertToInteractive(key) {\n",
              "          const element = document.querySelector('#df-836637f6-cfe1-4da4-a58a-720574ab3803');\n",
              "          const dataTable =\n",
              "            await google.colab.kernel.invokeFunction('convertToInteractive',\n",
              "                                                     [key], {});\n",
              "          if (!dataTable) return;\n",
              "\n",
              "          const docLinkHtml = 'Like what you see? Visit the ' +\n",
              "            '<a target=\"_blank\" href=https://colab.research.google.com/notebooks/data_table.ipynb>data table notebook</a>'\n",
              "            + ' to learn more about interactive tables.';\n",
              "          element.innerHTML = '';\n",
              "          dataTable['output_type'] = 'display_data';\n",
              "          await google.colab.output.renderOutput(dataTable, element);\n",
              "          const docLink = document.createElement('div');\n",
              "          docLink.innerHTML = docLinkHtml;\n",
              "          element.appendChild(docLink);\n",
              "        }\n",
              "      </script>\n",
              "    </div>\n",
              "  </div>\n",
              "  "
            ],
            "text/plain": [
              "        id                                               text  \\\n",
              "0     3121               But the staff was so horrible to us.   \n",
              "1     2777  To be completely fair, the only redeeming fact...   \n",
              "2     2777  To be completely fair, the only redeeming fact...   \n",
              "3     1634  The food is uniformly exceptional, with a very...   \n",
              "4     2534  Where Gabriela personaly greets you and recomm...   \n",
              "...    ...                                                ...   \n",
              "3151  2853  I would highly recommend this place to everyon...   \n",
              "3152  1163                          The service is fantastic.   \n",
              "3153   216  I recommend that you try this hidden spot whic...   \n",
              "3154  1109  The garlic mashed potatoes are hands down the ...   \n",
              "3155   899                         Food and service was okay.   \n",
              "\n",
              "               aspectCategory  polarity  \n",
              "0                     service  negative  \n",
              "1                        food  positive  \n",
              "2     anecdotes/miscellaneous  negative  \n",
              "3                        food  positive  \n",
              "4                     service  positive  \n",
              "...                       ...       ...  \n",
              "3151  anecdotes/miscellaneous  positive  \n",
              "3152                  service  positive  \n",
              "3153  anecdotes/miscellaneous  positive  \n",
              "3154                     food  positive  \n",
              "3155                     food   neutral  \n",
              "\n",
              "[3156 rows x 4 columns]"
            ]
          },
          "execution_count": 4,
          "metadata": {},
          "output_type": "execute_result"
        }
      ],
      "source": [
        "test_data = pd.read_csv('contest1_test.csv')\n",
        "data = pd.read_csv('contest1_train.csv')\n",
        "data"
      ]
    },
    {
      "cell_type": "code",
      "execution_count": null,
      "metadata": {
        "colab": {
          "base_uri": "https://localhost:8080/"
        },
        "id": "dTJ8TI2nDJ2P",
        "outputId": "f6c96d15-e696-44e7-a8d0-cc188cb2ae6b"
      },
      "outputs": [
        {
          "data": {
            "text/plain": [
              "positive    1876\n",
              "negative     715\n",
              "neutral      398\n",
              "conflict     167\n",
              "Name: polarity, dtype: int64"
            ]
          },
          "execution_count": 5,
          "metadata": {},
          "output_type": "execute_result"
        }
      ],
      "source": [
        "data.polarity.value_counts()"
      ]
    },
    {
      "cell_type": "code",
      "execution_count": null,
      "metadata": {
        "colab": {
          "base_uri": "https://localhost:8080/"
        },
        "id": "rkGr3OY9EPuX",
        "outputId": "e34e3e64-a097-4692-8acd-345b225583fd"
      },
      "outputs": [
        {
          "data": {
            "text/plain": [
              "food                       1051\n",
              "anecdotes/miscellaneous     956\n",
              "service                     506\n",
              "ambience                    368\n",
              "price                       275\n",
              "Name: aspectCategory, dtype: int64"
            ]
          },
          "execution_count": 6,
          "metadata": {},
          "output_type": "execute_result"
        }
      ],
      "source": [
        "data.aspectCategory.value_counts()"
      ]
    },
    {
      "cell_type": "markdown",
      "metadata": {
        "id": "XMg2WgLwElfp"
      },
      "source": [
        "<br>\n",
        "<hr style=\"border: 4px solid #B7C9F2;\" />\n",
        "<hr style=\"border: 2px solid #FB88B4;\" />\n",
        "\n",
        "---\n",
        "\n",
        "<a id=\"top\"></a>\n",
        "\n",
        "## Tokenize Data"
      ]
    },
    {
      "cell_type": "code",
      "execution_count": null,
      "metadata": {
        "colab": {
          "base_uri": "https://localhost:8080/"
        },
        "id": "AQ5yPs3oErIH",
        "outputId": "2ff667be-cb91-454b-963f-fcbcc5d7dbdd"
      },
      "outputs": [
        {
          "name": "stderr",
          "output_type": "stream",
          "text": [
            "[nltk_data] Downloading package stopwords to /root/nltk_data...\n",
            "[nltk_data]   Package stopwords is already up-to-date!\n"
          ]
        }
      ],
      "source": [
        "import re\n",
        "# Load spacy model\n",
        "from sklearn.feature_extraction import DictVectorizer\n",
        "from nltk import word_tokenize\n",
        "from sklearn.linear_model import LogisticRegression\n",
        "from sklearn.model_selection import train_test_split\n",
        "from sklearn.metrics import classification_report\n",
        "nltk.download('stopwords')\n",
        "def tokenize(text):\n",
        "  tokens = nltk.word_tokenize(text)\n",
        "  patt = re.compile('[a-zA-Z0-9]+')\n",
        "  new_tokens = [x.lower() for x in tokens if patt.match(x) and not x in all_stopwords]\n",
        "  return '|'.join(new_tokens)"
      ]
    },
    {
      "cell_type": "code",
      "execution_count": null,
      "metadata": {
        "id": "fpQSdqVgJwht"
      },
      "outputs": [],
      "source": [
        "data['tokens'] = data.text.apply(tokenize)\n",
        "clean_data = data[['id', 'tokens', 'aspectCategory', 'polarity']]\n",
        "#clean_data['tokens'].apply(lambda x: x.split('|'))"
      ]
    },
    {
      "cell_type": "code",
      "execution_count": null,
      "metadata": {
        "colab": {
          "base_uri": "https://localhost:8080/",
          "height": 419
        },
        "id": "7Kh3DtutQh_c",
        "outputId": "a10ac1cd-9bb5-4023-9424-d1c2585b3b3e"
      },
      "outputs": [
        {
          "data": {
            "text/html": [
              "\n",
              "  <div id=\"df-f2125807-791b-4678-9ac6-c8af8c4677f3\">\n",
              "    <div class=\"colab-df-container\">\n",
              "      <div>\n",
              "<style scoped>\n",
              "    .dataframe tbody tr th:only-of-type {\n",
              "        vertical-align: middle;\n",
              "    }\n",
              "\n",
              "    .dataframe tbody tr th {\n",
              "        vertical-align: top;\n",
              "    }\n",
              "\n",
              "    .dataframe thead th {\n",
              "        text-align: right;\n",
              "    }\n",
              "</style>\n",
              "<table border=\"1\" class=\"dataframe\">\n",
              "  <thead>\n",
              "    <tr style=\"text-align: right;\">\n",
              "      <th></th>\n",
              "      <th>id</th>\n",
              "      <th>tokens</th>\n",
              "    </tr>\n",
              "  </thead>\n",
              "  <tbody>\n",
              "    <tr>\n",
              "      <th>0</th>\n",
              "      <td>899</td>\n",
              "      <td>food|service|okay</td>\n",
              "    </tr>\n",
              "    <tr>\n",
              "      <th>1</th>\n",
              "      <td>1349</td>\n",
              "      <td>great|romantic|evening|fun|evening|friends</td>\n",
              "    </tr>\n",
              "    <tr>\n",
              "      <th>2</th>\n",
              "      <td>934</td>\n",
              "      <td>the|lamb|meat|under-cooked|extrmely|chewy</td>\n",
              "    </tr>\n",
              "    <tr>\n",
              "      <th>3</th>\n",
              "      <td>2199</td>\n",
              "      <td>the|best|pad|thai</td>\n",
              "    </tr>\n",
              "    <tr>\n",
              "      <th>4</th>\n",
              "      <td>188</td>\n",
              "      <td>over|time|food|quality|decreased|substantially...</td>\n",
              "    </tr>\n",
              "    <tr>\n",
              "      <th>...</th>\n",
              "      <td>...</td>\n",
              "      <td>...</td>\n",
              "    </tr>\n",
              "    <tr>\n",
              "      <th>456</th>\n",
              "      <td>1063</td>\n",
              "      <td>but|highly|forgivable</td>\n",
              "    </tr>\n",
              "    <tr>\n",
              "      <th>457</th>\n",
              "      <td>777</td>\n",
              "      <td>from|appetizers|ate|dim|sum|variety|foods|impo...</td>\n",
              "    </tr>\n",
              "    <tr>\n",
              "      <th>458</th>\n",
              "      <td>875</td>\n",
              "      <td>when|arrived|6:00|pm|restaurant|practically</td>\n",
              "    </tr>\n",
              "    <tr>\n",
              "      <th>459</th>\n",
              "      <td>671</td>\n",
              "      <td>each|table|pot|boiling|water|sunken|surface|pl...</td>\n",
              "    </tr>\n",
              "    <tr>\n",
              "      <th>460</th>\n",
              "      <td>617</td>\n",
              "      <td>i|going|mid|town|location</td>\n",
              "    </tr>\n",
              "  </tbody>\n",
              "</table>\n",
              "<p>461 rows × 2 columns</p>\n",
              "</div>\n",
              "      <button class=\"colab-df-convert\" onclick=\"convertToInteractive('df-f2125807-791b-4678-9ac6-c8af8c4677f3')\"\n",
              "              title=\"Convert this dataframe to an interactive table.\"\n",
              "              style=\"display:none;\">\n",
              "        \n",
              "  <svg xmlns=\"http://www.w3.org/2000/svg\" height=\"24px\"viewBox=\"0 0 24 24\"\n",
              "       width=\"24px\">\n",
              "    <path d=\"M0 0h24v24H0V0z\" fill=\"none\"/>\n",
              "    <path d=\"M18.56 5.44l.94 2.06.94-2.06 2.06-.94-2.06-.94-.94-2.06-.94 2.06-2.06.94zm-11 1L8.5 8.5l.94-2.06 2.06-.94-2.06-.94L8.5 2.5l-.94 2.06-2.06.94zm10 10l.94 2.06.94-2.06 2.06-.94-2.06-.94-.94-2.06-.94 2.06-2.06.94z\"/><path d=\"M17.41 7.96l-1.37-1.37c-.4-.4-.92-.59-1.43-.59-.52 0-1.04.2-1.43.59L10.3 9.45l-7.72 7.72c-.78.78-.78 2.05 0 2.83L4 21.41c.39.39.9.59 1.41.59.51 0 1.02-.2 1.41-.59l7.78-7.78 2.81-2.81c.8-.78.8-2.07 0-2.86zM5.41 20L4 18.59l7.72-7.72 1.47 1.35L5.41 20z\"/>\n",
              "  </svg>\n",
              "      </button>\n",
              "      \n",
              "  <style>\n",
              "    .colab-df-container {\n",
              "      display:flex;\n",
              "      flex-wrap:wrap;\n",
              "      gap: 12px;\n",
              "    }\n",
              "\n",
              "    .colab-df-convert {\n",
              "      background-color: #E8F0FE;\n",
              "      border: none;\n",
              "      border-radius: 50%;\n",
              "      cursor: pointer;\n",
              "      display: none;\n",
              "      fill: #1967D2;\n",
              "      height: 32px;\n",
              "      padding: 0 0 0 0;\n",
              "      width: 32px;\n",
              "    }\n",
              "\n",
              "    .colab-df-convert:hover {\n",
              "      background-color: #E2EBFA;\n",
              "      box-shadow: 0px 1px 2px rgba(60, 64, 67, 0.3), 0px 1px 3px 1px rgba(60, 64, 67, 0.15);\n",
              "      fill: #174EA6;\n",
              "    }\n",
              "\n",
              "    [theme=dark] .colab-df-convert {\n",
              "      background-color: #3B4455;\n",
              "      fill: #D2E3FC;\n",
              "    }\n",
              "\n",
              "    [theme=dark] .colab-df-convert:hover {\n",
              "      background-color: #434B5C;\n",
              "      box-shadow: 0px 1px 3px 1px rgba(0, 0, 0, 0.15);\n",
              "      filter: drop-shadow(0px 1px 2px rgba(0, 0, 0, 0.3));\n",
              "      fill: #FFFFFF;\n",
              "    }\n",
              "  </style>\n",
              "\n",
              "      <script>\n",
              "        const buttonEl =\n",
              "          document.querySelector('#df-f2125807-791b-4678-9ac6-c8af8c4677f3 button.colab-df-convert');\n",
              "        buttonEl.style.display =\n",
              "          google.colab.kernel.accessAllowed ? 'block' : 'none';\n",
              "\n",
              "        async function convertToInteractive(key) {\n",
              "          const element = document.querySelector('#df-f2125807-791b-4678-9ac6-c8af8c4677f3');\n",
              "          const dataTable =\n",
              "            await google.colab.kernel.invokeFunction('convertToInteractive',\n",
              "                                                     [key], {});\n",
              "          if (!dataTable) return;\n",
              "\n",
              "          const docLinkHtml = 'Like what you see? Visit the ' +\n",
              "            '<a target=\"_blank\" href=https://colab.research.google.com/notebooks/data_table.ipynb>data table notebook</a>'\n",
              "            + ' to learn more about interactive tables.';\n",
              "          element.innerHTML = '';\n",
              "          dataTable['output_type'] = 'display_data';\n",
              "          await google.colab.output.renderOutput(dataTable, element);\n",
              "          const docLink = document.createElement('div');\n",
              "          docLink.innerHTML = docLinkHtml;\n",
              "          element.appendChild(docLink);\n",
              "        }\n",
              "      </script>\n",
              "    </div>\n",
              "  </div>\n",
              "  "
            ],
            "text/plain": [
              "       id                                             tokens\n",
              "0     899                                  food|service|okay\n",
              "1    1349         great|romantic|evening|fun|evening|friends\n",
              "2     934          the|lamb|meat|under-cooked|extrmely|chewy\n",
              "3    2199                                  the|best|pad|thai\n",
              "4     188  over|time|food|quality|decreased|substantially...\n",
              "..    ...                                                ...\n",
              "456  1063                              but|highly|forgivable\n",
              "457   777  from|appetizers|ate|dim|sum|variety|foods|impo...\n",
              "458   875        when|arrived|6:00|pm|restaurant|practically\n",
              "459   671  each|table|pot|boiling|water|sunken|surface|pl...\n",
              "460   617                          i|going|mid|town|location\n",
              "\n",
              "[461 rows x 2 columns]"
            ]
          },
          "execution_count": 19,
          "metadata": {},
          "output_type": "execute_result"
        }
      ],
      "source": [
        "test_data['tokens'] = test_data.text.apply(tokenize)\n",
        "clean_test_data = test_data[['id', 'tokens']]\n",
        "clean_test_data"
      ]
    },
    {
      "cell_type": "code",
      "execution_count": null,
      "metadata": {
        "colab": {
          "base_uri": "https://localhost:8080/",
          "height": 483
        },
        "id": "iPeR0jC1bu2D",
        "outputId": "452b8cc9-df11-417e-f42a-77cee330354f"
      },
      "outputs": [
        {
          "data": {
            "text/html": [
              "\n",
              "  <div id=\"df-41f630ad-4d79-492f-86f3-9ce0c766df12\">\n",
              "    <div class=\"colab-df-container\">\n",
              "      <div>\n",
              "<style scoped>\n",
              "    .dataframe tbody tr th:only-of-type {\n",
              "        vertical-align: middle;\n",
              "    }\n",
              "\n",
              "    .dataframe tbody tr th {\n",
              "        vertical-align: top;\n",
              "    }\n",
              "\n",
              "    .dataframe thead th {\n",
              "        text-align: right;\n",
              "    }\n",
              "</style>\n",
              "<table border=\"1\" class=\"dataframe\">\n",
              "  <thead>\n",
              "    <tr style=\"text-align: right;\">\n",
              "      <th></th>\n",
              "      <th>id</th>\n",
              "      <th>tokens</th>\n",
              "      <th>aspectCategory</th>\n",
              "      <th>polarity</th>\n",
              "    </tr>\n",
              "  </thead>\n",
              "  <tbody>\n",
              "    <tr>\n",
              "      <th>0</th>\n",
              "      <td>3121</td>\n",
              "      <td>but|staff|horrible</td>\n",
              "      <td>service</td>\n",
              "      <td>negative</td>\n",
              "    </tr>\n",
              "    <tr>\n",
              "      <th>1</th>\n",
              "      <td>2777</td>\n",
              "      <td>to|completely|fair|redeeming|factor|food|avera...</td>\n",
              "      <td>food</td>\n",
              "      <td>positive</td>\n",
              "    </tr>\n",
              "    <tr>\n",
              "      <th>2</th>\n",
              "      <td>2777</td>\n",
              "      <td>to|completely|fair|redeeming|factor|food|avera...</td>\n",
              "      <td>anecdotes/miscellaneous</td>\n",
              "      <td>negative</td>\n",
              "    </tr>\n",
              "    <tr>\n",
              "      <th>3</th>\n",
              "      <td>1634</td>\n",
              "      <td>the|food|uniformly|exceptional|capable|kitchen...</td>\n",
              "      <td>food</td>\n",
              "      <td>positive</td>\n",
              "    </tr>\n",
              "    <tr>\n",
              "      <th>4</th>\n",
              "      <td>2534</td>\n",
              "      <td>where|gabriela|personaly|greets|recommends|eat</td>\n",
              "      <td>service</td>\n",
              "      <td>positive</td>\n",
              "    </tr>\n",
              "    <tr>\n",
              "      <th>...</th>\n",
              "      <td>...</td>\n",
              "      <td>...</td>\n",
              "      <td>...</td>\n",
              "      <td>...</td>\n",
              "    </tr>\n",
              "    <tr>\n",
              "      <th>2825</th>\n",
              "      <td>1931</td>\n",
              "      <td>truly|mark|attentive|waiter</td>\n",
              "      <td>service</td>\n",
              "      <td>positive</td>\n",
              "    </tr>\n",
              "    <tr>\n",
              "      <th>2827</th>\n",
              "      <td>181</td>\n",
              "      <td>the|food|good|like|wait</td>\n",
              "      <td>service</td>\n",
              "      <td>negative</td>\n",
              "    </tr>\n",
              "    <tr>\n",
              "      <th>2829</th>\n",
              "      <td>2455</td>\n",
              "      <td>the|staff|kind|trained|fast|prompt|jump|bar|fi...</td>\n",
              "      <td>service</td>\n",
              "      <td>positive</td>\n",
              "    </tr>\n",
              "    <tr>\n",
              "      <th>2833</th>\n",
              "      <td>1465</td>\n",
              "      <td>service|better|possibly|large|group|house|cord...</td>\n",
              "      <td>service</td>\n",
              "      <td>conflict</td>\n",
              "    </tr>\n",
              "    <tr>\n",
              "      <th>2839</th>\n",
              "      <td>3115</td>\n",
              "      <td>sure|exactly|30|minutes|later|got|seated|promptly</td>\n",
              "      <td>service</td>\n",
              "      <td>positive</td>\n",
              "    </tr>\n",
              "  </tbody>\n",
              "</table>\n",
              "<p>5868 rows × 4 columns</p>\n",
              "</div>\n",
              "      <button class=\"colab-df-convert\" onclick=\"convertToInteractive('df-41f630ad-4d79-492f-86f3-9ce0c766df12')\"\n",
              "              title=\"Convert this dataframe to an interactive table.\"\n",
              "              style=\"display:none;\">\n",
              "        \n",
              "  <svg xmlns=\"http://www.w3.org/2000/svg\" height=\"24px\"viewBox=\"0 0 24 24\"\n",
              "       width=\"24px\">\n",
              "    <path d=\"M0 0h24v24H0V0z\" fill=\"none\"/>\n",
              "    <path d=\"M18.56 5.44l.94 2.06.94-2.06 2.06-.94-2.06-.94-.94-2.06-.94 2.06-2.06.94zm-11 1L8.5 8.5l.94-2.06 2.06-.94-2.06-.94L8.5 2.5l-.94 2.06-2.06.94zm10 10l.94 2.06.94-2.06 2.06-.94-2.06-.94-.94-2.06-.94 2.06-2.06.94z\"/><path d=\"M17.41 7.96l-1.37-1.37c-.4-.4-.92-.59-1.43-.59-.52 0-1.04.2-1.43.59L10.3 9.45l-7.72 7.72c-.78.78-.78 2.05 0 2.83L4 21.41c.39.39.9.59 1.41.59.51 0 1.02-.2 1.41-.59l7.78-7.78 2.81-2.81c.8-.78.8-2.07 0-2.86zM5.41 20L4 18.59l7.72-7.72 1.47 1.35L5.41 20z\"/>\n",
              "  </svg>\n",
              "      </button>\n",
              "      \n",
              "  <style>\n",
              "    .colab-df-container {\n",
              "      display:flex;\n",
              "      flex-wrap:wrap;\n",
              "      gap: 12px;\n",
              "    }\n",
              "\n",
              "    .colab-df-convert {\n",
              "      background-color: #E8F0FE;\n",
              "      border: none;\n",
              "      border-radius: 50%;\n",
              "      cursor: pointer;\n",
              "      display: none;\n",
              "      fill: #1967D2;\n",
              "      height: 32px;\n",
              "      padding: 0 0 0 0;\n",
              "      width: 32px;\n",
              "    }\n",
              "\n",
              "    .colab-df-convert:hover {\n",
              "      background-color: #E2EBFA;\n",
              "      box-shadow: 0px 1px 2px rgba(60, 64, 67, 0.3), 0px 1px 3px 1px rgba(60, 64, 67, 0.15);\n",
              "      fill: #174EA6;\n",
              "    }\n",
              "\n",
              "    [theme=dark] .colab-df-convert {\n",
              "      background-color: #3B4455;\n",
              "      fill: #D2E3FC;\n",
              "    }\n",
              "\n",
              "    [theme=dark] .colab-df-convert:hover {\n",
              "      background-color: #434B5C;\n",
              "      box-shadow: 0px 1px 3px 1px rgba(0, 0, 0, 0.15);\n",
              "      filter: drop-shadow(0px 1px 2px rgba(0, 0, 0, 0.3));\n",
              "      fill: #FFFFFF;\n",
              "    }\n",
              "  </style>\n",
              "\n",
              "      <script>\n",
              "        const buttonEl =\n",
              "          document.querySelector('#df-41f630ad-4d79-492f-86f3-9ce0c766df12 button.colab-df-convert');\n",
              "        buttonEl.style.display =\n",
              "          google.colab.kernel.accessAllowed ? 'block' : 'none';\n",
              "\n",
              "        async function convertToInteractive(key) {\n",
              "          const element = document.querySelector('#df-41f630ad-4d79-492f-86f3-9ce0c766df12');\n",
              "          const dataTable =\n",
              "            await google.colab.kernel.invokeFunction('convertToInteractive',\n",
              "                                                     [key], {});\n",
              "          if (!dataTable) return;\n",
              "\n",
              "          const docLinkHtml = 'Like what you see? Visit the ' +\n",
              "            '<a target=\"_blank\" href=https://colab.research.google.com/notebooks/data_table.ipynb>data table notebook</a>'\n",
              "            + ' to learn more about interactive tables.';\n",
              "          element.innerHTML = '';\n",
              "          dataTable['output_type'] = 'display_data';\n",
              "          await google.colab.output.renderOutput(dataTable, element);\n",
              "          const docLink = document.createElement('div');\n",
              "          docLink.innerHTML = docLinkHtml;\n",
              "          element.appendChild(docLink);\n",
              "        }\n",
              "      </script>\n",
              "    </div>\n",
              "  </div>\n",
              "  "
            ],
            "text/plain": [
              "        id                                             tokens  \\\n",
              "0     3121                                 but|staff|horrible   \n",
              "1     2777  to|completely|fair|redeeming|factor|food|avera...   \n",
              "2     2777  to|completely|fair|redeeming|factor|food|avera...   \n",
              "3     1634  the|food|uniformly|exceptional|capable|kitchen...   \n",
              "4     2534     where|gabriela|personaly|greets|recommends|eat   \n",
              "...    ...                                                ...   \n",
              "2825  1931                        truly|mark|attentive|waiter   \n",
              "2827   181                            the|food|good|like|wait   \n",
              "2829  2455  the|staff|kind|trained|fast|prompt|jump|bar|fi...   \n",
              "2833  1465  service|better|possibly|large|group|house|cord...   \n",
              "2839  3115  sure|exactly|30|minutes|later|got|seated|promptly   \n",
              "\n",
              "               aspectCategory  polarity  \n",
              "0                     service  negative  \n",
              "1                        food  positive  \n",
              "2     anecdotes/miscellaneous  negative  \n",
              "3                        food  positive  \n",
              "4                     service  positive  \n",
              "...                       ...       ...  \n",
              "2825                  service  positive  \n",
              "2827                  service  negative  \n",
              "2829                  service  positive  \n",
              "2833                  service  conflict  \n",
              "2839                  service  positive  \n",
              "\n",
              "[5868 rows x 4 columns]"
            ]
          },
          "execution_count": 9,
          "metadata": {},
          "output_type": "execute_result"
        }
      ],
      "source": [
        "train, dev = train_test_split(clean_data, train_size=0.8, random_state=160)\n",
        "\n",
        "price = train['aspectCategory'] == 'price'\n",
        "ambience = train['aspectCategory'] == 'ambience'\n",
        "service = train['aspectCategory'] == 'service'\n",
        "\n",
        "df_try_price = train[price]\n",
        "df_try_ambience = train[ambience]\n",
        "df_try_service = train[service]\n",
        "\n",
        "train = train.append([df_try_price] * 6)\n",
        "train = train.append([df_try_ambience] * 2)\n",
        "train = train.append([df_try_service] * 2)\n",
        "train"
      ]
    },
    {
      "cell_type": "code",
      "execution_count": null,
      "metadata": {
        "colab": {
          "base_uri": "https://localhost:8080/"
        },
        "id": "fh5zxtfewfly",
        "outputId": "1ca13753-c10e-4fc0-8da4-5f00494677d5"
      },
      "outputs": [
        {
          "data": {
            "text/plain": [
              "price                      1694\n",
              "service                    1359\n",
              "ambience                   1005\n",
              "food                        959\n",
              "anecdotes/miscellaneous     851\n",
              "Name: aspectCategory, dtype: int64"
            ]
          },
          "execution_count": 11,
          "metadata": {},
          "output_type": "execute_result"
        }
      ],
      "source": [
        "train.aspectCategory.value_counts()"
      ]
    },
    {
      "cell_type": "markdown",
      "metadata": {},
      "source": [
        "### dev to csv"
      ]
    },
    {
      "cell_type": "code",
      "execution_count": null,
      "metadata": {
        "id": "goXSJOKaon64"
      },
      "outputs": [],
      "source": [
        "dev.to_csv('dev.csv', index=None)"
      ]
    },
    {
      "cell_type": "markdown",
      "metadata": {},
      "source": [
        "<br>\n",
        "<hr style=\"border: 4px solid #B7C9F2;\" />\n",
        "<hr style=\"border: 2px solid #FB88B4;\" />\n",
        "\n",
        "---\n",
        "\n",
        "<a id=\"top\"></a>\n",
        "\n",
        "# 1) Logistic Regression"
      ]
    },
    {
      "cell_type": "markdown",
      "metadata": {},
      "source": [
        "<hr style=\"border: 2px solid #F1EF99;\" />\n",
        "\n",
        "---\n",
        "\n",
        "\n",
        "## AspectCategory"
      ]
    },
    {
      "cell_type": "code",
      "execution_count": null,
      "metadata": {
        "colab": {
          "base_uri": "https://localhost:8080/"
        },
        "id": "iwWAvl8bPIa3",
        "outputId": "1069bec7-30f0-4d21-a3ba-075f36ee09c3"
      },
      "outputs": [
        {
          "name": "stdout",
          "output_type": "stream",
          "text": [
            "                         precision    recall  f1-score   support\n",
            "\n",
            "               ambience       0.64      0.60      0.62        35\n",
            "anecdotes/miscellaneous       0.74      0.77      0.76       101\n",
            "                   food       0.62      0.66      0.64        86\n",
            "                  price       0.39      0.45      0.42        29\n",
            "                service       0.68      0.55      0.61        65\n",
            "\n",
            "               accuracy                           0.65       316\n",
            "              macro avg       0.61      0.61      0.61       316\n",
            "           weighted avg       0.65      0.65      0.65       316\n",
            "\n"
          ]
        },
        {
          "name": "stderr",
          "output_type": "stream",
          "text": [
            "/usr/local/lib/python3.8/dist-packages/sklearn/linear_model/_logistic.py:814: ConvergenceWarning: lbfgs failed to converge (status=1):\n",
            "STOP: TOTAL NO. of ITERATIONS REACHED LIMIT.\n",
            "\n",
            "Increase the number of iterations (max_iter) or scale the data as shown in:\n",
            "    https://scikit-learn.org/stable/modules/preprocessing.html\n",
            "Please also refer to the documentation for alternative solver options:\n",
            "    https://scikit-learn.org/stable/modules/linear_model.html#logistic-regression\n",
            "  n_iter_i = _check_optimize_result(\n"
          ]
        }
      ],
      "source": [
        "# Feature engineering\n",
        "def featurize(text):\n",
        "    return {x:1 for x in text.split('|')}\n",
        "\n",
        "vectorizer = DictVectorizer(sparse=True)\n",
        "train_features = train['tokens'].apply(featurize)\n",
        "feature_vectors = vectorizer.fit_transform(train_features)\n",
        "\n",
        "# Train model\n",
        "lr_text_classifier = LogisticRegression()\n",
        "lr_text_classifier.fit(feature_vectors, train['aspectCategory'])\n",
        "\n",
        "# Evaluation\n",
        "dev_features = dev['tokens'].apply(featurize)\n",
        "dev_feature_vectors = vectorizer.transform(dev_features)\n",
        "dev_predictions_aspect = lr_text_classifier.predict(dev_feature_vectors)\n",
        "print(classification_report(dev_predictions_aspect, dev['aspectCategory']))\n"
      ]
    },
    {
      "cell_type": "code",
      "execution_count": null,
      "metadata": {
        "id": "6qRz14vFQOhE"
      },
      "outputs": [],
      "source": [
        "test_features = clean_test_data['tokens'].apply(featurize)\n",
        "test_feature_vectors = vectorizer.transform(test_features)\n",
        "test_predictions_aspect = lr_text_classifier.predict(test_feature_vectors)"
      ]
    },
    {
      "cell_type": "code",
      "execution_count": null,
      "metadata": {
        "id": "knpvbQrOR7ZT"
      },
      "outputs": [],
      "source": [
        "# create new dataframe\n",
        "lr_aspect_newdf = pd.DataFrame()\n",
        "\n",
        "# add columns (เอาผลมารวมกัน)\n",
        "lr_aspect_newdf['id'] = clean_test_data['id']\n",
        "lr_aspect_newdf['tokens'] = clean_test_data['tokens']\n",
        "lr_aspect_newdf['aspectCategory'] = test_predictions_aspect  # prediction of aspect\n",
        "lr_aspect_newdf.to_csv('lr_aspect_newdf.csv', index=None)"
      ]
    },
    {
      "cell_type": "markdown",
      "metadata": {},
      "source": [
        "<br>\n",
        "<hr style=\"border: 2px solid #F1EF99;\" />\n",
        "\n",
        "---\n",
        "\n",
        "## Polarity"
      ]
    },
    {
      "cell_type": "code",
      "execution_count": null,
      "metadata": {
        "colab": {
          "base_uri": "https://localhost:8080/"
        },
        "id": "0lpIGYcRnW9K",
        "outputId": "9fff332b-7a22-43f4-e2a3-9014fbb6f535"
      },
      "outputs": [
        {
          "data": {
            "text/plain": [
              "positive    3413\n",
              "negative    1614\n",
              "neutral     1380\n",
              "conflict     381\n",
              "Name: polarity, dtype: int64"
            ]
          },
          "execution_count": 409,
          "metadata": {},
          "output_type": "execute_result"
        }
      ],
      "source": [
        "train.polarity.value_counts()"
      ]
    },
    {
      "cell_type": "code",
      "execution_count": null,
      "metadata": {
        "id": "oH3O1dqKxBvh"
      },
      "outputs": [],
      "source": [
        "neutral = train['polarity'] == 'neutral'\n",
        "df_try_neutral = train[neutral]\n",
        "train = train.append([df_try_neutral] * 2)"
      ]
    },
    {
      "cell_type": "code",
      "execution_count": null,
      "metadata": {
        "colab": {
          "base_uri": "https://localhost:8080/"
        },
        "id": "LH7WEZp7ugy6",
        "outputId": "eb7018ed-a5a7-4b2b-f85a-1d440eb13725"
      },
      "outputs": [
        {
          "name": "stdout",
          "output_type": "stream",
          "text": [
            "              precision    recall  f1-score   support\n",
            "\n",
            "    conflict       0.00      0.00      0.00         0\n",
            "    negative       0.49      0.44      0.46        75\n",
            "     neutral       0.31      0.52      0.39        29\n",
            "    positive       0.85      0.77      0.81       212\n",
            "\n",
            "    accuracy                           0.67       316\n",
            "   macro avg       0.41      0.43      0.42       316\n",
            "weighted avg       0.72      0.67      0.69       316\n",
            "\n"
          ]
        },
        {
          "name": "stderr",
          "output_type": "stream",
          "text": [
            "/usr/local/lib/python3.8/dist-packages/sklearn/linear_model/_logistic.py:814: ConvergenceWarning: lbfgs failed to converge (status=1):\n",
            "STOP: TOTAL NO. of ITERATIONS REACHED LIMIT.\n",
            "\n",
            "Increase the number of iterations (max_iter) or scale the data as shown in:\n",
            "    https://scikit-learn.org/stable/modules/preprocessing.html\n",
            "Please also refer to the documentation for alternative solver options:\n",
            "    https://scikit-learn.org/stable/modules/linear_model.html#logistic-regression\n",
            "  n_iter_i = _check_optimize_result(\n",
            "/usr/local/lib/python3.8/dist-packages/sklearn/metrics/_classification.py:1318: UndefinedMetricWarning: Recall and F-score are ill-defined and being set to 0.0 in labels with no true samples. Use `zero_division` parameter to control this behavior.\n",
            "  _warn_prf(average, modifier, msg_start, len(result))\n",
            "/usr/local/lib/python3.8/dist-packages/sklearn/metrics/_classification.py:1318: UndefinedMetricWarning: Recall and F-score are ill-defined and being set to 0.0 in labels with no true samples. Use `zero_division` parameter to control this behavior.\n",
            "  _warn_prf(average, modifier, msg_start, len(result))\n",
            "/usr/local/lib/python3.8/dist-packages/sklearn/metrics/_classification.py:1318: UndefinedMetricWarning: Recall and F-score are ill-defined and being set to 0.0 in labels with no true samples. Use `zero_division` parameter to control this behavior.\n",
            "  _warn_prf(average, modifier, msg_start, len(result))\n"
          ]
        }
      ],
      "source": [
        "# Feature engineering\n",
        "def featurize(text):\n",
        "    return {x:1 for x in text.split('|')} #{x:1 for x in word_tokenize(text)}\n",
        "\n",
        "vectorizer = DictVectorizer(sparse=True)\n",
        "train_features = train['tokens'].apply(featurize)\n",
        "feature_vectors = vectorizer.fit_transform(train_features)\n",
        "\n",
        "# Train model\n",
        "lr_text_classifier = LogisticRegression()\n",
        "lr_text_classifier.fit(feature_vectors, train['polarity'])\n",
        "\n",
        "# Evaluation\n",
        "dev_features = dev['tokens'].apply(featurize)\n",
        "dev_feature_vectors = vectorizer.transform(dev_features)\n",
        "dev_predictions_polar = lr_text_classifier.predict(dev_feature_vectors)\n",
        "print (classification_report(dev_predictions_polar, dev['polarity']))"
      ]
    },
    {
      "cell_type": "markdown",
      "metadata": {},
      "source": [
        "<br>\n",
        "<hr style=\"border: 2px solid #F1EF99;\" />\n",
        "\n",
        "---\n",
        "\n",
        "## Test Set"
      ]
    },
    {
      "cell_type": "code",
      "execution_count": null,
      "metadata": {
        "id": "URqFiRPK4ICj"
      },
      "outputs": [],
      "source": [
        "# create new dataframe\n",
        "newdf = pd.DataFrame()\n",
        "\n",
        "# add columns (เอาผลมารวมกัน)\n",
        "newdf['id'] = dev['id']\n",
        "newdf['aspectCategory'] = dev_predictions_aspect  # prediction of aspect\n",
        "newdf['polarity'] = dev_predictions_polar  # prediction of polarity\n",
        "newdf\n",
        "# export to csv\n",
        "newdf.to_csv('lr_pred.csv', index=None)"
      ]
    },
    {
      "cell_type": "code",
      "execution_count": null,
      "metadata": {
        "colab": {
          "base_uri": "https://localhost:8080/"
        },
        "id": "QxstzeyR4QQR",
        "outputId": "3a084faa-d615-48c4-b5fb-32b2ca1ea026"
      },
      "outputs": [
        {
          "name": "stdout",
          "output_type": "stream",
          "text": [
            "=== CLASSIFICATION : ASPECT ===\n",
            "                class name  precision  recall  F1-score support\n",
            "0                     food      0.852   0.565     0.680      92\n",
            "1                    price      0.882   0.455     0.600      33\n",
            "2                  service      0.814   0.660     0.729      53\n",
            "3                 ambience      0.800   0.606     0.690      33\n",
            "4  anecdotes/miscellaneous      0.822   0.790     0.806     105\n",
            "5                MACRO AVG      0.834   0.615     0.701     316\n",
            "6                MICRO AVG      0.830   0.649     0.728     316 \n",
            "\n",
            "=== CLASSIFICATION : SENTIMENT ===\n",
            "  class name  precision  recall  F1-score support\n",
            "0   positive      0.780   0.842     0.810     152\n",
            "1   negative      0.439   0.463     0.450      54\n",
            "2    neutral      0.577   0.326     0.417      46\n",
            "3   conflict      0.000   0.000     0.000      10\n",
            "4  MACRO AVG      0.449   0.408     0.419     262\n",
            "5  MICRO AVG      0.680   0.641     0.660     262 \n",
            "\n",
            "=== CLASSIFICATION : OVERALL ===\n",
            "              precision  recall  F1-score support\n",
            "0  MICRO AVG      0.555   0.434     0.487     316 \n",
            "\n"
          ]
        }
      ],
      "source": [
        "!python3 evaluate.py dev.csv lr_pred.csv"
      ]
    },
    {
      "cell_type": "markdown",
      "metadata": {},
      "source": [
        "<br>\n",
        "<hr style=\"border: 4px solid #B7C9F2;\" />\n",
        "<hr style=\"border: 2px solid #FB88B4;\" />\n",
        "\n",
        "---\n",
        "\n",
        "# 2) Deep Learning Models"
      ]
    },
    {
      "cell_type": "code",
      "execution_count": null,
      "metadata": {
        "id": "HLiROBncH8OZ"
      },
      "outputs": [],
      "source": [
        "X_train = train['tokens']\n",
        "X_dev = dev['tokens']"
      ]
    },
    {
      "cell_type": "markdown",
      "metadata": {},
      "source": [
        "\n",
        "<br>\n",
        "<hr style=\"border: 2px solid #F1EF99;\" />\n",
        "\n",
        "---\n",
        "## Download Word Embedding (GloVe)"
      ]
    },
    {
      "cell_type": "code",
      "execution_count": null,
      "metadata": {
        "colab": {
          "base_uri": "https://localhost:8080/"
        },
        "id": "UYoD4Xkd1NN4",
        "outputId": "1821f63f-9c25-418f-8e6e-132a5e1751fc"
      },
      "outputs": [
        {
          "name": "stdout",
          "output_type": "stream",
          "text": [
            "--2023-02-21 02:43:31--  http://nlp.stanford.edu/data/glove.6B.zip\n",
            "Resolving nlp.stanford.edu (nlp.stanford.edu)... 171.64.67.140\n",
            "Connecting to nlp.stanford.edu (nlp.stanford.edu)|171.64.67.140|:80... connected.\n",
            "HTTP request sent, awaiting response... 302 Found\n",
            "Location: https://nlp.stanford.edu/data/glove.6B.zip [following]\n",
            "--2023-02-21 02:43:31--  https://nlp.stanford.edu/data/glove.6B.zip\n",
            "Connecting to nlp.stanford.edu (nlp.stanford.edu)|171.64.67.140|:443... connected.\n",
            "HTTP request sent, awaiting response... 301 Moved Permanently\n",
            "Location: https://downloads.cs.stanford.edu/nlp/data/glove.6B.zip [following]\n",
            "--2023-02-21 02:43:32--  https://downloads.cs.stanford.edu/nlp/data/glove.6B.zip\n",
            "Resolving downloads.cs.stanford.edu (downloads.cs.stanford.edu)... 171.64.64.22\n",
            "Connecting to downloads.cs.stanford.edu (downloads.cs.stanford.edu)|171.64.64.22|:443... connected.\n",
            "HTTP request sent, awaiting response... 200 OK\n",
            "Length: 862182613 (822M) [application/zip]\n",
            "Saving to: ‘glove.6B.zip.1’\n",
            "\n",
            "glove.6B.zip.1      100%[===================>] 822.24M  5.06MB/s    in 2m 39s  \n",
            "\n",
            "utime(glove.6B.zip.1): No such file or directory\n",
            "2023-02-21 02:46:11 (5.16 MB/s) - ‘glove.6B.zip.1’ saved [862182613/862182613]\n",
            "\n"
          ]
        }
      ],
      "source": [
        "!wget http://nlp.stanford.edu/data/glove.6B.zip\n",
        "!unzip -q glove.6B.zip"
      ]
    },
    {
      "cell_type": "code",
      "execution_count": null,
      "metadata": {
        "id": "OWuS1Vea4iY-"
      },
      "outputs": [],
      "source": [
        "import os\n",
        "import pathlib\n",
        "path_to_glove_file = os.path.join(\n",
        "    os.path.expanduser(\"~\"), \".keras/datasets/glove.6B.300d.txt\"\n",
        ")"
      ]
    },
    {
      "cell_type": "code",
      "execution_count": null,
      "metadata": {
        "colab": {
          "base_uri": "https://localhost:8080/"
        },
        "id": "pPAaiByy2Apt",
        "outputId": "08c0d649-b951-4edc-b35b-1d51e31e33a9"
      },
      "outputs": [
        {
          "name": "stdout",
          "output_type": "stream",
          "text": [
            "Found 400000 word vectors.\n"
          ]
        }
      ],
      "source": [
        "embeddings_dict = {}\n",
        "with open('/content/glove.6B.300d.txt', encoding=\"utf-8\") as f:\n",
        "    for line in f:\n",
        "        word, coefs = line.split(maxsplit=1)\n",
        "        coefs = np.fromstring(coefs, \"f\", sep=\" \")\n",
        "        embeddings_dict[word] = coefs\n",
        "\n",
        "print(\"Found %s word vectors.\" % len(embeddings_dict))"
      ]
    },
    {
      "cell_type": "code",
      "execution_count": null,
      "metadata": {
        "id": "DrC9XI-kGkHW"
      },
      "outputs": [],
      "source": [
        "from keras.preprocessing.text import Tokenizer\n",
        "vocab_size = 10000\n",
        "oov_token = \"<OOV>\"\n",
        "tokenizer = Tokenizer(num_words = vocab_size, oov_token=oov_token)\n",
        "tokenizer.fit_on_texts(X_train)"
      ]
    },
    {
      "cell_type": "code",
      "execution_count": null,
      "metadata": {
        "colab": {
          "base_uri": "https://localhost:8080/"
        },
        "id": "6_IjG6CJGwTw",
        "outputId": "94a52bf4-5bfd-4321-920a-c09dc948862b"
      },
      "outputs": [
        {
          "data": {
            "text/plain": [
              "3564"
            ]
          },
          "execution_count": 20,
          "metadata": {},
          "output_type": "execute_result"
        }
      ],
      "source": [
        "word_index = tokenizer.word_index\n",
        "len(word_index)"
      ]
    },
    {
      "cell_type": "code",
      "execution_count": null,
      "metadata": {
        "id": "ntzjnLJCIl4-"
      },
      "outputs": [],
      "source": [
        "X_train_sequences = tokenizer.texts_to_sequences(X_train)\n",
        "X_dev_sequences = tokenizer.texts_to_sequences(X_dev)"
      ]
    },
    {
      "cell_type": "code",
      "execution_count": null,
      "metadata": {
        "colab": {
          "base_uri": "https://localhost:8080/"
        },
        "id": "pXB8d6THI2wS",
        "outputId": "fbe6a0fe-af78-443b-fd16-6bb433c139c9"
      },
      "outputs": [
        {
          "data": {
            "text/plain": [
              "[6, 3, 15, 86]"
            ]
          },
          "execution_count": 23,
          "metadata": {},
          "output_type": "execute_result"
        }
      ],
      "source": [
        "X_dev_sequences[101]"
      ]
    },
    {
      "cell_type": "code",
      "execution_count": null,
      "metadata": {
        "id": "u8oX6pxJI7ZR"
      },
      "outputs": [],
      "source": [
        "max_length = 100\n",
        "padding_type='post'\n",
        "truncation_type='post'"
      ]
    },
    {
      "cell_type": "code",
      "execution_count": null,
      "metadata": {
        "id": "HZ7rnLKY30B5"
      },
      "outputs": [],
      "source": [
        "import numpy as np\n",
        "import pandas as pd\n",
        "from numpy.linalg import norm\n",
        "from sklearn.metrics import classification_report, confusion_matrix\n",
        "from IPython.display import Image, display_png\n",
        "from gensim.models import word2vec, KeyedVectors\n",
        "from keras.models import Sequential\n",
        "from keras.layers import Input, Embedding, Dense, Dropout, Flatten, GlobalAveragePooling1D\n",
        "from keras.utils import to_categorical, plot_model, pad_sequences\n",
        "from keras.optimizers import RMSprop\n",
        "import matplotlib.pyplot as plt\n",
        "plt.style.use('ggplot')"
      ]
    },
    {
      "cell_type": "code",
      "execution_count": null,
      "metadata": {
        "id": "0a4SqR_5LD2Y"
      },
      "outputs": [],
      "source": [
        "def convert_words(sequence, word_index, max_length):\n",
        "  list_of_list_of_indices = list(sequence)\n",
        "  return pad_sequences(list_of_list_of_indices, max_length, padding='post', value=len(word_index), truncating='post')\n",
        "\n",
        "# max length (กำหนดเอง)\n",
        "train_x = convert_words(X_train_sequences, word_index, max_length)\n",
        "dev_x = convert_words(X_dev_sequences, word_index, max_length)"
      ]
    },
    {
      "cell_type": "code",
      "execution_count": null,
      "metadata": {
        "colab": {
          "base_uri": "https://localhost:8080/",
          "height": 198
        },
        "id": "qpFp8lkcPWbC",
        "outputId": "2f0307e2-40e3-4c7f-a306-ab955f2a0457"
      },
      "outputs": [],
      "source": [
        "list_of_list_of_indices = X_train_sequences\n",
        "pad_sequences(list_of_list_of_indices, max_length, padding='post', value=len(word_index), truncating='post')"
      ]
    },
    {
      "cell_type": "code",
      "execution_count": null,
      "metadata": {
        "colab": {
          "base_uri": "https://localhost:8080/"
        },
        "id": "W8zLVJVcNu95",
        "outputId": "c2125525-2ac8-4871-8909-98e9447588ee"
      },
      "outputs": [
        {
          "data": {
            "text/plain": [
              "array([  74,   70, 2683,   17, 3564, 3564, 3564, 3564, 3564, 3564, 3564,\n",
              "       3564, 3564, 3564, 3564, 3564, 3564, 3564, 3564, 3564], dtype=int32)"
            ]
          },
          "execution_count": 570,
          "metadata": {},
          "output_type": "execute_result"
        }
      ],
      "source": [
        "dev_x[0]"
      ]
    },
    {
      "cell_type": "code",
      "execution_count": null,
      "metadata": {
        "colab": {
          "base_uri": "https://localhost:8080/"
        },
        "id": "9N7r74gdCNoJ",
        "outputId": "27863239-2ba1-44c8-9a1e-f8d3aec9b34f"
      },
      "outputs": [
        {
          "data": {
            "text/plain": [
              "8"
            ]
          },
          "execution_count": 460,
          "metadata": {},
          "output_type": "execute_result"
        }
      ],
      "source": [
        "# make weight matrix of word embedding, vocab size + 1 (for padding)\n",
        "word_index['good']"
      ]
    },
    {
      "cell_type": "markdown",
      "metadata": {},
      "source": [
        "\n",
        "<br>\n",
        "<hr style=\"border: 2px solid #F1EF99;\" />\n",
        "\n",
        "---\n",
        "## Word2Vec Word Embedding"
      ]
    },
    {
      "cell_type": "code",
      "execution_count": null,
      "metadata": {
        "colab": {
          "base_uri": "https://localhost:8080/"
        },
        "id": "wBUkfvHcOMlj",
        "outputId": "07dbd440-8494-4527-d732-382f739d0de5"
      },
      "outputs": [],
      "source": [
        "!git clone https://github.com/tmikolov/word2vec\n",
        "!cd word2vec && make"
      ]
    },
    {
      "cell_type": "code",
      "execution_count": null,
      "metadata": {
        "colab": {
          "base_uri": "https://localhost:8080/"
        },
        "id": "cRUqgSY7QPNW",
        "outputId": "94669ec2-ef68-4e98-c78a-da424733401a"
      },
      "outputs": [
        {
          "name": "stdout",
          "output_type": "stream",
          "text": [
            "Looking in indexes: https://pypi.org/simple, https://us-python.pkg.dev/colab-wheels/public/simple/\n",
            "Requirement already satisfied: gdown in /usr/local/lib/python3.8/dist-packages (4.6.4)\n",
            "Requirement already satisfied: beautifulsoup4 in /usr/local/lib/python3.8/dist-packages (from gdown) (4.6.3)\n",
            "Requirement already satisfied: six in /usr/local/lib/python3.8/dist-packages (from gdown) (1.15.0)\n",
            "Requirement already satisfied: requests[socks] in /usr/local/lib/python3.8/dist-packages (from gdown) (2.25.1)\n",
            "Requirement already satisfied: tqdm in /usr/local/lib/python3.8/dist-packages (from gdown) (4.64.1)\n",
            "Requirement already satisfied: filelock in /usr/local/lib/python3.8/dist-packages (from gdown) (3.9.0)\n",
            "Requirement already satisfied: certifi>=2017.4.17 in /usr/local/lib/python3.8/dist-packages (from requests[socks]->gdown) (2022.12.7)\n",
            "Requirement already satisfied: urllib3<1.27,>=1.21.1 in /usr/local/lib/python3.8/dist-packages (from requests[socks]->gdown) (1.24.3)\n",
            "Requirement already satisfied: chardet<5,>=3.0.2 in /usr/local/lib/python3.8/dist-packages (from requests[socks]->gdown) (4.0.0)\n",
            "Requirement already satisfied: idna<3,>=2.5 in /usr/local/lib/python3.8/dist-packages (from requests[socks]->gdown) (2.10)\n",
            "Requirement already satisfied: PySocks!=1.5.7,>=1.5.6 in /usr/local/lib/python3.8/dist-packages (from requests[socks]->gdown) (1.7.1)\n"
          ]
        }
      ],
      "source": [
        "!pip install --upgrade --no-cache-dir gdown"
      ]
    },
    {
      "cell_type": "code",
      "execution_count": null,
      "metadata": {
        "colab": {
          "base_uri": "https://localhost:8080/"
        },
        "id": "zOmNcY2gBOZT",
        "outputId": "bc8d9cab-bf91-457f-83d3-603aa3254a30"
      },
      "outputs": [
        {
          "name": "stdout",
          "output_type": "stream",
          "text": [
            "WORD VECTOR estimation toolkit v 0.1c\n",
            "\n",
            "Options:\n",
            "Parameters for training:\n",
            "\t-train <file>\n",
            "\t\tUse text data from <file> to train the model\n",
            "\t-output <file>\n",
            "\t\tUse <file> to save the resulting word vectors / word clusters\n",
            "\t-size <int>\n",
            "\t\tSet size of word vectors; default is 100\n",
            "\t-window <int>\n",
            "\t\tSet max skip length between words; default is 5\n",
            "\t-sample <float>\n",
            "\t\tSet threshold for occurrence of words. Those that appear with higher frequency in the training data\n",
            "\t\twill be randomly down-sampled; default is 1e-3, useful range is (0, 1e-5)\n",
            "\t-hs <int>\n",
            "\t\tUse Hierarchical Softmax; default is 0 (not used)\n",
            "\t-negative <int>\n",
            "\t\tNumber of negative examples; default is 5, common values are 3 - 10 (0 = not used)\n",
            "\t-threads <int>\n",
            "\t\tUse <int> threads (default 12)\n",
            "\t-iter <int>\n",
            "\t\tRun more training iterations (default 5)\n",
            "\t-min-count <int>\n",
            "\t\tThis will discard words that appear less than <int> times; default is 5\n",
            "\t-alpha <float>\n",
            "\t\tSet the starting learning rate; default is 0.025 for skip-gram and 0.05 for CBOW\n",
            "\t-classes <int>\n",
            "\t\tOutput word classes rather than word vectors; default number of classes is 0 (vectors are written)\n",
            "\t-debug <int>\n",
            "\t\tSet the debug mode (default = 2 = more info during training)\n",
            "\t-binary <int>\n",
            "\t\tSave the resulting vectors in binary moded; default is 0 (off)\n",
            "\t-save-vocab <file>\n",
            "\t\tThe vocabulary will be saved to <file>\n",
            "\t-read-vocab <file>\n",
            "\t\tThe vocabulary will be read from <file>, not constructed from the training data\n",
            "\t-cbow <int>\n",
            "\t\tUse the continuous bag of words model; default is 1 (use 0 for skip-gram model)\n",
            "\n",
            "Examples:\n",
            "./word2vec -train data.txt -output vec.txt -size 200 -window 5 -sample 1e-4 -negative 5 -hs 0 -binary 0 -cbow 1 -iter 3\n",
            "\n"
          ]
        }
      ],
      "source": [
        "!./word2vec/word2vec"
      ]
    },
    {
      "cell_type": "code",
      "execution_count": null,
      "metadata": {
        "colab": {
          "base_uri": "https://localhost:8080/",
          "height": 173
        },
        "id": "MNLwR3vXyRJp",
        "outputId": "997f6f5f-bc22-4abf-a718-2c77e8af95c2"
      },
      "outputs": [
        {
          "data": {
            "application/vnd.google.colaboratory.intrinsic+json": {
              "type": "string"
            },
            "text/plain": [
              "\"\\nimport numpy as np\\nimport pandas as pd\\nfrom numpy.linalg import norm\\nfrom sklearn.metrics import classification_report, confusion_matrix\\nfrom IPython.display import Image, display_png\\nfrom gensim.models import word2vec, KeyedVectors\\nfrom keras.models import Sequential\\nfrom keras.layers import Input, Embedding, Dense, Dropout, Flatten, GlobalAveragePooling1D\\n# from keras.utils import to_categorical, plot_model, pad_sequences\\nfrom tensorflow.keras.utils import to_categorical, plot_model\\nfrom keras.preprocessing.sequence import pad_sequences\\nfrom keras.optimizers import RMSprop\\nimport matplotlib.pyplot as plt\\nplt.style.use('ggplot')\\n\""
            ]
          },
          "execution_count": 423,
          "metadata": {},
          "output_type": "execute_result"
        }
      ],
      "source": [
        "from keras.utils.vis_utils import plot_model\n",
        "import numpy as np\n",
        "import pandas as pd\n",
        "from numpy.linalg import norm\n",
        "from sklearn.metrics import classification_report, confusion_matrix\n",
        "from IPython.display import Image, display_png\n",
        "from gensim.models import word2vec, KeyedVectors\n",
        "from keras.models import Sequential\n",
        "from keras.layers import Input, Embedding, Dense, Dropout, Flatten, GlobalAveragePooling1D\n",
        "from keras.utils import to_categorical, plot_model, pad_sequences\n",
        "#from keras.preprocessing.sequence import pad_sequences\n",
        "from keras.optimizers import RMSprop\n",
        "import matplotlib.pyplot as plt\n",
        "plt.style.use('ggplot')"
      ]
    },
    {
      "cell_type": "code",
      "execution_count": null,
      "metadata": {
        "colab": {
          "base_uri": "https://localhost:8080/",
          "height": 483
        },
        "id": "B2Jm3RC2yflX",
        "outputId": "5ee7aba5-d666-4c2d-e05b-eceb664a030d"
      },
      "outputs": [
        {
          "data": {
            "text/html": [
              "\n",
              "  <div id=\"df-05f97f22-e784-4433-b5c7-a362fa18a21f\">\n",
              "    <div class=\"colab-df-container\">\n",
              "      <div>\n",
              "<style scoped>\n",
              "    .dataframe tbody tr th:only-of-type {\n",
              "        vertical-align: middle;\n",
              "    }\n",
              "\n",
              "    .dataframe tbody tr th {\n",
              "        vertical-align: top;\n",
              "    }\n",
              "\n",
              "    .dataframe thead th {\n",
              "        text-align: right;\n",
              "    }\n",
              "</style>\n",
              "<table border=\"1\" class=\"dataframe\">\n",
              "  <thead>\n",
              "    <tr style=\"text-align: right;\">\n",
              "      <th></th>\n",
              "      <th>id</th>\n",
              "      <th>tokens</th>\n",
              "      <th>length</th>\n",
              "      <th>aspectCategory</th>\n",
              "      <th>polarity</th>\n",
              "    </tr>\n",
              "  </thead>\n",
              "  <tbody>\n",
              "    <tr>\n",
              "      <th>0</th>\n",
              "      <td>3121</td>\n",
              "      <td>But|staff|horrible</td>\n",
              "      <td>3</td>\n",
              "      <td>service</td>\n",
              "      <td>negative</td>\n",
              "    </tr>\n",
              "    <tr>\n",
              "      <th>1</th>\n",
              "      <td>2777</td>\n",
              "      <td>To|completely|fair|redeeming|factor|food|avera...</td>\n",
              "      <td>9</td>\n",
              "      <td>food</td>\n",
              "      <td>positive</td>\n",
              "    </tr>\n",
              "    <tr>\n",
              "      <th>2</th>\n",
              "      <td>2777</td>\n",
              "      <td>To|completely|fair|redeeming|factor|food|avera...</td>\n",
              "      <td>9</td>\n",
              "      <td>anecdotes/miscellaneous</td>\n",
              "      <td>negative</td>\n",
              "    </tr>\n",
              "    <tr>\n",
              "      <th>3</th>\n",
              "      <td>1634</td>\n",
              "      <td>The|food|uniformly|exceptional|capable|kitchen...</td>\n",
              "      <td>12</td>\n",
              "      <td>food</td>\n",
              "      <td>positive</td>\n",
              "    </tr>\n",
              "    <tr>\n",
              "      <th>4</th>\n",
              "      <td>2534</td>\n",
              "      <td>Where|Gabriela|personaly|greets|recommends|eat</td>\n",
              "      <td>6</td>\n",
              "      <td>service</td>\n",
              "      <td>positive</td>\n",
              "    </tr>\n",
              "    <tr>\n",
              "      <th>...</th>\n",
              "      <td>...</td>\n",
              "      <td>...</td>\n",
              "      <td>...</td>\n",
              "      <td>...</td>\n",
              "      <td>...</td>\n",
              "    </tr>\n",
              "    <tr>\n",
              "      <th>1755</th>\n",
              "      <td>211</td>\n",
              "      <td>Service|food|expect|spending|type|money</td>\n",
              "      <td>6</td>\n",
              "      <td>service</td>\n",
              "      <td>neutral</td>\n",
              "    </tr>\n",
              "    <tr>\n",
              "      <th>1933</th>\n",
              "      <td>1886</td>\n",
              "      <td>The|service|ok</td>\n",
              "      <td>3</td>\n",
              "      <td>service</td>\n",
              "      <td>neutral</td>\n",
              "    </tr>\n",
              "    <tr>\n",
              "      <th>2065</th>\n",
              "      <td>1734</td>\n",
              "      <td>Service|average</td>\n",
              "      <td>2</td>\n",
              "      <td>service</td>\n",
              "      <td>neutral</td>\n",
              "    </tr>\n",
              "    <tr>\n",
              "      <th>2230</th>\n",
              "      <td>1845</td>\n",
              "      <td>However|service|plain|sesame|crusted|Salmon|I</td>\n",
              "      <td>7</td>\n",
              "      <td>service</td>\n",
              "      <td>neutral</td>\n",
              "    </tr>\n",
              "    <tr>\n",
              "      <th>2659</th>\n",
              "      <td>2330</td>\n",
              "      <td>When|family|came|gave|apps|test|palets|ordered</td>\n",
              "      <td>8</td>\n",
              "      <td>service</td>\n",
              "      <td>neutral</td>\n",
              "    </tr>\n",
              "  </tbody>\n",
              "</table>\n",
              "<p>6407 rows × 5 columns</p>\n",
              "</div>\n",
              "      <button class=\"colab-df-convert\" onclick=\"convertToInteractive('df-05f97f22-e784-4433-b5c7-a362fa18a21f')\"\n",
              "              title=\"Convert this dataframe to an interactive table.\"\n",
              "              style=\"display:none;\">\n",
              "        \n",
              "  <svg xmlns=\"http://www.w3.org/2000/svg\" height=\"24px\"viewBox=\"0 0 24 24\"\n",
              "       width=\"24px\">\n",
              "    <path d=\"M0 0h24v24H0V0z\" fill=\"none\"/>\n",
              "    <path d=\"M18.56 5.44l.94 2.06.94-2.06 2.06-.94-2.06-.94-.94-2.06-.94 2.06-2.06.94zm-11 1L8.5 8.5l.94-2.06 2.06-.94-2.06-.94L8.5 2.5l-.94 2.06-2.06.94zm10 10l.94 2.06.94-2.06 2.06-.94-2.06-.94-.94-2.06-.94 2.06-2.06.94z\"/><path d=\"M17.41 7.96l-1.37-1.37c-.4-.4-.92-.59-1.43-.59-.52 0-1.04.2-1.43.59L10.3 9.45l-7.72 7.72c-.78.78-.78 2.05 0 2.83L4 21.41c.39.39.9.59 1.41.59.51 0 1.02-.2 1.41-.59l7.78-7.78 2.81-2.81c.8-.78.8-2.07 0-2.86zM5.41 20L4 18.59l7.72-7.72 1.47 1.35L5.41 20z\"/>\n",
              "  </svg>\n",
              "      </button>\n",
              "      \n",
              "  <style>\n",
              "    .colab-df-container {\n",
              "      display:flex;\n",
              "      flex-wrap:wrap;\n",
              "      gap: 12px;\n",
              "    }\n",
              "\n",
              "    .colab-df-convert {\n",
              "      background-color: #E8F0FE;\n",
              "      border: none;\n",
              "      border-radius: 50%;\n",
              "      cursor: pointer;\n",
              "      display: none;\n",
              "      fill: #1967D2;\n",
              "      height: 32px;\n",
              "      padding: 0 0 0 0;\n",
              "      width: 32px;\n",
              "    }\n",
              "\n",
              "    .colab-df-convert:hover {\n",
              "      background-color: #E2EBFA;\n",
              "      box-shadow: 0px 1px 2px rgba(60, 64, 67, 0.3), 0px 1px 3px 1px rgba(60, 64, 67, 0.15);\n",
              "      fill: #174EA6;\n",
              "    }\n",
              "\n",
              "    [theme=dark] .colab-df-convert {\n",
              "      background-color: #3B4455;\n",
              "      fill: #D2E3FC;\n",
              "    }\n",
              "\n",
              "    [theme=dark] .colab-df-convert:hover {\n",
              "      background-color: #434B5C;\n",
              "      box-shadow: 0px 1px 3px 1px rgba(0, 0, 0, 0.15);\n",
              "      filter: drop-shadow(0px 1px 2px rgba(0, 0, 0, 0.3));\n",
              "      fill: #FFFFFF;\n",
              "    }\n",
              "  </style>\n",
              "\n",
              "      <script>\n",
              "        const buttonEl =\n",
              "          document.querySelector('#df-05f97f22-e784-4433-b5c7-a362fa18a21f button.colab-df-convert');\n",
              "        buttonEl.style.display =\n",
              "          google.colab.kernel.accessAllowed ? 'block' : 'none';\n",
              "\n",
              "        async function convertToInteractive(key) {\n",
              "          const element = document.querySelector('#df-05f97f22-e784-4433-b5c7-a362fa18a21f');\n",
              "          const dataTable =\n",
              "            await google.colab.kernel.invokeFunction('convertToInteractive',\n",
              "                                                     [key], {});\n",
              "          if (!dataTable) return;\n",
              "\n",
              "          const docLinkHtml = 'Like what you see? Visit the ' +\n",
              "            '<a target=\"_blank\" href=https://colab.research.google.com/notebooks/data_table.ipynb>data table notebook</a>'\n",
              "            + ' to learn more about interactive tables.';\n",
              "          element.innerHTML = '';\n",
              "          dataTable['output_type'] = 'display_data';\n",
              "          await google.colab.output.renderOutput(dataTable, element);\n",
              "          const docLink = document.createElement('div');\n",
              "          docLink.innerHTML = docLinkHtml;\n",
              "          element.appendChild(docLink);\n",
              "        }\n",
              "      </script>\n",
              "    </div>\n",
              "  </div>\n",
              "  "
            ],
            "text/plain": [
              "        id                                             tokens  length  \\\n",
              "0     3121                                 But|staff|horrible       3   \n",
              "1     2777  To|completely|fair|redeeming|factor|food|avera...       9   \n",
              "2     2777  To|completely|fair|redeeming|factor|food|avera...       9   \n",
              "3     1634  The|food|uniformly|exceptional|capable|kitchen...      12   \n",
              "4     2534     Where|Gabriela|personaly|greets|recommends|eat       6   \n",
              "...    ...                                                ...     ...   \n",
              "1755   211            Service|food|expect|spending|type|money       6   \n",
              "1933  1886                                     The|service|ok       3   \n",
              "2065  1734                                    Service|average       2   \n",
              "2230  1845      However|service|plain|sesame|crusted|Salmon|I       7   \n",
              "2659  2330     When|family|came|gave|apps|test|palets|ordered       8   \n",
              "\n",
              "               aspectCategory  polarity  \n",
              "0                     service  negative  \n",
              "1                        food  positive  \n",
              "2     anecdotes/miscellaneous  negative  \n",
              "3                        food  positive  \n",
              "4                     service  positive  \n",
              "...                       ...       ...  \n",
              "1755                  service   neutral  \n",
              "1933                  service   neutral  \n",
              "2065                  service   neutral  \n",
              "2230                  service   neutral  \n",
              "2659                  service   neutral  \n",
              "\n",
              "[6407 rows x 5 columns]"
            ]
          },
          "execution_count": 424,
          "metadata": {},
          "output_type": "execute_result"
        }
      ],
      "source": [
        "train['length'] = train['tokens'].apply(lambda x: x.count('|')+1)\n",
        "dev['length'] = dev['tokens'].apply(lambda x: x.count('|')+1)\n",
        "train = train[['id', 'tokens', 'length', 'aspectCategory', 'polarity']]\n",
        "dev = dev[['id', 'tokens', 'length', 'aspectCategory', 'polarity']]\n",
        "train"
      ]
    },
    {
      "cell_type": "code",
      "execution_count": null,
      "metadata": {
        "colab": {
          "base_uri": "https://localhost:8080/"
        },
        "id": "ZLNNoEyty0pl",
        "outputId": "5bd76b3d-20cc-4e35-f446-92d37ae3b81f"
      },
      "outputs": [
        {
          "data": {
            "text/plain": [
              "count    6407.000000\n",
              "mean        7.277041\n",
              "std         3.903481\n",
              "min         1.000000\n",
              "25%         5.000000\n",
              "50%         7.000000\n",
              "75%         9.000000\n",
              "max        32.000000\n",
              "Name: length, dtype: float64"
            ]
          },
          "execution_count": 425,
          "metadata": {},
          "output_type": "execute_result"
        }
      ],
      "source": [
        "train.length.describe()"
      ]
    },
    {
      "cell_type": "code",
      "execution_count": null,
      "metadata": {
        "colab": {
          "base_uri": "https://localhost:8080/"
        },
        "id": "CYOdxvse4FOf",
        "outputId": "5892f26d-2a3b-4424-ef10-119c3c416ab7"
      },
      "outputs": [
        {
          "data": {
            "text/plain": [
              "price                      1701\n",
              "service                    1353\n",
              "anecdotes/miscellaneous    1324\n",
              "food                       1033\n",
              "ambience                    996\n",
              "Name: aspectCategory, dtype: int64"
            ]
          },
          "execution_count": 426,
          "metadata": {},
          "output_type": "execute_result"
        }
      ],
      "source": [
        "train.aspectCategory.value_counts()"
      ]
    },
    {
      "cell_type": "code",
      "execution_count": null,
      "metadata": {
        "colab": {
          "base_uri": "https://localhost:8080/"
        },
        "id": "ojkQijDlziNP",
        "outputId": "7650d89d-3887-4428-8bda-bd3aa504d339"
      },
      "outputs": [
        {
          "data": {
            "text/plain": [
              "count    316.000000\n",
              "mean       7.126582\n",
              "std        3.904794\n",
              "min        1.000000\n",
              "25%        4.000000\n",
              "50%        7.000000\n",
              "75%        9.000000\n",
              "max       22.000000\n",
              "Name: length, dtype: float64"
            ]
          },
          "execution_count": 253,
          "metadata": {},
          "output_type": "execute_result"
        }
      ],
      "source": [
        "dev.length.describe()"
      ]
    },
    {
      "cell_type": "code",
      "execution_count": null,
      "metadata": {
        "id": "C9fJU4X45AG3"
      },
      "outputs": [],
      "source": [
        "sentences = train['tokens'].apply(lambda x: x.split('|')).tolist()\n",
        "from gensim.models import Word2Vec\n",
        "# Train the Word2Vec model\n",
        "model = Word2Vec(sentences, size=100, window=5, min_count=1, workers=4, batch_words = 1000)\n",
        "# Get the word embeddings\n",
        "w2v_model = model.wv"
      ]
    },
    {
      "cell_type": "code",
      "execution_count": null,
      "metadata": {
        "colab": {
          "base_uri": "https://localhost:8080/"
        },
        "id": "fkwKnslp9FOC",
        "outputId": "ab1e0f98-4139-4125-c022-c5bf16b7f08c"
      },
      "outputs": [
        {
          "name": "stdout",
          "output_type": "stream",
          "text": [
            "vocab size: 4117\n",
            "vector dimension: 100\n"
          ]
        }
      ],
      "source": [
        "# vocabulary size of pre-trained model\n",
        "vocab_size = len(w2v_model.vocab)\n",
        "print('vocab size:', vocab_size)\n",
        "\n",
        "# vector dimension\n",
        "vector_dim = (len(w2v_model['good']))\n",
        "print('vector dimension:', vector_dim)"
      ]
    },
    {
      "cell_type": "code",
      "execution_count": null,
      "metadata": {
        "colab": {
          "base_uri": "https://localhost:8080/"
        },
        "id": "v89N0VTur0oc",
        "outputId": "1eab250d-06f1-41e8-d819-6edc03af6ba9"
      },
      "outputs": [
        {
          "data": {
            "text/plain": [
              "array([-0.14242603,  0.08174667,  0.01339445, -0.0336396 ,  0.09633047,\n",
              "       -0.10733993,  0.02399174,  0.05420462,  0.0268991 ,  0.03311791,\n",
              "        0.0197526 , -0.11069852,  0.04326565, -0.00369615, -0.07324265,\n",
              "        0.06095168, -0.02495733, -0.01373175,  0.01161456,  0.03604413,\n",
              "        0.15097398, -0.0678963 ,  0.00917475, -0.03966276, -0.04849009,\n",
              "        0.01928027, -0.0752214 ,  0.04198362,  0.07457295,  0.07555541,\n",
              "        0.00036343,  0.02170697, -0.019302  ,  0.04128383, -0.05149387,\n",
              "       -0.13866152,  0.09612698,  0.01362117, -0.1458609 , -0.0827679 ,\n",
              "       -0.0198939 , -0.02244446,  0.124228  ,  0.08499058, -0.00416615,\n",
              "       -0.01923599, -0.04826722,  0.04689252,  0.00656577, -0.13414145,\n",
              "       -0.04334337,  0.01905027, -0.0616229 ,  0.07436538, -0.00150412,\n",
              "       -0.09167643, -0.01263295,  0.03504059, -0.02913037, -0.04797075,\n",
              "        0.01128621, -0.02698045, -0.02008533,  0.07486624,  0.12074474,\n",
              "       -0.02268267, -0.06512919, -0.01931636,  0.03441061,  0.06637401,\n",
              "        0.17047338,  0.0852154 , -0.04408761, -0.08795264,  0.10722988,\n",
              "       -0.01846535,  0.06645753, -0.03799617,  0.05234154, -0.01041768,\n",
              "       -0.03465066, -0.00901228,  0.01330171, -0.07508703, -0.01526374,\n",
              "        0.02297734, -0.03475021, -0.10379325,  0.0014287 ,  0.00698304,\n",
              "        0.03291301, -0.02517986,  0.01388911,  0.10915688, -0.02977849,\n",
              "        0.02589487,  0.00571317, -0.06450032, -0.02817974,  0.00564719],\n",
              "      dtype=float32)"
            ]
          },
          "execution_count": 429,
          "metadata": {},
          "output_type": "execute_result"
        }
      ],
      "source": [
        "w2v_model['happy']"
      ]
    },
    {
      "cell_type": "code",
      "execution_count": null,
      "metadata": {
        "colab": {
          "base_uri": "https://localhost:8080/"
        },
        "id": "m4fuJ3D-r9FY",
        "outputId": "664d3efe-3d19-467d-b601-aaa3e74329c0"
      },
      "outputs": [
        {
          "data": {
            "text/plain": [
              "array([-0.7927149 ,  0.46092403,  0.07560585, -0.15711243,  0.55846936,\n",
              "       -0.58470565,  0.1272148 ,  0.3366995 ,  0.12889397,  0.18389782,\n",
              "        0.10162345, -0.6497651 ,  0.22183435, -0.00743847, -0.3963684 ,\n",
              "        0.30822653, -0.12529768, -0.05639476,  0.05556531,  0.17339815,\n",
              "        0.8655698 , -0.3765427 ,  0.02339296, -0.22821286, -0.2668013 ,\n",
              "        0.07459023, -0.42616957,  0.21492876,  0.42379683,  0.41137147,\n",
              "       -0.01446245,  0.1084398 , -0.11309155,  0.26934683, -0.2814155 ,\n",
              "       -0.79521734,  0.55246586,  0.08431306, -0.82136476, -0.4895708 ,\n",
              "       -0.13470347, -0.1284211 ,  0.6819454 ,  0.45756862, -0.00444587,\n",
              "       -0.07480697, -0.29122165,  0.24395812,  0.012607  , -0.75866455,\n",
              "       -0.271286  ,  0.10924201, -0.36411998,  0.40709692, -0.01584184,\n",
              "       -0.54782647, -0.07799494,  0.18596426, -0.16628681, -0.2730476 ,\n",
              "        0.07164939, -0.16857463, -0.08618824,  0.4306982 ,  0.6708462 ,\n",
              "       -0.1585107 , -0.3472383 , -0.09742749,  0.18172699,  0.3967823 ,\n",
              "        0.9471247 ,  0.5056537 , -0.2544583 , -0.50909936,  0.57469916,\n",
              "       -0.12141088,  0.37416047, -0.21098329,  0.2697305 , -0.07176875,\n",
              "       -0.2054839 , -0.07665891,  0.07926805, -0.4463907 , -0.08880338,\n",
              "        0.15296042, -0.18946342, -0.6004549 ,  0.03091759,  0.06195235,\n",
              "        0.20310077, -0.1269841 ,  0.06022675,  0.62311786, -0.14943762,\n",
              "        0.13770168,  0.05810703, -0.33270016, -0.18260008,  0.01602258],\n",
              "      dtype=float32)"
            ]
          },
          "execution_count": 430,
          "metadata": {},
          "output_type": "execute_result"
        }
      ],
      "source": [
        "w2v_model['good']"
      ]
    },
    {
      "cell_type": "code",
      "execution_count": null,
      "metadata": {
        "colab": {
          "base_uri": "https://localhost:8080/"
        },
        "id": "SKQdfFqC9cCW",
        "outputId": "cd98d842-233a-4c9f-d081-e29c08bea3f3"
      },
      "outputs": [
        {
          "data": {
            "text/plain": [
              "1348"
            ]
          },
          "execution_count": 431,
          "metadata": {},
          "output_type": "execute_result"
        }
      ],
      "source": [
        "# make weight matrix of word embedding, vocab size + 2 (for padding and unknown)\n",
        "embedding_matrix = np.zeros((vocab_size+2, vector_dim), dtype=\"float32\")\n",
        "embedding_matrix[0] = np.zeros(vector_dim)\n",
        "\n",
        "word_to_index = {word:i+1 for i, word in enumerate(w2v_model.vocab)}\n",
        "# word to index dictionary, 0 for padding, UNKNOWN\n",
        "word_to_index['PADDING'] = 0\n",
        "word_to_index['<UNK>'] = len(word_to_index)\n",
        "\n",
        "for i, word in enumerate(w2v_model.vocab):\n",
        "    embedding_matrix[i+1] = w2v_model[word]\n",
        "\n",
        "word_to_index['mean']"
      ]
    },
    {
      "cell_type": "code",
      "execution_count": null,
      "metadata": {
        "colab": {
          "base_uri": "https://localhost:8080/"
        },
        "id": "lH0fvg1LsG9w",
        "outputId": "57e838b4-9b40-4199-f7e0-3c30b353fa13"
      },
      "outputs": [
        {
          "data": {
            "text/plain": [
              "4119"
            ]
          },
          "execution_count": 432,
          "metadata": {},
          "output_type": "execute_result"
        }
      ],
      "source": [
        "len(word_to_index)"
      ]
    },
    {
      "cell_type": "code",
      "execution_count": null,
      "metadata": {
        "colab": {
          "base_uri": "https://localhost:8080/"
        },
        "id": "knXKj9mLWnNT",
        "outputId": "bbe76a3c-40c7-4e2a-da1b-6b60cb201b21"
      },
      "outputs": [
        {
          "data": {
            "text/plain": [
              "292                  Lunch came pickels slaw extra charge\n",
              "1813            Service excellent AC worked thank God hot\n",
              "3122                              The counter service bad\n",
              "3134    You pay lot decore food better worse lot Chine...\n",
              "2867    The service attentive unimposing food far bett...\n",
              "                              ...                        \n",
              "1616    They rip-off 8.95 small meat patties steamed b...\n",
              "2509           I wait summer serve outside gigantic patio\n",
              "150     The strong scents coming left right negatively...\n",
              "407                       The food good I onion soup best\n",
              "678                                   Me girls definitely\n",
              "Name: tokens, Length: 2524, dtype: object"
            ]
          },
          "execution_count": 203,
          "metadata": {},
          "output_type": "execute_result"
        }
      ],
      "source": [
        "X_train"
      ]
    },
    {
      "cell_type": "code",
      "execution_count": null,
      "metadata": {
        "id": "D9yFbmy4TpHx"
      },
      "outputs": [],
      "source": [
        "import tensorflow as tf\n",
        "from tensorflow.keras.layers import TextVectorization\n",
        "vectorizer = TextVectorization(max_tokens=20000, output_sequence_length=200)\n",
        "text_ds = tf.data.Dataset.from_tensor_slices(X_train).batch(128)\n",
        "vectorizer.adapt(text_ds)"
      ]
    },
    {
      "cell_type": "code",
      "execution_count": null,
      "metadata": {
        "colab": {
          "base_uri": "https://localhost:8080/"
        },
        "id": "AQAEX6ihS3L1",
        "outputId": "3732af60-4ce3-4f90-f96d-ea80441f1b70"
      },
      "outputs": [
        {
          "name": "stdout",
          "output_type": "stream",
          "text": [
            "Converted 3328 words (290 misses)\n"
          ]
        }
      ],
      "source": [
        "voc = vectorizer.get_vocabulary()\n",
        "word_index = dict(zip(voc, range(len(voc))))\n",
        "num_tokens = len(voc) + 2\n",
        "embedding_dim = 300\n",
        "hits = 0\n",
        "misses = 0\n",
        "embedding_matrix = np.zeros((num_tokens, embedding_dim))\n",
        "for word, i in word_index.items():\n",
        "    embedding_vector = embeddings_dict.get(word)\n",
        "    if embedding_vector is not None:\n",
        "        # Words not found in embedding index will be all-zeros.\n",
        "        # This includes the representation for \"padding\" and \"OOV\"\n",
        "        embedding_matrix[i] = embedding_vector\n",
        "        hits += 1\n",
        "    else:\n",
        "        misses += 1\n",
        "print(\"Converted %d words (%d misses)\" % (hits, misses))\n"
      ]
    },
    {
      "cell_type": "code",
      "execution_count": null,
      "metadata": {
        "colab": {
          "base_uri": "https://localhost:8080/"
        },
        "id": "o3r06vPnWNQI",
        "outputId": "123de221-68af-4134-ad26-6dac04b3c5b9"
      },
      "outputs": [
        {
          "data": {
            "text/plain": [
              "array([0., 0., 0., 0., 0., 0., 0., 0., 0., 0., 0., 0., 0., 0., 0., 0., 0.,\n",
              "       0., 0., 0., 0., 0., 0., 0., 0., 0., 0., 0., 0., 0., 0., 0., 0., 0.,\n",
              "       0., 0., 0., 0., 0., 0., 0., 0., 0., 0., 0., 0., 0., 0., 0., 0., 0.,\n",
              "       0., 0., 0., 0., 0., 0., 0., 0., 0., 0., 0., 0., 0., 0., 0., 0., 0.,\n",
              "       0., 0., 0., 0., 0., 0., 0., 0., 0., 0., 0., 0., 0., 0., 0., 0., 0.,\n",
              "       0., 0., 0., 0., 0., 0., 0., 0., 0., 0., 0., 0., 0., 0., 0., 0., 0.,\n",
              "       0., 0., 0., 0., 0., 0., 0., 0., 0., 0., 0., 0., 0., 0., 0., 0., 0.,\n",
              "       0., 0., 0., 0., 0., 0., 0., 0., 0., 0., 0., 0., 0., 0., 0., 0., 0.,\n",
              "       0., 0., 0., 0., 0., 0., 0., 0., 0., 0., 0., 0., 0., 0., 0., 0., 0.,\n",
              "       0., 0., 0., 0., 0., 0., 0., 0., 0., 0., 0., 0., 0., 0., 0., 0., 0.,\n",
              "       0., 0., 0., 0., 0., 0., 0., 0., 0., 0., 0., 0., 0., 0., 0., 0., 0.,\n",
              "       0., 0., 0., 0., 0., 0., 0., 0., 0., 0., 0., 0., 0., 0., 0., 0., 0.,\n",
              "       0., 0., 0., 0., 0., 0., 0., 0., 0., 0., 0., 0., 0., 0., 0., 0., 0.,\n",
              "       0., 0., 0., 0., 0., 0., 0., 0., 0., 0., 0., 0., 0., 0., 0., 0., 0.,\n",
              "       0., 0., 0., 0., 0., 0., 0., 0., 0., 0., 0., 0., 0., 0., 0., 0., 0.,\n",
              "       0., 0., 0., 0., 0., 0., 0., 0., 0., 0., 0., 0., 0., 0., 0., 0., 0.,\n",
              "       0., 0., 0., 0., 0., 0., 0., 0., 0., 0., 0., 0., 0., 0., 0., 0., 0.,\n",
              "       0., 0., 0., 0., 0., 0., 0., 0., 0., 0., 0.])"
            ]
          },
          "execution_count": 45,
          "metadata": {},
          "output_type": "execute_result"
        }
      ],
      "source": [
        "embedding_matrix[0] = np.zeros(embedding_dim)"
      ]
    },
    {
      "cell_type": "code",
      "execution_count": null,
      "metadata": {
        "id": "HRZSlQdy8B3d"
      },
      "outputs": [],
      "source": [
        "word_to_index = {word:i+1 for i, word in enumerate(voc)}"
      ]
    },
    {
      "cell_type": "code",
      "execution_count": null,
      "metadata": {
        "id": "4v61kRHE_zbN"
      },
      "outputs": [],
      "source": [
        "# make weight matrix of word embedding, vocab size + 2 (for padding and unknown)\n",
        "embedding_matrix = np.zeros((vocab_size+2, vector_dim), dtype=\"float32\")\n",
        "embedding_matrix[0] = np.zeros(vector_dim)\n",
        "\n",
        "word_to_index = {word:i+1 for i, word in enumerate(w2v_model.vocab)}\n",
        "# word to index dictionary, 0 for padding, UNKNOWN\n",
        "word_to_index['PADDING'] = 0\n",
        "word_to_index['<UNK>'] = len(word_to_index)\n",
        "\n",
        "for i, word in enumerate(w2v_model.vocab):\n",
        "    embedding_matrix[i+1] = w2v_model[word]"
      ]
    },
    {
      "cell_type": "markdown",
      "metadata": {
        "id": "vukGWf-3iuG9"
      },
      "source": [
        "<br>\n",
        "<hr style=\"border: 2px solid #9195F6;\" />\n",
        "\n",
        "---\n",
        "### Convert words into indices and pad + truncate sequences"
      ]
    },
    {
      "cell_type": "code",
      "execution_count": null,
      "metadata": {
        "colab": {
          "base_uri": "https://localhost:8080/"
        },
        "id": "348FsEdy-ks9",
        "outputId": "85987383-b11f-4f66-ae79-93102aa89b10"
      },
      "outputs": [
        {
          "data": {
            "text/plain": [
              "array([ 33, 377, 378, 379,   0,   0,   0,   0,   0,   0,   0,   0,   0,\n",
              "         0,   0], dtype=int32)"
            ]
          },
          "execution_count": 487,
          "metadata": {},
          "output_type": "execute_result"
        }
      ],
      "source": [
        "def convert_words(df, word_to_index, max_length):\n",
        "  tokens = df['tokens'].apply(lambda x: x.split('|'))\n",
        "  list_of_list_of_indices = list(tokens.map(lambda x: [word_to_index.get(word, word_to_index['<UNK>']) for word in x]))\n",
        "  return pad_sequences(list_of_list_of_indices, max_length, padding='post', value=word_to_index['PADDING'], truncating='post')\n",
        "\n",
        "# max length (กำหนดเอง)\n",
        "max_len = 15\n",
        "train_x = convert_words(train, word_to_index, max_len)\n",
        "dev_x = convert_words(dev, word_to_index, max_len)\n",
        "train_x[100]"
      ]
    },
    {
      "cell_type": "code",
      "execution_count": null,
      "metadata": {
        "colab": {
          "base_uri": "https://localhost:8080/"
        },
        "id": "3mklQQ4yjKMw",
        "outputId": "353fffa1-f2b8-44a5-e3d8-11b4d7ff66bf"
      },
      "outputs": [
        {
          "data": {
            "text/plain": [
              "array([24, 25, 26, 27, 28, 29,  0,  0,  0,  0,  0,  0,  0,  0,  0],\n",
              "      dtype=int32)"
            ]
          },
          "execution_count": 488,
          "metadata": {},
          "output_type": "execute_result"
        }
      ],
      "source": [
        "train_x[4]"
      ]
    },
    {
      "cell_type": "markdown",
      "metadata": {
        "id": "5t9upEurjXN0"
      },
      "source": [
        "<br>\n",
        "<hr style=\"border: 2px solid #9195F6;\" />\n",
        "\n",
        "---\n",
        "### Mapping labels"
      ]
    },
    {
      "cell_type": "code",
      "execution_count": null,
      "metadata": {
        "colab": {
          "base_uri": "https://localhost:8080/"
        },
        "id": "UuKoKuQajTX-",
        "outputId": "e7427c31-6eea-4dcb-bfd1-5817bd720258"
      },
      "outputs": [
        {
          "name": "stdout",
          "output_type": "stream",
          "text": [
            "[[1. 0. 0. 0.]\n",
            " [0. 0. 1. 0.]\n",
            " [0. 0. 1. 0.]\n",
            " [0. 0. 1. 0.]\n",
            " [0. 0. 1. 0.]\n",
            " [0. 0. 1. 0.]\n",
            " [0. 0. 1. 0.]\n",
            " [0. 0. 1. 0.]\n",
            " [1. 0. 0. 0.]\n",
            " [0. 0. 1. 0.]]\n"
          ]
        }
      ],
      "source": [
        "def get_label(df):\n",
        "  polarity_to_label = {'negative':0, 'neutral':1, 'positive': 2, 'conflict': 3}\n",
        "  # apply functions & convert to np.array\n",
        "  label = np.array(df['polarity'].replace(polarity_to_label).tolist())\n",
        "  df['label'] = label\n",
        "  return to_categorical(label, num_classes=4)\n",
        "\n",
        "# label : one-hot vector\n",
        "train_y = get_label(train)\n",
        "dev_y = get_label(dev)\n",
        "print(train_y[100:110])"
      ]
    },
    {
      "cell_type": "code",
      "execution_count": null,
      "metadata": {
        "colab": {
          "base_uri": "https://localhost:8080/"
        },
        "id": "gpemK2EHmlNC",
        "outputId": "c0d48f30-05aa-498d-e5b6-6e222f6ceab3"
      },
      "outputs": [
        {
          "name": "stdout",
          "output_type": "stream",
          "text": [
            "input train: (6407, 15)\n",
            "input dev: (316, 15)\n",
            "label train: (6407, 4)\n",
            "label dev: (316, 4)\n"
          ]
        }
      ],
      "source": [
        "# check the shape\n",
        "print('input train:', train_x.shape)\n",
        "print('input dev:', dev_x.shape)\n",
        "print('label train:', train_y.shape)\n",
        "print('label dev:',dev_y.shape)"
      ]
    },
    {
      "cell_type": "code",
      "execution_count": null,
      "metadata": {
        "colab": {
          "base_uri": "https://localhost:8080/"
        },
        "id": "gZIEi5O4kucs",
        "outputId": "c7801c8a-512c-4959-ed0a-4a9d8b05c833"
      },
      "outputs": [
        {
          "name": "stdout",
          "output_type": "stream",
          "text": [
            "[[1. 0. 0. 0. 0.]\n",
            " [1. 0. 0. 0. 0.]\n",
            " [0. 1. 0. 0. 0.]\n",
            " [0. 0. 0. 1. 0.]\n",
            " [0. 0. 1. 0. 0.]\n",
            " [0. 0. 0. 0. 1.]\n",
            " [0. 1. 0. 0. 0.]\n",
            " [1. 0. 0. 0. 0.]\n",
            " [0. 1. 0. 0. 0.]\n",
            " [0. 1. 0. 0. 0.]]\n"
          ]
        }
      ],
      "source": [
        "def get_label(df):\n",
        "  aspect_to_label = {'food':0, 'anecdotes/miscellaneous':1, 'service':2, 'ambience':3, 'price':4}\n",
        "  # apply functions & convert to np.array\n",
        "  label = np.array(df['aspectCategory'].replace(aspect_to_label).tolist())\n",
        "  df['label'] = label\n",
        "  return to_categorical(label, num_classes=5)\n",
        "\n",
        "# label : one-hot vector\n",
        "train_y = get_label(train)\n",
        "dev_y = get_label(dev)\n",
        "print(train_y[100:110])"
      ]
    },
    {
      "cell_type": "code",
      "execution_count": null,
      "metadata": {
        "colab": {
          "base_uri": "https://localhost:8080/"
        },
        "id": "zD7fagzEkxLJ",
        "outputId": "4e37778b-a998-44a3-880c-06e954b30c34"
      },
      "outputs": [
        {
          "name": "stdout",
          "output_type": "stream",
          "text": [
            "input train: (6407, 15)\n",
            "input dev: (316, 15)\n",
            "label train: (6407, 5)\n",
            "label dev: (316, 5)\n"
          ]
        }
      ],
      "source": [
        "# check the shape\n",
        "print('input train:', train_x.shape)\n",
        "print('input dev:', dev_x.shape)\n",
        "print('label train:', train_y.shape)\n",
        "print('label dev:',dev_y.shape)"
      ]
    },
    {
      "cell_type": "markdown",
      "metadata": {},
      "source": [
        "## Tensorflow"
      ]
    },
    {
      "cell_type": "code",
      "execution_count": null,
      "metadata": {
        "colab": {
          "base_uri": "https://localhost:8080/"
        },
        "id": "kj01XCoTuOYl",
        "outputId": "24699b01-dbab-43c4-d357-dee35ef06bc9"
      },
      "outputs": [
        {
          "name": "stdout",
          "output_type": "stream",
          "text": [
            "Looking in indexes: https://pypi.org/simple, https://us-python.pkg.dev/colab-wheels/public/simple/\n",
            "Collecting keras.utils\n",
            "  Downloading keras-utils-1.0.13.tar.gz (2.4 kB)\n",
            "  Preparing metadata (setup.py) ... \u001b[?25l\u001b[?25hdone\n",
            "Requirement already satisfied: Keras>=2.1.5 in /usr/local/lib/python3.8/dist-packages (from keras.utils) (2.11.0)\n",
            "Building wheels for collected packages: keras.utils\n",
            "  Building wheel for keras.utils (setup.py) ... \u001b[?25l\u001b[?25hdone\n",
            "  Created wheel for keras.utils: filename=keras_utils-1.0.13-py3-none-any.whl size=2656 sha256=e279d038d59c90b8a75992858d44107b1290e283563291ba30bce3fcf82e03b2\n",
            "  Stored in directory: /root/.cache/pip/wheels/2f/e9/19/d3d310a06735013bf467216222ebb92b1158c5d3ae006bf92a\n",
            "Successfully built keras.utils\n",
            "Installing collected packages: keras.utils\n",
            "Successfully installed keras.utils-1.0.13\n"
          ]
        }
      ],
      "source": [
        "!pip install keras.utils\n",
        "!pip install tensorflow"
      ]
    },
    {
      "cell_type": "code",
      "execution_count": null,
      "metadata": {
        "id": "FmMsFq5-v49h"
      },
      "outputs": [],
      "source": [
        "import numpy as np\n",
        "import numpy.linalg as LA"
      ]
    },
    {
      "cell_type": "code",
      "execution_count": null,
      "metadata": {
        "colab": {
          "base_uri": "https://localhost:8080/"
        },
        "id": "NynfstK4uqcm",
        "outputId": "666f0d6b-3096-417b-e760-f422058f8925"
      },
      "outputs": [
        {
          "name": "stdout",
          "output_type": "stream",
          "text": [
            "Colab only includes TensorFlow 2.x; %tensorflow_version has no effect.\n"
          ]
        }
      ],
      "source": [
        "from keras import optimizers\n",
        "%tensorflow_version\n",
        "\n",
        "# import numpy as np\n",
        "import numpy.linalg as LA\n",
        "import pandas as pd\n",
        "from sklearn.metrics import classification_report, confusion_matrix\n",
        "from IPython.display import Image, display_png\n",
        "from gensim.models import word2vec, KeyedVectors\n",
        "from tensorflow.keras.models import Sequential\n",
        "from tensorflow.keras.layers import (\n",
        "    Input, Embedding, Dense, Dropout, Flatten, GlobalAveragePooling1D, Conv1D, GlobalMaxPooling1D, BatchNormalization\n",
        ")\n",
        "from tensorflow.keras.preprocessing.sequence import pad_sequences\n",
        "#from tensorflow.keras.optimizers import RMSprop\n",
        "from tensorflow.keras import optimizers\n",
        "import matplotlib.pyplot as plt\n",
        "plt.style.use('ggplot')\n",
        "\n",
        "#from keras.optimizers import RMSprop"
      ]
    },
    {
      "cell_type": "code",
      "execution_count": null,
      "metadata": {
        "id": "yBFiopElwYR9"
      },
      "outputs": [],
      "source": [
        "num_classes = 5"
      ]
    },
    {
      "cell_type": "markdown",
      "metadata": {
        "id": "r3ZvyzOvmwWn"
      },
      "source": [
        "\n",
        "<hr style=\"border: 2px solid #F1EF99;\" />\n",
        "\n",
        "---\n",
        "\n",
        "## Train the model - DAN"
      ]
    },
    {
      "cell_type": "code",
      "execution_count": null,
      "metadata": {
        "id": "Mc1wgIoWk77Y"
      },
      "outputs": [],
      "source": [
        "# instantiation\n",
        "def make_deep_average_net(print_model=True):\n",
        "    model = Sequential()\n",
        "    # add embedding layer\n",
        "    model.add(Embedding(input_dim=embedding_matrix.shape[0],\n",
        "                    input_length=max_len,\n",
        "                    output_dim=embedding_matrix.shape[1],\n",
        "                    weights=[embedding_matrix],\n",
        "                    mask_zero=True,\n",
        "                    trainable=True))\n",
        "\n",
        "    # average\n",
        "    model.add(GlobalAveragePooling1D())\n",
        "\n",
        "    # add hidden layer\n",
        "    model.add(Dense(200, activation='relu'))\n",
        "    model.add(Dense(128, activation='relu'))\n",
        "    model.add(Dropout(0.6))\n",
        "    model.add(Dense(64, activation='relu'))\n",
        "\n",
        "    # add output layer\n",
        "    model.add(Dense(4, activation='softmax'))\n",
        "\n",
        "    # compile model\n",
        "    model.compile(optimizer=\"adam\", loss=\"categorical_crossentropy\", metrics=[\"accuracy\"])\n",
        "    if print_model:\n",
        "        model.summary()\n",
        "        plot_model(model, show_shapes=True,to_file='model.png')\n",
        "        display_png(Image('model.png'))\n",
        "    return model"
      ]
    },
    {
      "cell_type": "code",
      "execution_count": null,
      "metadata": {
        "colab": {
          "base_uri": "https://localhost:8080/",
          "height": 1000
        },
        "id": "RpoWZxR8WO3M",
        "outputId": "38645983-8d18-4145-bcdf-0fc6157ac4af"
      },
      "outputs": [
        {
          "name": "stdout",
          "output_type": "stream",
          "text": [
            "Model: \"sequential_84\"\n",
            "_________________________________________________________________\n",
            " Layer (type)                Output Shape              Param #   \n",
            "=================================================================\n",
            " embedding_83 (Embedding)    (None, 15, 100)           411900    \n",
            "                                                                 \n",
            " global_average_pooling1d_12  (None, 100)              0         \n",
            "  (GlobalAveragePooling1D)                                       \n",
            "                                                                 \n",
            " dense_232 (Dense)           (None, 200)               20200     \n",
            "                                                                 \n",
            " dense_233 (Dense)           (None, 128)               25728     \n",
            "                                                                 \n",
            " dropout_86 (Dropout)        (None, 128)               0         \n",
            "                                                                 \n",
            " dense_234 (Dense)           (None, 64)                8256      \n",
            "                                                                 \n",
            " dropout_87 (Dropout)        (None, 64)                0         \n",
            "                                                                 \n",
            " dense_235 (Dense)           (None, 4)                 260       \n",
            "                                                                 \n",
            "=================================================================\n",
            "Total params: 466,344\n",
            "Trainable params: 466,344\n",
            "Non-trainable params: 0\n",
            "_________________________________________________________________\n"
          ]
        },
        {
          "data": {
            "image/png": "[encoded data removed]"
          },
          "metadata": {},
          "output_type": "display_data"
        }
      ],
      "source": [
        "model = make_deep_average_net()"
      ]
    },
    {
      "cell_type": "code",
      "execution_count": null,
      "metadata": {
        "colab": {
          "base_uri": "https://localhost:8080/"
        },
        "id": "ZZLdKH_gnAPj",
        "outputId": "71faea77-189d-45ab-86c4-8d3bdd9a50fd"
      },
      "outputs": [
        {
          "name": "stdout",
          "output_type": "stream",
          "text": [
            "Epoch 1/15\n",
            "51/51 [==============================] - 2s 18ms/step - loss: 1.1875 - accuracy: 0.4877 - val_loss: 1.0930 - val_accuracy: 0.6044\n",
            "Epoch 2/15\n",
            "51/51 [==============================] - 1s 14ms/step - loss: 1.0701 - accuracy: 0.5133 - val_loss: 1.0740 - val_accuracy: 0.6044\n",
            "Epoch 3/15\n",
            "51/51 [==============================] - 1s 14ms/step - loss: 0.9452 - accuracy: 0.5446 - val_loss: 0.9787 - val_accuracy: 0.6234\n",
            "Epoch 4/15\n",
            "51/51 [==============================] - 1s 14ms/step - loss: 0.6959 - accuracy: 0.6587 - val_loss: 0.9965 - val_accuracy: 0.5854\n",
            "Epoch 5/15\n",
            "51/51 [==============================] - 1s 14ms/step - loss: 0.5300 - accuracy: 0.7528 - val_loss: 1.1072 - val_accuracy: 0.6392\n",
            "Epoch 6/15\n",
            "51/51 [==============================] - 1s 14ms/step - loss: 0.4427 - accuracy: 0.8158 - val_loss: 1.3243 - val_accuracy: 0.6361\n",
            "Epoch 7/15\n",
            "51/51 [==============================] - 1s 13ms/step - loss: 0.3686 - accuracy: 0.8737 - val_loss: 1.5649 - val_accuracy: 0.6234\n",
            "Epoch 8/15\n",
            "51/51 [==============================] - 1s 14ms/step - loss: 0.3248 - accuracy: 0.8970 - val_loss: 1.6605 - val_accuracy: 0.6076\n",
            "Epoch 9/15\n",
            "51/51 [==============================] - 1s 13ms/step - loss: 0.2863 - accuracy: 0.9090 - val_loss: 1.7245 - val_accuracy: 0.6013\n",
            "Epoch 10/15\n",
            "51/51 [==============================] - 1s 13ms/step - loss: 0.2469 - accuracy: 0.9210 - val_loss: 1.9036 - val_accuracy: 0.5981\n",
            "Epoch 11/15\n",
            "51/51 [==============================] - 1s 13ms/step - loss: 0.2339 - accuracy: 0.9313 - val_loss: 1.9873 - val_accuracy: 0.6013\n",
            "Epoch 12/15\n",
            "51/51 [==============================] - 1s 18ms/step - loss: 0.2115 - accuracy: 0.9324 - val_loss: 2.0976 - val_accuracy: 0.6108\n",
            "Epoch 13/15\n",
            "51/51 [==============================] - 1s 19ms/step - loss: 0.2045 - accuracy: 0.9349 - val_loss: 2.1812 - val_accuracy: 0.6234\n",
            "Epoch 14/15\n",
            "51/51 [==============================] - 1s 20ms/step - loss: 0.1922 - accuracy: 0.9368 - val_loss: 2.3261 - val_accuracy: 0.6139\n",
            "Epoch 15/15\n",
            "51/51 [==============================] - 1s 21ms/step - loss: 0.1821 - accuracy: 0.9396 - val_loss: 2.3551 - val_accuracy: 0.6013\n"
          ]
        }
      ],
      "source": [
        "# train\n",
        "history = model.fit(train_x, train_y, batch_size=128, epochs=15, validation_data=(dev_x, dev_y)) #128, 15"
      ]
    },
    {
      "cell_type": "code",
      "execution_count": null,
      "metadata": {
        "colab": {
          "base_uri": "https://localhost:8080/",
          "height": 282
        },
        "id": "Yfws9crwnPT2",
        "outputId": "58b9e8cf-8918-48b7-c4ed-7bb1c68e1eab"
      },
      "outputs": [
        {
          "data": {
            "image/png": "[encoded data removed]",
            "text/plain": [
              "<Figure size 432x288 with 1 Axes>"
            ]
          },
          "metadata": {},
          "output_type": "display_data"
        }
      ],
      "source": [
        "plt.plot(history.history['accuracy'])\n",
        "plt.plot(history.history['val_accuracy'])\n",
        "plt.ylabel('accuracy')\n",
        "plt.xlabel('epoch')\n",
        "plt.legend(['train', 'dev'], loc='best')\n",
        "plt.show()"
      ]
    },
    {
      "cell_type": "code",
      "execution_count": null,
      "metadata": {
        "colab": {
          "base_uri": "https://localhost:8080/",
          "height": 282
        },
        "id": "TYL0eFm5nVau",
        "outputId": "03a1463d-3608-48ca-c2cf-88c7b1ee2a7d"
      },
      "outputs": [
        {
          "data": {
            "image/png": "[encoded data removed]",
            "text/plain": [
              "<Figure size 432x288 with 1 Axes>"
            ]
          },
          "metadata": {},
          "output_type": "display_data"
        }
      ],
      "source": [
        "plt.plot(history.history['loss'])\n",
        "plt.plot(history.history['val_loss'])\n",
        "plt.ylabel('loss')\n",
        "plt.xlabel('epoch')\n",
        "plt.legend(['train', 'dev'], loc='best')\n",
        "plt.show()"
      ]
    },
    {
      "cell_type": "code",
      "execution_count": null,
      "metadata": {
        "colab": {
          "base_uri": "https://localhost:8080/"
        },
        "id": "PSeeA3mFnbwI",
        "outputId": "f7b08725-df5e-4102-f28e-55844bb93396"
      },
      "outputs": [
        {
          "name": "stdout",
          "output_type": "stream",
          "text": [
            "10/10 [==============================] - 0s 4ms/step\n",
            "              precision    recall  f1-score   support\n",
            "\n",
            "           0       0.36      0.52      0.42        67\n",
            "           1       0.40      0.29      0.34        48\n",
            "           2       0.77      0.74      0.75       191\n",
            "           3       0.00      0.00      0.00        10\n",
            "\n",
            "    accuracy                           0.60       316\n",
            "   macro avg       0.38      0.39      0.38       316\n",
            "weighted avg       0.60      0.60      0.60       316\n",
            "\n"
          ]
        },
        {
          "name": "stderr",
          "output_type": "stream",
          "text": [
            "/usr/local/lib/python3.8/dist-packages/sklearn/metrics/_classification.py:1318: UndefinedMetricWarning: Precision and F-score are ill-defined and being set to 0.0 in labels with no predicted samples. Use `zero_division` parameter to control this behavior.\n",
            "  _warn_prf(average, modifier, msg_start, len(result))\n",
            "/usr/local/lib/python3.8/dist-packages/sklearn/metrics/_classification.py:1318: UndefinedMetricWarning: Precision and F-score are ill-defined and being set to 0.0 in labels with no predicted samples. Use `zero_division` parameter to control this behavior.\n",
            "  _warn_prf(average, modifier, msg_start, len(result))\n",
            "/usr/local/lib/python3.8/dist-packages/sklearn/metrics/_classification.py:1318: UndefinedMetricWarning: Precision and F-score are ill-defined and being set to 0.0 in labels with no predicted samples. Use `zero_division` parameter to control this behavior.\n",
            "  _warn_prf(average, modifier, msg_start, len(result))\n"
          ]
        }
      ],
      "source": [
        "DAN_aspect_prediction = [np.argmax(x) for x in model.predict(dev_x)]\n",
        "print(classification_report(dev['label'], DAN_aspect_prediction))"
      ]
    },
    {
      "cell_type": "markdown",
      "metadata": {},
      "source": [
        "<hr style=\"border: 2px solid #F1EF99;\" />\n",
        "\n",
        "---\n",
        "## Train the model - CNN"
      ]
    },
    {
      "cell_type": "code",
      "execution_count": null,
      "metadata": {
        "id": "vsYXsSKdsMkq"
      },
      "outputs": [],
      "source": [
        "def make_cnn_model(print_model=True):\n",
        "    filters = 200 #number of filters in your Convnet\n",
        "    kernel_size = 3 # a window size of 3 tokens\n",
        "    hidden_dims = 250 #number of neurons at the normal feedforward NN\n",
        "\n",
        "    cnn_model = Sequential()\n",
        "    cnn_model.add(Embedding(input_dim=embedding_matrix.shape[0],\n",
        "                            input_length=max_len,\n",
        "                            output_dim=embedding_matrix.shape[1], # comma was missing here\n",
        "                            weights=[embedding_matrix],\n",
        "                            mask_zero=True,\n",
        "                            trainable=True))\n",
        "\n",
        "    cnn_model.add(Conv1D(filters,\n",
        "                         kernel_size,\n",
        "                         input_shape=(max_len, embedding_dim),\n",
        "                         padding='valid',\n",
        "                         activation='relu',\n",
        "                         strides=1,))\n",
        "\n",
        "    cnn_model.add(BatchNormalization())\n",
        "\n",
        "    cnn_model.add(GlobalMaxPooling1D())\n",
        "    #GlobalMaxPooling1D(n) default = 2.\n",
        "    cnn_model.add(Dense(hidden_dims, activation='relu'))\n",
        "                        #, kernel_regularizer=regularizers.l2(1e-4), bias_regularizer=regularizers.l2(1e-4)))\n",
        "\n",
        "    cnn_model.add(Dense(150, activation='relu'))\n",
        "\n",
        "    cnn_model.add(Dropout(0.4))\n",
        "    cnn_model.add(Dense(4, activation='softmax'))\n",
        "    # compile model\n",
        "    #opp=optimizers.Adam(learning_rate=0.001)\n",
        "    #cnn_model.compile(optimizer=opp, loss=\"categorical_crossentropy\", metrics=[\"accuracy\"])\n",
        "    cnn_model.compile(optimizer=optimizers.Adam(learning_rate=0.01), loss=\"categorical_crossentropy\", metrics=[\"accuracy\"])\n",
        "    cnn_model.compile(optimizer=\"adam\", loss=\"categorical_crossentropy\", metrics=[\"accuracy\"])\n",
        "\n",
        "    if print_model:\n",
        "        cnn_model.summary()\n",
        "        plot_model(cnn_model, show_shapes=True, to_file='model.png')\n",
        "        display_png(Image('model.png'))\n",
        "    return cnn_model"
      ]
    },
    {
      "cell_type": "code",
      "execution_count": null,
      "metadata": {
        "colab": {
          "base_uri": "https://localhost:8080/",
          "height": 1000
        },
        "id": "v8p4mJP2xJlv",
        "outputId": "57e80427-1c99-4917-878f-f4bee199a6c1"
      },
      "outputs": [
        {
          "name": "stdout",
          "output_type": "stream",
          "text": [
            "Model: \"sequential_86\"\n",
            "_________________________________________________________________\n",
            " Layer (type)                Output Shape              Param #   \n",
            "=================================================================\n",
            " embedding_85 (Embedding)    (None, 15, 100)           411900    \n",
            "                                                                 \n",
            " conv1d_65 (Conv1D)          (None, 13, 200)           60200     \n",
            "                                                                 \n",
            " batch_normalization_61 (Bat  (None, 13, 200)          800       \n",
            " chNormalization)                                                \n",
            "                                                                 \n",
            " global_max_pooling1d_63 (Gl  (None, 200)              0         \n",
            " obalMaxPooling1D)                                               \n",
            "                                                                 \n",
            " dense_239 (Dense)           (None, 250)               50250     \n",
            "                                                                 \n",
            " dense_240 (Dense)           (None, 150)               37650     \n",
            "                                                                 \n",
            " dropout_89 (Dropout)        (None, 150)               0         \n",
            "                                                                 \n",
            " dense_241 (Dense)           (None, 4)                 604       \n",
            "                                                                 \n",
            "=================================================================\n",
            "Total params: 561,404\n",
            "Trainable params: 561,004\n",
            "Non-trainable params: 400\n",
            "_________________________________________________________________\n"
          ]
        },
        {
          "data": {
            "image/png": "[encoded data removed]"
          },
          "metadata": {},
          "output_type": "display_data"
        }
      ],
      "source": [
        "cnn_model = make_cnn_model()"
      ]
    },
    {
      "cell_type": "code",
      "execution_count": null,
      "metadata": {
        "colab": {
          "base_uri": "https://localhost:8080/"
        },
        "id": "jnVZiDECDIz-",
        "outputId": "f071b4f0-7135-424e-c679-daf94a47dca1"
      },
      "outputs": [
        {
          "name": "stdout",
          "output_type": "stream",
          "text": [
            "Epoch 1/9\n",
            "51/51 [==============================] - 4s 40ms/step - loss: 1.0160 - accuracy: 0.5322 - val_loss: 1.1593 - val_accuracy: 0.6044\n",
            "Epoch 2/9\n",
            "51/51 [==============================] - 2s 34ms/step - loss: 0.5395 - accuracy: 0.7927 - val_loss: 1.0486 - val_accuracy: 0.6297\n",
            "Epoch 3/9\n",
            "51/51 [==============================] - 2s 35ms/step - loss: 0.2244 - accuracy: 0.9232 - val_loss: 0.9968 - val_accuracy: 0.6139\n",
            "Epoch 4/9\n",
            "51/51 [==============================] - 2s 35ms/step - loss: 0.1768 - accuracy: 0.9404 - val_loss: 1.0050 - val_accuracy: 0.6392\n",
            "Epoch 5/9\n",
            "51/51 [==============================] - 2s 47ms/step - loss: 0.1266 - accuracy: 0.9561 - val_loss: 0.9487 - val_accuracy: 0.6424\n",
            "Epoch 6/9\n",
            "51/51 [==============================] - 3s 58ms/step - loss: 0.1183 - accuracy: 0.9557 - val_loss: 1.0199 - val_accuracy: 0.6297\n",
            "Epoch 7/9\n",
            "51/51 [==============================] - 2s 35ms/step - loss: 0.1063 - accuracy: 0.9579 - val_loss: 0.9746 - val_accuracy: 0.6677\n",
            "Epoch 8/9\n",
            "51/51 [==============================] - 2s 35ms/step - loss: 0.0934 - accuracy: 0.9611 - val_loss: 0.9752 - val_accuracy: 0.6772\n",
            "Epoch 9/9\n",
            "51/51 [==============================] - 2s 36ms/step - loss: 0.1028 - accuracy: 0.9591 - val_loss: 1.2797 - val_accuracy: 0.6424\n"
          ]
        }
      ],
      "source": [
        "cnn_history = cnn_model.fit(train_x, train_y, batch_size=128, epochs=9, validation_data=(dev_x, dev_y))"
      ]
    },
    {
      "cell_type": "code",
      "execution_count": null,
      "metadata": {
        "colab": {
          "base_uri": "https://localhost:8080/",
          "height": 282
        },
        "id": "UID-SsqfDMCJ",
        "outputId": "5d55ccea-2715-4b96-b447-5bb4952edddb"
      },
      "outputs": [
        {
          "data": {
            "image/png": "[encoded data removed]",
            "text/plain": [
              "<Figure size 432x288 with 1 Axes>"
            ]
          },
          "metadata": {},
          "output_type": "display_data"
        }
      ],
      "source": [
        "plt.plot(cnn_history.history['accuracy'])\n",
        "plt.plot(cnn_history.history['val_accuracy'])\n",
        "plt.ylabel('accuracy')\n",
        "plt.xlabel('epoch')\n",
        "plt.legend(['train', 'dev'], loc='best')\n",
        "plt.show()"
      ]
    },
    {
      "cell_type": "code",
      "execution_count": null,
      "metadata": {
        "colab": {
          "base_uri": "https://localhost:8080/",
          "height": 282
        },
        "id": "HNFmoD28DNvS",
        "outputId": "d544b080-a5ec-4b6c-c995-3cf15dff6666"
      },
      "outputs": [
        {
          "data": {
            "image/png": "[encoded data removed]",
            "text/plain": [
              "<Figure size 432x288 with 1 Axes>"
            ]
          },
          "metadata": {},
          "output_type": "display_data"
        }
      ],
      "source": [
        "plt.plot(cnn_history.history['loss'])\n",
        "plt.plot(cnn_history.history['val_loss'])\n",
        "plt.ylabel('loss')\n",
        "plt.xlabel('epoch')\n",
        "plt.legend(['train', 'dev'], loc='best')\n",
        "plt.show()"
      ]
    },
    {
      "cell_type": "code",
      "execution_count": null,
      "metadata": {
        "colab": {
          "base_uri": "https://localhost:8080/"
        },
        "id": "oB-hteYoDP20",
        "outputId": "a4b49705-8383-43a9-ad61-f395d94c08d6"
      },
      "outputs": [
        {
          "name": "stdout",
          "output_type": "stream",
          "text": [
            "10/10 [==============================] - 0s 3ms/step - loss: 1.4567 - accuracy: 0.5538\n"
          ]
        },
        {
          "data": {
            "text/plain": [
              "0.5537974834442139"
            ]
          },
          "execution_count": 465,
          "metadata": {},
          "output_type": "execute_result"
        }
      ],
      "source": [
        "model.evaluate(dev_x, dev_y)[1]"
      ]
    },
    {
      "cell_type": "code",
      "execution_count": null,
      "metadata": {
        "colab": {
          "base_uri": "https://localhost:8080/"
        },
        "id": "eb6jXYrfDYvG",
        "outputId": "7c902162-17d8-4b8c-a0d9-dc499cdb35b5"
      },
      "outputs": [
        {
          "name": "stdout",
          "output_type": "stream",
          "text": [
            "10/10 [==============================] - 0s 4ms/step\n",
            "              precision    recall  f1-score   support\n",
            "\n",
            "           0       0.49      0.39      0.43        67\n",
            "           1       0.50      0.02      0.04        48\n",
            "           2       0.67      0.92      0.78       191\n",
            "           3       0.00      0.00      0.00        10\n",
            "\n",
            "    accuracy                           0.64       316\n",
            "   macro avg       0.42      0.33      0.31       316\n",
            "weighted avg       0.59      0.64      0.57       316\n",
            "\n"
          ]
        },
        {
          "name": "stderr",
          "output_type": "stream",
          "text": [
            "/usr/local/lib/python3.8/dist-packages/sklearn/metrics/_classification.py:1318: UndefinedMetricWarning: Precision and F-score are ill-defined and being set to 0.0 in labels with no predicted samples. Use `zero_division` parameter to control this behavior.\n",
            "  _warn_prf(average, modifier, msg_start, len(result))\n",
            "/usr/local/lib/python3.8/dist-packages/sklearn/metrics/_classification.py:1318: UndefinedMetricWarning: Precision and F-score are ill-defined and being set to 0.0 in labels with no predicted samples. Use `zero_division` parameter to control this behavior.\n",
            "  _warn_prf(average, modifier, msg_start, len(result))\n",
            "/usr/local/lib/python3.8/dist-packages/sklearn/metrics/_classification.py:1318: UndefinedMetricWarning: Precision and F-score are ill-defined and being set to 0.0 in labels with no predicted samples. Use `zero_division` parameter to control this behavior.\n",
            "  _warn_prf(average, modifier, msg_start, len(result))\n"
          ]
        }
      ],
      "source": [
        "prediction = [np.argmax(x) for x in cnn_model.predict(dev_x)]\n",
        "print(classification_report(dev['label'], prediction))"
      ]
    },
    {
      "cell_type": "code",
      "execution_count": null,
      "metadata": {
        "colab": {
          "base_uri": "https://localhost:8080/"
        },
        "id": "ftccdEo4DbMg",
        "outputId": "00d58df5-10a2-4bca-edb7-d31ed8d6f31a"
      },
      "outputs": [
        {
          "name": "stdout",
          "output_type": "stream",
          "text": [
            "10/10 [==============================] - 0s 5ms/step - loss: 1.1185 - accuracy: 0.5696\n"
          ]
        },
        {
          "data": {
            "text/plain": [
              "0.5696202516555786"
            ]
          },
          "execution_count": 479,
          "metadata": {},
          "output_type": "execute_result"
        }
      ],
      "source": [
        "cnn_model.evaluate(dev_x, dev_y)[1]"
      ]
    },
    {
      "cell_type": "markdown",
      "metadata": {
        "id": "SWFgGCw6UfDH"
      },
      "source": [
        "<br>\n",
        "<hr style=\"border: 4px solid #B7C9F2;\" />\n",
        "<hr style=\"border: 2px solid #FB88B4;\" />\n",
        "\n",
        "---\n",
        "\n",
        "<a id=\"top\"></a>\n",
        "\n",
        "# Code for Hyperparameter Tuning - CNN"
      ]
    },
    {
      "cell_type": "code",
      "execution_count": null,
      "metadata": {
        "id": "cxkmR7XdR0q8"
      },
      "outputs": [],
      "source": [
        "from keras import optimizers, regularizers\n",
        "cnn_model.compile(optimizer=optimizers.Adam(learning_rate=0.01),\n",
        "              loss=\"categorical_crossentropy\", metrics=[\"accuracy\"])"
      ]
    },
    {
      "cell_type": "code",
      "execution_count": null,
      "metadata": {
        "colab": {
          "base_uri": "https://localhost:8080/"
        },
        "id": "HK9Oy8_KR04t",
        "outputId": "641399ca-7e95-4f0a-8dd5-6ddcb18855ad"
      },
      "outputs": [
        {
          "data": {
            "text/plain": [
              "<keras.layers.core.dense.Dense at 0x7f7e162d9d30>"
            ]
          },
          "execution_count": 481,
          "metadata": {},
          "output_type": "execute_result"
        }
      ],
      "source": [
        "Dense(200, activation='relu',\n",
        "      kernel_regularizer=regularizers.l2(l2=1e-4),\n",
        "      bias_regularizer=regularizers.l2(1e-4))"
      ]
    },
    {
      "cell_type": "code",
      "execution_count": null,
      "metadata": {
        "id": "liVenLC2STyD"
      },
      "outputs": [],
      "source": [
        "cnn_model.add(Dropout(0.8))"
      ]
    },
    {
      "cell_type": "code",
      "execution_count": null,
      "metadata": {
        "colab": {
          "base_uri": "https://localhost:8080/"
        },
        "id": "EQVJkpAxSebd",
        "outputId": "0a5a89d5-524e-44a2-97ca-40fa0840232e"
      },
      "outputs": [
        {
          "name": "stdout",
          "output_type": "stream",
          "text": [
            "Epoch 1/10\n",
            "26/26 [==============================] - 6s 67ms/step - loss: 1.6452 - accuracy: 0.3197 - val_loss: 1.6595 - val_accuracy: 0.1329\n",
            "Epoch 2/10\n",
            "26/26 [==============================] - 1s 57ms/step - loss: 1.3169 - accuracy: 0.4771 - val_loss: 1.6674 - val_accuracy: 0.1234\n",
            "Epoch 3/10\n",
            "26/26 [==============================] - 2s 59ms/step - loss: 0.9210 - accuracy: 0.6822 - val_loss: 1.6513 - val_accuracy: 0.1930\n",
            "Epoch 4/10\n",
            "26/26 [==============================] - 2s 59ms/step - loss: 0.6036 - accuracy: 0.7988 - val_loss: 1.5351 - val_accuracy: 0.3513\n",
            "Epoch 5/10\n",
            "26/26 [==============================] - 2s 71ms/step - loss: 0.5311 - accuracy: 0.8199 - val_loss: 1.3904 - val_accuracy: 0.5095\n",
            "Epoch 6/10\n",
            "26/26 [==============================] - 3s 101ms/step - loss: 0.4294 - accuracy: 0.8538 - val_loss: 1.3433 - val_accuracy: 0.4778\n",
            "Epoch 7/10\n",
            "26/26 [==============================] - 2s 66ms/step - loss: 0.3771 - accuracy: 0.8605 - val_loss: 1.2895 - val_accuracy: 0.5759\n",
            "Epoch 8/10\n",
            "26/26 [==============================] - 1s 57ms/step - loss: 0.3995 - accuracy: 0.8547 - val_loss: 1.2328 - val_accuracy: 0.5538\n",
            "Epoch 9/10\n",
            "26/26 [==============================] - 2s 59ms/step - loss: 0.3539 - accuracy: 0.8672 - val_loss: 1.2622 - val_accuracy: 0.4589\n",
            "Epoch 10/10\n",
            "26/26 [==============================] - 2s 58ms/step - loss: 0.3692 - accuracy: 0.8608 - val_loss: 1.2942 - val_accuracy: 0.4589\n",
            "10/10 [==============================] - 0s 4ms/step - loss: 1.2942 - accuracy: 0.4589\n",
            "Epoch 1/10\n",
            "26/26 [==============================] - 3s 68ms/step - loss: 1.6345 - accuracy: 0.3197 - val_loss: 1.6390 - val_accuracy: 0.1392\n",
            "Epoch 2/10\n",
            "26/26 [==============================] - 2s 83ms/step - loss: 1.3102 - accuracy: 0.4789 - val_loss: 1.6595 - val_accuracy: 0.1203\n",
            "Epoch 3/10\n",
            "26/26 [==============================] - 3s 96ms/step - loss: 0.8653 - accuracy: 0.6991 - val_loss: 1.6418 - val_accuracy: 0.1392\n",
            "Epoch 4/10\n",
            "26/26 [==============================] - 2s 59ms/step - loss: 0.6305 - accuracy: 0.7921 - val_loss: 1.4299 - val_accuracy: 0.4747\n",
            "Epoch 5/10\n",
            "26/26 [==============================] - 2s 60ms/step - loss: 0.4969 - accuracy: 0.8314 - val_loss: 1.4940 - val_accuracy: 0.2975\n",
            "Epoch 6/10\n",
            "26/26 [==============================] - 2s 58ms/step - loss: 0.4255 - accuracy: 0.8519 - val_loss: 1.4959 - val_accuracy: 0.3386\n",
            "Epoch 7/10\n",
            "26/26 [==============================] - 1s 57ms/step - loss: 0.4654 - accuracy: 0.8332 - val_loss: 1.4020 - val_accuracy: 0.4525\n",
            "Epoch 8/10\n",
            "26/26 [==============================] - 2s 58ms/step - loss: 0.3881 - accuracy: 0.8556 - val_loss: 1.3031 - val_accuracy: 0.5316\n",
            "Epoch 9/10\n",
            "26/26 [==============================] - 2s 58ms/step - loss: 0.3831 - accuracy: 0.8617 - val_loss: 1.2776 - val_accuracy: 0.4937\n",
            "Epoch 10/10\n",
            "26/26 [==============================] - 2s 78ms/step - loss: 0.3490 - accuracy: 0.8642 - val_loss: 1.2116 - val_accuracy: 0.5633\n",
            "10/10 [==============================] - 0s 5ms/step - loss: 1.2116 - accuracy: 0.5633\n",
            "Epoch 1/10\n",
            "26/26 [==============================] - 3s 67ms/step - loss: 1.6165 - accuracy: 0.3192 - val_loss: 1.6430 - val_accuracy: 0.1329\n",
            "Epoch 2/10\n",
            "26/26 [==============================] - 2s 59ms/step - loss: 1.3173 - accuracy: 0.4720 - val_loss: 1.6177 - val_accuracy: 0.1551\n",
            "Epoch 3/10\n",
            "26/26 [==============================] - 1s 58ms/step - loss: 0.9985 - accuracy: 0.6348 - val_loss: 1.5662 - val_accuracy: 0.3070\n",
            "Epoch 4/10\n",
            "26/26 [==============================] - 2s 60ms/step - loss: 0.6472 - accuracy: 0.7840 - val_loss: 1.4831 - val_accuracy: 0.4209\n",
            "Epoch 5/10\n",
            "26/26 [==============================] - 2s 87ms/step - loss: 0.4849 - accuracy: 0.8339 - val_loss: 1.4503 - val_accuracy: 0.4747\n",
            "Epoch 6/10\n",
            "26/26 [==============================] - 2s 95ms/step - loss: 0.4492 - accuracy: 0.8416 - val_loss: 1.4307 - val_accuracy: 0.4367\n",
            "Epoch 7/10\n",
            "26/26 [==============================] - 2s 59ms/step - loss: 0.4305 - accuracy: 0.8483 - val_loss: 1.3688 - val_accuracy: 0.4430\n",
            "Epoch 8/10\n",
            "26/26 [==============================] - 2s 60ms/step - loss: 0.3872 - accuracy: 0.8609 - val_loss: 1.2456 - val_accuracy: 0.5696\n",
            "Epoch 9/10\n",
            "26/26 [==============================] - 2s 58ms/step - loss: 0.3844 - accuracy: 0.8595 - val_loss: 1.3118 - val_accuracy: 0.4684\n",
            "Epoch 10/10\n",
            "26/26 [==============================] - 2s 59ms/step - loss: 0.3669 - accuracy: 0.8623 - val_loss: 1.2337 - val_accuracy: 0.5443\n",
            "10/10 [==============================] - 0s 5ms/step - loss: 1.2337 - accuracy: 0.5443\n",
            "Epoch 1/10\n",
            "26/26 [==============================] - 5s 93ms/step - loss: 1.6259 - accuracy: 0.3218 - val_loss: 1.6311 - val_accuracy: 0.1456\n",
            "Epoch 2/10\n",
            "26/26 [==============================] - 2s 58ms/step - loss: 1.3063 - accuracy: 0.4862 - val_loss: 1.5934 - val_accuracy: 0.2500\n",
            "Epoch 3/10\n",
            "26/26 [==============================] - 1s 58ms/step - loss: 0.9642 - accuracy: 0.6490 - val_loss: 1.5578 - val_accuracy: 0.2975\n",
            "Epoch 4/10\n",
            "26/26 [==============================] - 1s 58ms/step - loss: 0.6228 - accuracy: 0.7901 - val_loss: 1.5229 - val_accuracy: 0.3006\n",
            "Epoch 5/10\n",
            "26/26 [==============================] - 1s 58ms/step - loss: 0.5316 - accuracy: 0.8202 - val_loss: 1.4741 - val_accuracy: 0.3449\n",
            "Epoch 6/10\n",
            "26/26 [==============================] - 1s 57ms/step - loss: 0.4368 - accuracy: 0.8431 - val_loss: 1.3517 - val_accuracy: 0.4430\n",
            "Epoch 7/10\n",
            "26/26 [==============================] - 2s 58ms/step - loss: 0.3957 - accuracy: 0.8595 - val_loss: 1.3810 - val_accuracy: 0.3892\n",
            "Epoch 8/10\n",
            "26/26 [==============================] - 2s 97ms/step - loss: 0.3797 - accuracy: 0.8598 - val_loss: 1.2116 - val_accuracy: 0.5886\n",
            "Epoch 9/10\n",
            "26/26 [==============================] - 2s 81ms/step - loss: 0.3584 - accuracy: 0.8642 - val_loss: 1.2330 - val_accuracy: 0.5696\n",
            "Epoch 10/10\n",
            "26/26 [==============================] - 1s 56ms/step - loss: 0.3533 - accuracy: 0.8714 - val_loss: 1.2534 - val_accuracy: 0.4367\n",
            "10/10 [==============================] - 0s 4ms/step - loss: 1.2534 - accuracy: 0.4367\n",
            "Epoch 1/10\n",
            "26/26 [==============================] - 3s 67ms/step - loss: 1.6331 - accuracy: 0.3240 - val_loss: 1.6428 - val_accuracy: 0.1171\n",
            "Epoch 2/10\n",
            "26/26 [==============================] - 2s 59ms/step - loss: 1.3138 - accuracy: 0.4751 - val_loss: 1.6390 - val_accuracy: 0.1234\n",
            "Epoch 3/10\n",
            "26/26 [==============================] - 1s 57ms/step - loss: 0.8837 - accuracy: 0.6974 - val_loss: 1.5382 - val_accuracy: 0.3766\n",
            "Epoch 4/10\n",
            "26/26 [==============================] - 2s 59ms/step - loss: 0.6388 - accuracy: 0.7848 - val_loss: 1.4674 - val_accuracy: 0.4589\n",
            "Epoch 5/10\n",
            "26/26 [==============================] - 3s 101ms/step - loss: 0.5087 - accuracy: 0.8308 - val_loss: 1.4411 - val_accuracy: 0.4335\n",
            "Epoch 6/10\n",
            "26/26 [==============================] - 2s 74ms/step - loss: 0.4448 - accuracy: 0.8478 - val_loss: 1.4647 - val_accuracy: 0.3766\n",
            "Epoch 7/10\n",
            "26/26 [==============================] - 1s 57ms/step - loss: 0.4201 - accuracy: 0.8520 - val_loss: 1.5596 - val_accuracy: 0.2405\n",
            "Epoch 8/10\n",
            "26/26 [==============================] - 2s 58ms/step - loss: 0.3843 - accuracy: 0.8600 - val_loss: 1.3821 - val_accuracy: 0.4430\n",
            "Epoch 9/10\n",
            "26/26 [==============================] - 1s 57ms/step - loss: 0.3623 - accuracy: 0.8627 - val_loss: 1.3538 - val_accuracy: 0.4241\n",
            "Epoch 10/10\n",
            "26/26 [==============================] - 2s 58ms/step - loss: 0.3516 - accuracy: 0.8658 - val_loss: 1.3509 - val_accuracy: 0.4335\n",
            "10/10 [==============================] - 0s 9ms/step - loss: 1.3509 - accuracy: 0.4335\n",
            "Epoch 1/10\n",
            "26/26 [==============================] - 4s 66ms/step - loss: 1.6604 - accuracy: 0.3165 - val_loss: 1.6184 - val_accuracy: 0.1456\n",
            "Epoch 2/10\n",
            "26/26 [==============================] - 2s 58ms/step - loss: 1.3861 - accuracy: 0.4408 - val_loss: 1.6097 - val_accuracy: 0.1551\n",
            "Epoch 3/10\n",
            "26/26 [==============================] - 1s 57ms/step - loss: 1.0038 - accuracy: 0.6413 - val_loss: 1.5788 - val_accuracy: 0.3133\n",
            "Epoch 4/10\n",
            "26/26 [==============================] - 1s 57ms/step - loss: 0.6149 - accuracy: 0.7994 - val_loss: 1.5113 - val_accuracy: 0.3544\n",
            "Epoch 5/10\n",
            "26/26 [==============================] - 1s 58ms/step - loss: 0.5050 - accuracy: 0.8278 - val_loss: 1.4450 - val_accuracy: 0.3987\n",
            "Epoch 6/10\n",
            "26/26 [==============================] - 2s 60ms/step - loss: 0.4815 - accuracy: 0.8297 - val_loss: 1.3673 - val_accuracy: 0.5665\n",
            "Epoch 7/10\n",
            "26/26 [==============================] - 2s 81ms/step - loss: 0.4100 - accuracy: 0.8550 - val_loss: 1.2796 - val_accuracy: 0.5380\n",
            "Epoch 8/10\n",
            "26/26 [==============================] - 3s 100ms/step - loss: 0.3850 - accuracy: 0.8570 - val_loss: 1.2495 - val_accuracy: 0.4778\n",
            "Epoch 9/10\n",
            "26/26 [==============================] - 2s 58ms/step - loss: 0.3669 - accuracy: 0.8627 - val_loss: 1.1832 - val_accuracy: 0.5253\n",
            "Epoch 10/10\n",
            "26/26 [==============================] - 1s 57ms/step - loss: 0.3472 - accuracy: 0.8659 - val_loss: 1.1709 - val_accuracy: 0.5285\n",
            "10/10 [==============================] - 0s 4ms/step - loss: 1.1709 - accuracy: 0.5285\n",
            "Epoch 1/10\n",
            "26/26 [==============================] - 3s 68ms/step - loss: 1.6331 - accuracy: 0.3154 - val_loss: 1.6195 - val_accuracy: 0.1424\n",
            "Epoch 2/10\n",
            "26/26 [==============================] - 3s 100ms/step - loss: 1.3496 - accuracy: 0.4710 - val_loss: 1.6137 - val_accuracy: 0.1962\n",
            "Epoch 3/10\n",
            "26/26 [==============================] - 2s 78ms/step - loss: 0.9115 - accuracy: 0.6877 - val_loss: 1.5661 - val_accuracy: 0.2025\n",
            "Epoch 4/10\n",
            "26/26 [==============================] - 2s 59ms/step - loss: 0.6105 - accuracy: 0.7946 - val_loss: 1.5291 - val_accuracy: 0.2658\n",
            "Epoch 5/10\n",
            "26/26 [==============================] - 2s 59ms/step - loss: 0.4822 - accuracy: 0.8360 - val_loss: 1.4705 - val_accuracy: 0.3038\n",
            "Epoch 6/10\n",
            "26/26 [==============================] - 2s 65ms/step - loss: 0.4433 - accuracy: 0.8483 - val_loss: 1.3845 - val_accuracy: 0.4842\n",
            "Epoch 7/10\n",
            "26/26 [==============================] - 3s 99ms/step - loss: 0.3900 - accuracy: 0.8573 - val_loss: 1.2955 - val_accuracy: 0.5285\n",
            "Epoch 8/10\n",
            "26/26 [==============================] - 2s 73ms/step - loss: 0.4174 - accuracy: 0.8467 - val_loss: 1.4202 - val_accuracy: 0.4082\n",
            "Epoch 9/10\n",
            "26/26 [==============================] - 3s 100ms/step - loss: 0.3955 - accuracy: 0.8497 - val_loss: 1.2609 - val_accuracy: 0.5570\n",
            "Epoch 10/10\n",
            "26/26 [==============================] - 2s 79ms/step - loss: 0.3367 - accuracy: 0.8658 - val_loss: 1.2510 - val_accuracy: 0.5063\n",
            "10/10 [==============================] - 0s 5ms/step - loss: 1.2510 - accuracy: 0.5063\n",
            "Epoch 1/10\n",
            "26/26 [==============================] - 4s 69ms/step - loss: 1.6143 - accuracy: 0.3181 - val_loss: 1.6349 - val_accuracy: 0.1171\n",
            "Epoch 2/10\n",
            "26/26 [==============================] - 2s 59ms/step - loss: 1.3214 - accuracy: 0.4653 - val_loss: 1.6428 - val_accuracy: 0.1266\n",
            "Epoch 3/10\n",
            "26/26 [==============================] - 2s 59ms/step - loss: 0.9485 - accuracy: 0.6705 - val_loss: 1.5537 - val_accuracy: 0.3196\n",
            "Epoch 4/10\n",
            "26/26 [==============================] - 2s 60ms/step - loss: 0.6237 - accuracy: 0.7934 - val_loss: 1.4943 - val_accuracy: 0.3671\n",
            "Epoch 5/10\n",
            "26/26 [==============================] - 3s 100ms/step - loss: 0.4931 - accuracy: 0.8327 - val_loss: 1.4925 - val_accuracy: 0.3734\n",
            "Epoch 6/10\n",
            "26/26 [==============================] - 2s 80ms/step - loss: 0.4183 - accuracy: 0.8502 - val_loss: 1.4154 - val_accuracy: 0.4684\n",
            "Epoch 7/10\n",
            "26/26 [==============================] - 2s 58ms/step - loss: 0.3994 - accuracy: 0.8541 - val_loss: 1.3606 - val_accuracy: 0.4810\n",
            "Epoch 8/10\n",
            "26/26 [==============================] - 2s 59ms/step - loss: 0.3779 - accuracy: 0.8594 - val_loss: 1.3082 - val_accuracy: 0.5348\n",
            "Epoch 9/10\n",
            "26/26 [==============================] - 2s 61ms/step - loss: 0.3728 - accuracy: 0.8616 - val_loss: 1.3525 - val_accuracy: 0.4589\n",
            "Epoch 10/10\n",
            "26/26 [==============================] - 2s 59ms/step - loss: 0.3559 - accuracy: 0.8605 - val_loss: 1.3794 - val_accuracy: 0.3544\n",
            "10/10 [==============================] - 0s 8ms/step - loss: 1.3794 - accuracy: 0.3544\n",
            "Epoch 1/10\n",
            "26/26 [==============================] - 4s 73ms/step - loss: 1.6790 - accuracy: 0.3117 - val_loss: 1.6226 - val_accuracy: 0.1329\n",
            "Epoch 2/10\n",
            "26/26 [==============================] - 2s 59ms/step - loss: 1.3276 - accuracy: 0.4795 - val_loss: 1.6061 - val_accuracy: 0.1741\n",
            "Epoch 3/10\n",
            "26/26 [==============================] - 2s 60ms/step - loss: 0.8825 - accuracy: 0.6964 - val_loss: 1.5572 - val_accuracy: 0.2595\n",
            "Epoch 4/10\n",
            "26/26 [==============================] - 2s 61ms/step - loss: 0.6223 - accuracy: 0.7969 - val_loss: 1.4754 - val_accuracy: 0.3892\n",
            "Epoch 5/10\n",
            "26/26 [==============================] - 2s 59ms/step - loss: 0.5056 - accuracy: 0.8264 - val_loss: 1.4354 - val_accuracy: 0.5601\n",
            "Epoch 6/10\n",
            "26/26 [==============================] - 2s 60ms/step - loss: 0.4196 - accuracy: 0.8455 - val_loss: 1.3734 - val_accuracy: 0.5348\n",
            "Epoch 7/10\n",
            "26/26 [==============================] - 2s 83ms/step - loss: 0.3937 - accuracy: 0.8580 - val_loss: 1.2990 - val_accuracy: 0.5728\n",
            "Epoch 8/10\n",
            "26/26 [==============================] - 3s 99ms/step - loss: 0.3750 - accuracy: 0.8595 - val_loss: 1.2542 - val_accuracy: 0.5253\n",
            "Epoch 9/10\n",
            "26/26 [==============================] - 2s 59ms/step - loss: 0.3727 - accuracy: 0.8564 - val_loss: 1.2278 - val_accuracy: 0.5949\n",
            "Epoch 10/10\n",
            "26/26 [==============================] - 1s 58ms/step - loss: 0.3547 - accuracy: 0.8639 - val_loss: 1.1833 - val_accuracy: 0.5348\n",
            "10/10 [==============================] - 0s 5ms/step - loss: 1.1833 - accuracy: 0.5348\n",
            "Epoch 1/10\n",
            "26/26 [==============================] - 3s 68ms/step - loss: 1.6631 - accuracy: 0.3143 - val_loss: 1.6548 - val_accuracy: 0.1234\n",
            "Epoch 2/10\n",
            "26/26 [==============================] - 2s 94ms/step - loss: 1.3095 - accuracy: 0.5013 - val_loss: 1.6682 - val_accuracy: 0.1456\n",
            "Epoch 3/10\n",
            "26/26 [==============================] - 2s 86ms/step - loss: 0.8847 - accuracy: 0.6956 - val_loss: 1.6467 - val_accuracy: 0.1361\n",
            "Epoch 4/10\n",
            "26/26 [==============================] - 2s 59ms/step - loss: 0.6717 - accuracy: 0.7706 - val_loss: 1.5489 - val_accuracy: 0.2785\n",
            "Epoch 5/10\n",
            "26/26 [==============================] - 2s 60ms/step - loss: 0.4981 - accuracy: 0.8300 - val_loss: 1.5248 - val_accuracy: 0.3006\n",
            "Epoch 6/10\n",
            "26/26 [==============================] - 2s 59ms/step - loss: 0.4497 - accuracy: 0.8453 - val_loss: 1.4622 - val_accuracy: 0.3703\n",
            "Epoch 7/10\n",
            "26/26 [==============================] - 2s 58ms/step - loss: 0.4085 - accuracy: 0.8559 - val_loss: 1.3775 - val_accuracy: 0.5095\n",
            "Epoch 8/10\n",
            "26/26 [==============================] - 2s 61ms/step - loss: 0.3807 - accuracy: 0.8578 - val_loss: 1.3747 - val_accuracy: 0.4272\n",
            "Epoch 9/10\n",
            "26/26 [==============================] - 2s 58ms/step - loss: 0.3693 - accuracy: 0.8656 - val_loss: 1.2980 - val_accuracy: 0.5411\n",
            "Epoch 10/10\n",
            "26/26 [==============================] - 2s 95ms/step - loss: 0.3413 - accuracy: 0.8690 - val_loss: 1.2897 - val_accuracy: 0.5032\n",
            "10/10 [==============================] - 0s 9ms/step - loss: 1.2897 - accuracy: 0.5032\n"
          ]
        }
      ],
      "source": [
        "cnn_accs = []\n",
        "for i in range(10):\n",
        "    model = make_cnn_model(print_model=False)\n",
        "    model.fit(train_x, train_y, batch_size=256, epochs=10, validation_data=(dev_x, dev_y))\n",
        "    cnn_accs.append(model.evaluate(dev_x, dev_y)[1])"
      ]
    },
    {
      "cell_type": "code",
      "execution_count": null,
      "metadata": {
        "colab": {
          "base_uri": "https://localhost:8080/",
          "height": 484
        },
        "id": "zrsOwP_WTOKc",
        "outputId": "83999425-eafe-4ebf-9d1d-373f60226da4"
      },
      "outputs": [
        {
          "name": "stdout",
          "output_type": "stream",
          "text": [
            "      CNN\n",
            "0  0.4589\n",
            "1  0.5633\n",
            "2  0.5443\n",
            "3  0.4367\n",
            "4  0.4335\n",
            "5  0.5285\n",
            "6  0.5063\n",
            "7  0.3544\n",
            "8  0.5348\n",
            "9  0.5032\n"
          ]
        },
        {
          "data": {
            "text/html": [
              "\n",
              "  <div id=\"df-c8f8ad95-ca1d-41e7-a9ed-27e3cf0653de\">\n",
              "    <div class=\"colab-df-container\">\n",
              "      <div>\n",
              "<style scoped>\n",
              "    .dataframe tbody tr th:only-of-type {\n",
              "        vertical-align: middle;\n",
              "    }\n",
              "\n",
              "    .dataframe tbody tr th {\n",
              "        vertical-align: top;\n",
              "    }\n",
              "\n",
              "    .dataframe thead th {\n",
              "        text-align: right;\n",
              "    }\n",
              "</style>\n",
              "<table border=\"1\" class=\"dataframe\">\n",
              "  <thead>\n",
              "    <tr style=\"text-align: right;\">\n",
              "      <th></th>\n",
              "      <th>CNN</th>\n",
              "    </tr>\n",
              "  </thead>\n",
              "  <tbody>\n",
              "    <tr>\n",
              "      <th>count</th>\n",
              "      <td>10.000000</td>\n",
              "    </tr>\n",
              "    <tr>\n",
              "      <th>mean</th>\n",
              "      <td>0.486392</td>\n",
              "    </tr>\n",
              "    <tr>\n",
              "      <th>std</th>\n",
              "      <td>0.064545</td>\n",
              "    </tr>\n",
              "    <tr>\n",
              "      <th>min</th>\n",
              "      <td>0.354430</td>\n",
              "    </tr>\n",
              "    <tr>\n",
              "      <th>25%</th>\n",
              "      <td>0.442247</td>\n",
              "    </tr>\n",
              "    <tr>\n",
              "      <th>50%</th>\n",
              "      <td>0.504747</td>\n",
              "    </tr>\n",
              "    <tr>\n",
              "      <th>75%</th>\n",
              "      <td>0.533228</td>\n",
              "    </tr>\n",
              "    <tr>\n",
              "      <th>max</th>\n",
              "      <td>0.563291</td>\n",
              "    </tr>\n",
              "  </tbody>\n",
              "</table>\n",
              "</div>\n",
              "      <button class=\"colab-df-convert\" onclick=\"convertToInteractive('df-c8f8ad95-ca1d-41e7-a9ed-27e3cf0653de')\"\n",
              "              title=\"Convert this dataframe to an interactive table.\"\n",
              "              style=\"display:none;\">\n",
              "        \n",
              "  <svg xmlns=\"http://www.w3.org/2000/svg\" height=\"24px\"viewBox=\"0 0 24 24\"\n",
              "       width=\"24px\">\n",
              "    <path d=\"M0 0h24v24H0V0z\" fill=\"none\"/>\n",
              "    <path d=\"M18.56 5.44l.94 2.06.94-2.06 2.06-.94-2.06-.94-.94-2.06-.94 2.06-2.06.94zm-11 1L8.5 8.5l.94-2.06 2.06-.94-2.06-.94L8.5 2.5l-.94 2.06-2.06.94zm10 10l.94 2.06.94-2.06 2.06-.94-2.06-.94-.94-2.06-.94 2.06-2.06.94z\"/><path d=\"M17.41 7.96l-1.37-1.37c-.4-.4-.92-.59-1.43-.59-.52 0-1.04.2-1.43.59L10.3 9.45l-7.72 7.72c-.78.78-.78 2.05 0 2.83L4 21.41c.39.39.9.59 1.41.59.51 0 1.02-.2 1.41-.59l7.78-7.78 2.81-2.81c.8-.78.8-2.07 0-2.86zM5.41 20L4 18.59l7.72-7.72 1.47 1.35L5.41 20z\"/>\n",
              "  </svg>\n",
              "      </button>\n",
              "      \n",
              "  <style>\n",
              "    .colab-df-container {\n",
              "      display:flex;\n",
              "      flex-wrap:wrap;\n",
              "      gap: 12px;\n",
              "    }\n",
              "\n",
              "    .colab-df-convert {\n",
              "      background-color: #E8F0FE;\n",
              "      border: none;\n",
              "      border-radius: 50%;\n",
              "      cursor: pointer;\n",
              "      display: none;\n",
              "      fill: #1967D2;\n",
              "      height: 32px;\n",
              "      padding: 0 0 0 0;\n",
              "      width: 32px;\n",
              "    }\n",
              "\n",
              "    .colab-df-convert:hover {\n",
              "      background-color: #E2EBFA;\n",
              "      box-shadow: 0px 1px 2px rgba(60, 64, 67, 0.3), 0px 1px 3px 1px rgba(60, 64, 67, 0.15);\n",
              "      fill: #174EA6;\n",
              "    }\n",
              "\n",
              "    [theme=dark] .colab-df-convert {\n",
              "      background-color: #3B4455;\n",
              "      fill: #D2E3FC;\n",
              "    }\n",
              "\n",
              "    [theme=dark] .colab-df-convert:hover {\n",
              "      background-color: #434B5C;\n",
              "      box-shadow: 0px 1px 3px 1px rgba(0, 0, 0, 0.15);\n",
              "      filter: drop-shadow(0px 1px 2px rgba(0, 0, 0, 0.3));\n",
              "      fill: #FFFFFF;\n",
              "    }\n",
              "  </style>\n",
              "\n",
              "      <script>\n",
              "        const buttonEl =\n",
              "          document.querySelector('#df-c8f8ad95-ca1d-41e7-a9ed-27e3cf0653de button.colab-df-convert');\n",
              "        buttonEl.style.display =\n",
              "          google.colab.kernel.accessAllowed ? 'block' : 'none';\n",
              "\n",
              "        async function convertToInteractive(key) {\n",
              "          const element = document.querySelector('#df-c8f8ad95-ca1d-41e7-a9ed-27e3cf0653de');\n",
              "          const dataTable =\n",
              "            await google.colab.kernel.invokeFunction('convertToInteractive',\n",
              "                                                     [key], {});\n",
              "          if (!dataTable) return;\n",
              "\n",
              "          const docLinkHtml = 'Like what you see? Visit the ' +\n",
              "            '<a target=\"_blank\" href=https://colab.research.google.com/notebooks/data_table.ipynb>data table notebook</a>'\n",
              "            + ' to learn more about interactive tables.';\n",
              "          element.innerHTML = '';\n",
              "          dataTable['output_type'] = 'display_data';\n",
              "          await google.colab.output.renderOutput(dataTable, element);\n",
              "          const docLink = document.createElement('div');\n",
              "          docLink.innerHTML = docLinkHtml;\n",
              "          element.appendChild(docLink);\n",
              "        }\n",
              "      </script>\n",
              "    </div>\n",
              "  </div>\n",
              "  "
            ],
            "text/plain": [
              "             CNN\n",
              "count  10.000000\n",
              "mean    0.486392\n",
              "std     0.064545\n",
              "min     0.354430\n",
              "25%     0.442247\n",
              "50%     0.504747\n",
              "75%     0.533228\n",
              "max     0.563291"
            ]
          },
          "execution_count": 484,
          "metadata": {},
          "output_type": "execute_result"
        }
      ],
      "source": [
        "cnn_accs_df = pd.DataFrame(cnn_accs, columns=['CNN'])\n",
        "print(cnn_accs_df.round(4))\n",
        "cnn_accs_df.describe()"
      ]
    },
    {
      "cell_type": "code",
      "execution_count": null,
      "metadata": {
        "colab": {
          "base_uri": "https://localhost:8080/"
        },
        "id": "MMBRfD0wGiUE",
        "outputId": "54d185d9-f490-4595-a010-c73520bb38a9"
      },
      "outputs": [
        {
          "name": "stdout",
          "output_type": "stream",
          "text": [
            "10/10 [==============================] - 0s 7ms/step\n",
            "              precision    recall  f1-score   support\n",
            "\n",
            "           0       0.60      0.67      0.63        92\n",
            "           1       0.67      0.80      0.73       105\n",
            "           2       0.74      0.43      0.55        53\n",
            "           3       0.39      0.33      0.36        33\n",
            "           4       0.41      0.33      0.37        33\n",
            "\n",
            "    accuracy                           0.60       316\n",
            "   macro avg       0.56      0.51      0.53       316\n",
            "weighted avg       0.60      0.60      0.59       316\n",
            "\n"
          ]
        }
      ],
      "source": [
        "prediction = [np.argmax(x) for x in cnn_model.predict(dev_x)]\n",
        "print(classification_report(dev['label'], prediction))"
      ]
    },
    {
      "cell_type": "markdown",
      "metadata": {},
      "source": [
        "<br>\n",
        "<hr style=\"border: 4px solid #B7C9F2;\" />\n",
        "<hr style=\"border: 2px solid #FB88B4;\" />\n",
        "\n",
        "---\n",
        "\n",
        "<a id=\"top\"></a>\n",
        "\n",
        "# Code for Hyperparameter Tuning - DAN"
      ]
    },
    {
      "cell_type": "code",
      "execution_count": null,
      "metadata": {
        "id": "Eb1F1sxPUnj3"
      },
      "outputs": [],
      "source": [
        "from keras import optimizers, regularizers\n",
        "model.compile(optimizer=optimizers.Adam(learning_rate=0.001),\n",
        "              loss=\"categorical_crossentropy\", metrics=[\"accuracy\"])"
      ]
    },
    {
      "cell_type": "code",
      "execution_count": null,
      "metadata": {
        "colab": {
          "base_uri": "https://localhost:8080/"
        },
        "id": "iE04hSiMUoPp",
        "outputId": "584051f4-5447-4f19-a2f4-6d562cbe1faa"
      },
      "outputs": [
        {
          "data": {
            "text/plain": [
              "<keras.layers.core.dense.Dense at 0x7f176d63c5b0>"
            ]
          },
          "execution_count": 615,
          "metadata": {},
          "output_type": "execute_result"
        }
      ],
      "source": [
        "Dense(200, activation='relu',\n",
        "      kernel_regularizer=regularizers.l2(l2=1e-4),\n",
        "      bias_regularizer=regularizers.l2(1e-4))"
      ]
    },
    {
      "cell_type": "code",
      "execution_count": null,
      "metadata": {
        "id": "C8c5rsWFUuHx"
      },
      "outputs": [],
      "source": [
        "model.add(Dropout(0.8))"
      ]
    },
    {
      "cell_type": "code",
      "execution_count": null,
      "metadata": {
        "colab": {
          "base_uri": "https://localhost:8080/"
        },
        "id": "W1ghimWDUyjT",
        "outputId": "bcba298d-d85d-4ce6-c278-115ab16b6590"
      },
      "outputs": [
        {
          "name": "stdout",
          "output_type": "stream",
          "text": [
            "Epoch 1/10\n",
            "20/20 [==============================] - 2s 32ms/step - loss: 1.5939 - accuracy: 0.3047 - val_loss: 1.5661 - val_accuracy: 0.3149\n",
            "Epoch 2/10\n",
            "20/20 [==============================] - 0s 18ms/step - loss: 1.5426 - accuracy: 0.3189 - val_loss: 1.4850 - val_accuracy: 0.3149\n",
            "Epoch 3/10\n",
            "20/20 [==============================] - 0s 19ms/step - loss: 1.5162 - accuracy: 0.3439 - val_loss: 1.4678 - val_accuracy: 0.5047\n",
            "Epoch 4/10\n",
            "20/20 [==============================] - 0s 18ms/step - loss: 1.4827 - accuracy: 0.3871 - val_loss: 1.4176 - val_accuracy: 0.5301\n",
            "Epoch 5/10\n",
            "20/20 [==============================] - 0s 19ms/step - loss: 1.4139 - accuracy: 0.4263 - val_loss: 1.3272 - val_accuracy: 0.5475\n",
            "Epoch 6/10\n",
            "20/20 [==============================] - 0s 20ms/step - loss: 1.3186 - accuracy: 0.4952 - val_loss: 1.2032 - val_accuracy: 0.5870\n",
            "Epoch 7/10\n",
            "20/20 [==============================] - 0s 19ms/step - loss: 1.1942 - accuracy: 0.5436 - val_loss: 1.0817 - val_accuracy: 0.6440\n",
            "Epoch 8/10\n",
            "20/20 [==============================] - 0s 18ms/step - loss: 1.1039 - accuracy: 0.5788 - val_loss: 0.9825 - val_accuracy: 0.6582\n",
            "Epoch 9/10\n",
            "20/20 [==============================] - 0s 19ms/step - loss: 1.0062 - accuracy: 0.5983 - val_loss: 0.9308 - val_accuracy: 0.6693\n",
            "Epoch 10/10\n",
            "20/20 [==============================] - 0s 19ms/step - loss: 0.9561 - accuracy: 0.6212 - val_loss: 0.8931 - val_accuracy: 0.6661\n",
            "20/20 [==============================] - 0s 2ms/step - loss: 0.8931 - accuracy: 0.6661\n",
            "Epoch 1/10\n",
            "20/20 [==============================] - 2s 30ms/step - loss: 1.5888 - accuracy: 0.3102 - val_loss: 1.5523 - val_accuracy: 0.3149\n",
            "Epoch 2/10\n",
            "20/20 [==============================] - 0s 24ms/step - loss: 1.5361 - accuracy: 0.3277 - val_loss: 1.4816 - val_accuracy: 0.3149\n",
            "Epoch 3/10\n",
            "20/20 [==============================] - 1s 27ms/step - loss: 1.5110 - accuracy: 0.3498 - val_loss: 1.4594 - val_accuracy: 0.4968\n",
            "Epoch 4/10\n",
            "20/20 [==============================] - 1s 30ms/step - loss: 1.4711 - accuracy: 0.3542 - val_loss: 1.4152 - val_accuracy: 0.5364\n",
            "Epoch 5/10\n",
            "20/20 [==============================] - 1s 26ms/step - loss: 1.4091 - accuracy: 0.4204 - val_loss: 1.3249 - val_accuracy: 0.5585\n",
            "Epoch 6/10\n",
            "20/20 [==============================] - 1s 29ms/step - loss: 1.3089 - accuracy: 0.4857 - val_loss: 1.1796 - val_accuracy: 0.5807\n",
            "Epoch 7/10\n",
            "20/20 [==============================] - 1s 29ms/step - loss: 1.1783 - accuracy: 0.5460 - val_loss: 1.0538 - val_accuracy: 0.6598\n",
            "Epoch 8/10\n",
            "20/20 [==============================] - 1s 30ms/step - loss: 1.0703 - accuracy: 0.5868 - val_loss: 0.9675 - val_accuracy: 0.6598\n",
            "Epoch 9/10\n",
            "20/20 [==============================] - 0s 19ms/step - loss: 0.9863 - accuracy: 0.6082 - val_loss: 0.9314 - val_accuracy: 0.6677\n",
            "Epoch 10/10\n",
            "20/20 [==============================] - 0s 19ms/step - loss: 0.9363 - accuracy: 0.6418 - val_loss: 0.8978 - val_accuracy: 0.6693\n",
            "20/20 [==============================] - 0s 2ms/step - loss: 0.8978 - accuracy: 0.6693\n",
            "Epoch 1/10\n",
            "20/20 [==============================] - 2s 30ms/step - loss: 1.5752 - accuracy: 0.3241 - val_loss: 1.5240 - val_accuracy: 0.3149\n",
            "Epoch 2/10\n",
            "20/20 [==============================] - 0s 19ms/step - loss: 1.5187 - accuracy: 0.3300 - val_loss: 1.4779 - val_accuracy: 0.3149\n",
            "Epoch 3/10\n",
            "20/20 [==============================] - 0s 19ms/step - loss: 1.4927 - accuracy: 0.3308 - val_loss: 1.4537 - val_accuracy: 0.3149\n",
            "Epoch 4/10\n",
            "20/20 [==============================] - 0s 19ms/step - loss: 1.4543 - accuracy: 0.3502 - val_loss: 1.4066 - val_accuracy: 0.3149\n",
            "Epoch 5/10\n",
            "20/20 [==============================] - 0s 17ms/step - loss: 1.3923 - accuracy: 0.3558 - val_loss: 1.3339 - val_accuracy: 0.3165\n",
            "Epoch 6/10\n",
            "20/20 [==============================] - 0s 18ms/step - loss: 1.3029 - accuracy: 0.4152 - val_loss: 1.2447 - val_accuracy: 0.5237\n",
            "Epoch 7/10\n",
            "20/20 [==============================] - 0s 18ms/step - loss: 1.2035 - accuracy: 0.5044 - val_loss: 1.1358 - val_accuracy: 0.6266\n",
            "Epoch 8/10\n",
            "20/20 [==============================] - 0s 19ms/step - loss: 1.1036 - accuracy: 0.5567 - val_loss: 1.0571 - val_accuracy: 0.6377\n",
            "Epoch 9/10\n",
            "20/20 [==============================] - 0s 19ms/step - loss: 1.0337 - accuracy: 0.5994 - val_loss: 0.9683 - val_accuracy: 0.6598\n",
            "Epoch 10/10\n",
            "20/20 [==============================] - 0s 18ms/step - loss: 0.9548 - accuracy: 0.6189 - val_loss: 0.9219 - val_accuracy: 0.6820\n",
            "20/20 [==============================] - 0s 2ms/step - loss: 0.9219 - accuracy: 0.6820\n",
            "Epoch 1/10\n",
            "20/20 [==============================] - 2s 30ms/step - loss: 1.5802 - accuracy: 0.3035 - val_loss: 1.5257 - val_accuracy: 0.3149\n",
            "Epoch 2/10\n",
            "20/20 [==============================] - 0s 19ms/step - loss: 1.5215 - accuracy: 0.3233 - val_loss: 1.4673 - val_accuracy: 0.3149\n",
            "Epoch 3/10\n",
            "20/20 [==============================] - 0s 18ms/step - loss: 1.4862 - accuracy: 0.3403 - val_loss: 1.4440 - val_accuracy: 0.5190\n",
            "Epoch 4/10\n",
            "20/20 [==============================] - 1s 26ms/step - loss: 1.4609 - accuracy: 0.3633 - val_loss: 1.3957 - val_accuracy: 0.5253\n",
            "Epoch 5/10\n",
            "20/20 [==============================] - 1s 26ms/step - loss: 1.3826 - accuracy: 0.4382 - val_loss: 1.3001 - val_accuracy: 0.5396\n",
            "Epoch 6/10\n",
            "20/20 [==============================] - 1s 26ms/step - loss: 1.2704 - accuracy: 0.5000 - val_loss: 1.1305 - val_accuracy: 0.6044\n",
            "Epoch 7/10\n",
            "20/20 [==============================] - 1s 26ms/step - loss: 1.1414 - accuracy: 0.5626 - val_loss: 1.0107 - val_accuracy: 0.6661\n",
            "Epoch 8/10\n",
            "20/20 [==============================] - 1s 26ms/step - loss: 1.0328 - accuracy: 0.6042 - val_loss: 0.9369 - val_accuracy: 0.6677\n",
            "Epoch 9/10\n",
            "20/20 [==============================] - 1s 31ms/step - loss: 0.9530 - accuracy: 0.6319 - val_loss: 0.8974 - val_accuracy: 0.6741\n",
            "Epoch 10/10\n",
            "20/20 [==============================] - 1s 29ms/step - loss: 0.8956 - accuracy: 0.6482 - val_loss: 0.8771 - val_accuracy: 0.6820\n",
            "20/20 [==============================] - 0s 2ms/step - loss: 0.8771 - accuracy: 0.6820\n",
            "Epoch 1/10\n",
            "20/20 [==============================] - 2s 29ms/step - loss: 1.5818 - accuracy: 0.2987 - val_loss: 1.5271 - val_accuracy: 0.3149\n",
            "Epoch 2/10\n",
            "20/20 [==============================] - 0s 18ms/step - loss: 1.5280 - accuracy: 0.3217 - val_loss: 1.4748 - val_accuracy: 0.4684\n",
            "Epoch 3/10\n",
            "20/20 [==============================] - 0s 18ms/step - loss: 1.4944 - accuracy: 0.3566 - val_loss: 1.4441 - val_accuracy: 0.5427\n",
            "Epoch 4/10\n",
            "20/20 [==============================] - 0s 19ms/step - loss: 1.4418 - accuracy: 0.4156 - val_loss: 1.3548 - val_accuracy: 0.5475\n",
            "Epoch 5/10\n",
            "20/20 [==============================] - 0s 18ms/step - loss: 1.3413 - accuracy: 0.4683 - val_loss: 1.2399 - val_accuracy: 0.5649\n",
            "Epoch 6/10\n",
            "20/20 [==============================] - 0s 19ms/step - loss: 1.2168 - accuracy: 0.5388 - val_loss: 1.0873 - val_accuracy: 0.5854\n",
            "Epoch 7/10\n",
            "20/20 [==============================] - 0s 18ms/step - loss: 1.0950 - accuracy: 0.5899 - val_loss: 1.0147 - val_accuracy: 0.6677\n",
            "Epoch 8/10\n",
            "20/20 [==============================] - 0s 18ms/step - loss: 1.0272 - accuracy: 0.6268 - val_loss: 0.9386 - val_accuracy: 0.6646\n",
            "Epoch 9/10\n",
            "20/20 [==============================] - 0s 19ms/step - loss: 0.9389 - accuracy: 0.6434 - val_loss: 0.9011 - val_accuracy: 0.6693\n",
            "Epoch 10/10\n",
            "20/20 [==============================] - 1s 28ms/step - loss: 0.9023 - accuracy: 0.6529 - val_loss: 0.8717 - val_accuracy: 0.6709\n",
            "20/20 [==============================] - 0s 4ms/step - loss: 0.8717 - accuracy: 0.6709\n",
            "Epoch 1/10\n",
            "20/20 [==============================] - 2s 28ms/step - loss: 1.5885 - accuracy: 0.2956 - val_loss: 1.5508 - val_accuracy: 0.3149\n",
            "Epoch 2/10\n",
            "20/20 [==============================] - 0s 19ms/step - loss: 1.5359 - accuracy: 0.3138 - val_loss: 1.4775 - val_accuracy: 0.4557\n",
            "Epoch 3/10\n",
            "20/20 [==============================] - 0s 18ms/step - loss: 1.5123 - accuracy: 0.3284 - val_loss: 1.4675 - val_accuracy: 0.4968\n",
            "Epoch 4/10\n",
            "20/20 [==============================] - 0s 18ms/step - loss: 1.4718 - accuracy: 0.3788 - val_loss: 1.4140 - val_accuracy: 0.5522\n",
            "Epoch 5/10\n",
            "20/20 [==============================] - 0s 18ms/step - loss: 1.4147 - accuracy: 0.4200 - val_loss: 1.3218 - val_accuracy: 0.5570\n",
            "Epoch 6/10\n",
            "20/20 [==============================] - 0s 18ms/step - loss: 1.3018 - accuracy: 0.4842 - val_loss: 1.1747 - val_accuracy: 0.5728\n",
            "Epoch 7/10\n",
            "20/20 [==============================] - 0s 19ms/step - loss: 1.1678 - accuracy: 0.5670 - val_loss: 1.0593 - val_accuracy: 0.6566\n",
            "Epoch 8/10\n",
            "20/20 [==============================] - 0s 19ms/step - loss: 1.0664 - accuracy: 0.5983 - val_loss: 0.9586 - val_accuracy: 0.6661\n",
            "Epoch 9/10\n",
            "20/20 [==============================] - 0s 18ms/step - loss: 0.9812 - accuracy: 0.6284 - val_loss: 0.9452 - val_accuracy: 0.6392\n",
            "Epoch 10/10\n",
            "20/20 [==============================] - 0s 19ms/step - loss: 0.9312 - accuracy: 0.6434 - val_loss: 0.8780 - val_accuracy: 0.6725\n",
            "20/20 [==============================] - 0s 2ms/step - loss: 0.8780 - accuracy: 0.6725\n",
            "Epoch 1/10\n",
            "20/20 [==============================] - 2s 29ms/step - loss: 1.5825 - accuracy: 0.3118 - val_loss: 1.5343 - val_accuracy: 0.3149\n",
            "Epoch 2/10\n",
            "20/20 [==============================] - 0s 19ms/step - loss: 1.5268 - accuracy: 0.3273 - val_loss: 1.4683 - val_accuracy: 0.5348\n",
            "Epoch 3/10\n",
            "20/20 [==============================] - 0s 19ms/step - loss: 1.4986 - accuracy: 0.3471 - val_loss: 1.4471 - val_accuracy: 0.5443\n",
            "Epoch 4/10\n",
            "20/20 [==============================] - 0s 20ms/step - loss: 1.4460 - accuracy: 0.3887 - val_loss: 1.3792 - val_accuracy: 0.5301\n",
            "Epoch 5/10\n",
            "20/20 [==============================] - 0s 19ms/step - loss: 1.3768 - accuracy: 0.4529 - val_loss: 1.2641 - val_accuracy: 0.5570\n",
            "Epoch 6/10\n",
            "20/20 [==============================] - 0s 19ms/step - loss: 1.2442 - accuracy: 0.5273 - val_loss: 1.1291 - val_accuracy: 0.5744\n",
            "Epoch 7/10\n",
            "20/20 [==============================] - 0s 20ms/step - loss: 1.1355 - accuracy: 0.5666 - val_loss: 1.0199 - val_accuracy: 0.6566\n",
            "Epoch 8/10\n",
            "20/20 [==============================] - 0s 21ms/step - loss: 1.0267 - accuracy: 0.6046 - val_loss: 0.9513 - val_accuracy: 0.6551\n",
            "Epoch 9/10\n",
            "20/20 [==============================] - 1s 28ms/step - loss: 0.9614 - accuracy: 0.6379 - val_loss: 0.9126 - val_accuracy: 0.6598\n",
            "Epoch 10/10\n",
            "20/20 [==============================] - 1s 28ms/step - loss: 0.9135 - accuracy: 0.6438 - val_loss: 0.8873 - val_accuracy: 0.6835\n",
            "20/20 [==============================] - 0s 4ms/step - loss: 0.8873 - accuracy: 0.6835\n",
            "Epoch 1/10\n",
            "20/20 [==============================] - 2s 28ms/step - loss: 1.5855 - accuracy: 0.2932 - val_loss: 1.5347 - val_accuracy: 0.3370\n",
            "Epoch 2/10\n",
            "20/20 [==============================] - 0s 18ms/step - loss: 1.5115 - accuracy: 0.3273 - val_loss: 1.4595 - val_accuracy: 0.4715\n",
            "Epoch 3/10\n",
            "20/20 [==============================] - 0s 18ms/step - loss: 1.4922 - accuracy: 0.3399 - val_loss: 1.4482 - val_accuracy: 0.4794\n",
            "Epoch 4/10\n",
            "20/20 [==============================] - 0s 17ms/step - loss: 1.4457 - accuracy: 0.3863 - val_loss: 1.3785 - val_accuracy: 0.5253\n",
            "Epoch 5/10\n",
            "20/20 [==============================] - 0s 18ms/step - loss: 1.3729 - accuracy: 0.4639 - val_loss: 1.2687 - val_accuracy: 0.5633\n",
            "Epoch 6/10\n",
            "20/20 [==============================] - 0s 19ms/step - loss: 1.2636 - accuracy: 0.5182 - val_loss: 1.1419 - val_accuracy: 0.5791\n",
            "Epoch 7/10\n",
            "20/20 [==============================] - 0s 18ms/step - loss: 1.1444 - accuracy: 0.5578 - val_loss: 1.0156 - val_accuracy: 0.6377\n",
            "Epoch 8/10\n",
            "20/20 [==============================] - 0s 19ms/step - loss: 1.0429 - accuracy: 0.5955 - val_loss: 0.9527 - val_accuracy: 0.6756\n",
            "Epoch 9/10\n",
            "20/20 [==============================] - 0s 19ms/step - loss: 0.9857 - accuracy: 0.6200 - val_loss: 0.9263 - val_accuracy: 0.6646\n",
            "Epoch 10/10\n",
            "20/20 [==============================] - 0s 17ms/step - loss: 0.9429 - accuracy: 0.6224 - val_loss: 0.8990 - val_accuracy: 0.6804\n",
            "20/20 [==============================] - 0s 3ms/step - loss: 0.8990 - accuracy: 0.6804\n",
            "Epoch 1/10\n",
            "20/20 [==============================] - 1s 28ms/step - loss: 1.5908 - accuracy: 0.3134 - val_loss: 1.5505 - val_accuracy: 0.3149\n",
            "Epoch 2/10\n",
            "20/20 [==============================] - 0s 19ms/step - loss: 1.5270 - accuracy: 0.3320 - val_loss: 1.4725 - val_accuracy: 0.3149\n",
            "Epoch 3/10\n",
            "20/20 [==============================] - 0s 19ms/step - loss: 1.5049 - accuracy: 0.3336 - val_loss: 1.4661 - val_accuracy: 0.4256\n",
            "Epoch 4/10\n",
            "20/20 [==============================] - 0s 18ms/step - loss: 1.4779 - accuracy: 0.3617 - val_loss: 1.4191 - val_accuracy: 0.5585\n",
            "Epoch 5/10\n",
            "20/20 [==============================] - 0s 20ms/step - loss: 1.4144 - accuracy: 0.4208 - val_loss: 1.3453 - val_accuracy: 0.5601\n",
            "Epoch 6/10\n",
            "20/20 [==============================] - 0s 19ms/step - loss: 1.3088 - accuracy: 0.4834 - val_loss: 1.1886 - val_accuracy: 0.6076\n",
            "Epoch 7/10\n",
            "20/20 [==============================] - 0s 18ms/step - loss: 1.1801 - accuracy: 0.5392 - val_loss: 1.0513 - val_accuracy: 0.6519\n",
            "Epoch 8/10\n",
            "20/20 [==============================] - 0s 20ms/step - loss: 1.0900 - accuracy: 0.5899 - val_loss: 0.9802 - val_accuracy: 0.6566\n",
            "Epoch 9/10\n",
            "20/20 [==============================] - 0s 18ms/step - loss: 1.0018 - accuracy: 0.6157 - val_loss: 0.9207 - val_accuracy: 0.6693\n",
            "Epoch 10/10\n",
            "20/20 [==============================] - 0s 18ms/step - loss: 0.9426 - accuracy: 0.6510 - val_loss: 0.8867 - val_accuracy: 0.6867\n",
            "20/20 [==============================] - 0s 2ms/step - loss: 0.8867 - accuracy: 0.6867\n",
            "Epoch 1/10\n",
            "20/20 [==============================] - 3s 104ms/step - loss: 1.5867 - accuracy: 0.3019 - val_loss: 1.5456 - val_accuracy: 0.3639\n",
            "Epoch 2/10\n",
            "20/20 [==============================] - 0s 21ms/step - loss: 1.5338 - accuracy: 0.3134 - val_loss: 1.4729 - val_accuracy: 0.3149\n",
            "Epoch 3/10\n",
            "20/20 [==============================] - 0s 21ms/step - loss: 1.5008 - accuracy: 0.3364 - val_loss: 1.4581 - val_accuracy: 0.5348\n",
            "Epoch 4/10\n",
            "20/20 [==============================] - 0s 20ms/step - loss: 1.4780 - accuracy: 0.3728 - val_loss: 1.4118 - val_accuracy: 0.5522\n",
            "Epoch 5/10\n",
            "20/20 [==============================] - 0s 20ms/step - loss: 1.4024 - accuracy: 0.4275 - val_loss: 1.3049 - val_accuracy: 0.5649\n",
            "Epoch 6/10\n",
            "20/20 [==============================] - 0s 20ms/step - loss: 1.2807 - accuracy: 0.4956 - val_loss: 1.1412 - val_accuracy: 0.5475\n",
            "Epoch 7/10\n",
            "20/20 [==============================] - 0s 19ms/step - loss: 1.1442 - accuracy: 0.5491 - val_loss: 1.0331 - val_accuracy: 0.6297\n",
            "Epoch 8/10\n",
            "20/20 [==============================] - 0s 19ms/step - loss: 1.0583 - accuracy: 0.6014 - val_loss: 0.9575 - val_accuracy: 0.6440\n",
            "Epoch 9/10\n",
            "20/20 [==============================] - 0s 18ms/step - loss: 0.9889 - accuracy: 0.6133 - val_loss: 0.9116 - val_accuracy: 0.6677\n",
            "Epoch 10/10\n",
            "20/20 [==============================] - 0s 19ms/step - loss: 0.9179 - accuracy: 0.6418 - val_loss: 0.8969 - val_accuracy: 0.6709\n",
            "20/20 [==============================] - 0s 2ms/step - loss: 0.8969 - accuracy: 0.6709\n",
            "Epoch 1/10\n",
            "20/20 [==============================] - 2s 31ms/step - loss: 1.5832 - accuracy: 0.3138 - val_loss: 1.5359 - val_accuracy: 0.3149\n",
            "Epoch 2/10\n",
            "20/20 [==============================] - 0s 19ms/step - loss: 1.5326 - accuracy: 0.3154 - val_loss: 1.4746 - val_accuracy: 0.3149\n",
            "Epoch 3/10\n",
            "20/20 [==============================] - 0s 18ms/step - loss: 1.4986 - accuracy: 0.3479 - val_loss: 1.4496 - val_accuracy: 0.5316\n",
            "Epoch 4/10\n",
            "20/20 [==============================] - 0s 20ms/step - loss: 1.4566 - accuracy: 0.3970 - val_loss: 1.3902 - val_accuracy: 0.5538\n",
            "Epoch 5/10\n",
            "20/20 [==============================] - 0s 18ms/step - loss: 1.3692 - accuracy: 0.4746 - val_loss: 1.2670 - val_accuracy: 0.5649\n",
            "Epoch 6/10\n",
            "20/20 [==============================] - 0s 19ms/step - loss: 1.2497 - accuracy: 0.5297 - val_loss: 1.1208 - val_accuracy: 0.5839\n",
            "Epoch 7/10\n",
            "20/20 [==============================] - 0s 19ms/step - loss: 1.1417 - accuracy: 0.5567 - val_loss: 1.0263 - val_accuracy: 0.6187\n",
            "Epoch 8/10\n",
            "20/20 [==============================] - 0s 19ms/step - loss: 1.0418 - accuracy: 0.6014 - val_loss: 0.9802 - val_accuracy: 0.6377\n",
            "Epoch 9/10\n",
            "20/20 [==============================] - 0s 20ms/step - loss: 0.9728 - accuracy: 0.6185 - val_loss: 0.9427 - val_accuracy: 0.6630\n",
            "Epoch 10/10\n",
            "20/20 [==============================] - 0s 18ms/step - loss: 0.9205 - accuracy: 0.6355 - val_loss: 0.8995 - val_accuracy: 0.6756\n",
            "20/20 [==============================] - 0s 3ms/step - loss: 0.8995 - accuracy: 0.6756\n",
            "Epoch 1/10\n",
            "20/20 [==============================] - 3s 52ms/step - loss: 1.5750 - accuracy: 0.3261 - val_loss: 1.5215 - val_accuracy: 0.3149\n",
            "Epoch 2/10\n",
            "20/20 [==============================] - 1s 33ms/step - loss: 1.5188 - accuracy: 0.3304 - val_loss: 1.4656 - val_accuracy: 0.4921\n",
            "Epoch 3/10\n",
            "20/20 [==============================] - 1s 33ms/step - loss: 1.4964 - accuracy: 0.3494 - val_loss: 1.4534 - val_accuracy: 0.3845\n",
            "Epoch 4/10\n",
            "20/20 [==============================] - 1s 32ms/step - loss: 1.4667 - accuracy: 0.3653 - val_loss: 1.4056 - val_accuracy: 0.5506\n",
            "Epoch 5/10\n",
            "20/20 [==============================] - 0s 22ms/step - loss: 1.3954 - accuracy: 0.4184 - val_loss: 1.2922 - val_accuracy: 0.5665\n",
            "Epoch 6/10\n",
            "20/20 [==============================] - 0s 19ms/step - loss: 1.2478 - accuracy: 0.5143 - val_loss: 1.1281 - val_accuracy: 0.6377\n",
            "Epoch 7/10\n",
            "20/20 [==============================] - 0s 18ms/step - loss: 1.1185 - accuracy: 0.5872 - val_loss: 1.0177 - val_accuracy: 0.6566\n",
            "Epoch 8/10\n",
            "20/20 [==============================] - 0s 19ms/step - loss: 1.0260 - accuracy: 0.6161 - val_loss: 0.9515 - val_accuracy: 0.6456\n",
            "Epoch 9/10\n",
            "20/20 [==============================] - 0s 19ms/step - loss: 0.9830 - accuracy: 0.6193 - val_loss: 0.9395 - val_accuracy: 0.6582\n",
            "Epoch 10/10\n",
            "20/20 [==============================] - 0s 18ms/step - loss: 0.9214 - accuracy: 0.6506 - val_loss: 0.9084 - val_accuracy: 0.6709\n",
            "20/20 [==============================] - 0s 2ms/step - loss: 0.9084 - accuracy: 0.6709\n",
            "Epoch 1/10\n",
            "20/20 [==============================] - 2s 29ms/step - loss: 1.5822 - accuracy: 0.3047 - val_loss: 1.5334 - val_accuracy: 0.3149\n",
            "Epoch 2/10\n",
            "20/20 [==============================] - 0s 19ms/step - loss: 1.5210 - accuracy: 0.3296 - val_loss: 1.4702 - val_accuracy: 0.3149\n",
            "Epoch 3/10\n",
            "20/20 [==============================] - 0s 20ms/step - loss: 1.4952 - accuracy: 0.3372 - val_loss: 1.4568 - val_accuracy: 0.4873\n",
            "Epoch 4/10\n",
            "20/20 [==============================] - 0s 21ms/step - loss: 1.4616 - accuracy: 0.3879 - val_loss: 1.4020 - val_accuracy: 0.5585\n",
            "Epoch 5/10\n",
            "20/20 [==============================] - 1s 26ms/step - loss: 1.3877 - accuracy: 0.4453 - val_loss: 1.2862 - val_accuracy: 0.5712\n",
            "Epoch 6/10\n",
            "20/20 [==============================] - 1s 28ms/step - loss: 1.2752 - accuracy: 0.5119 - val_loss: 1.1396 - val_accuracy: 0.6076\n",
            "Epoch 7/10\n",
            "20/20 [==============================] - 1s 27ms/step - loss: 1.1433 - accuracy: 0.5670 - val_loss: 1.0272 - val_accuracy: 0.6313\n",
            "Epoch 8/10\n",
            "20/20 [==============================] - 1s 26ms/step - loss: 1.0370 - accuracy: 0.6078 - val_loss: 0.9522 - val_accuracy: 0.6630\n",
            "Epoch 9/10\n",
            "20/20 [==============================] - 1s 27ms/step - loss: 0.9530 - accuracy: 0.6303 - val_loss: 0.9115 - val_accuracy: 0.6661\n",
            "Epoch 10/10\n",
            "20/20 [==============================] - 1s 28ms/step - loss: 0.9095 - accuracy: 0.6446 - val_loss: 0.8976 - val_accuracy: 0.6646\n",
            "20/20 [==============================] - 0s 4ms/step - loss: 0.8976 - accuracy: 0.6646\n",
            "Epoch 1/10\n",
            "20/20 [==============================] - 2s 31ms/step - loss: 1.5864 - accuracy: 0.3027 - val_loss: 1.5417 - val_accuracy: 0.3228\n",
            "Epoch 2/10\n",
            "20/20 [==============================] - 0s 20ms/step - loss: 1.5210 - accuracy: 0.3213 - val_loss: 1.4671 - val_accuracy: 0.4509\n",
            "Epoch 3/10\n",
            "20/20 [==============================] - 0s 18ms/step - loss: 1.5003 - accuracy: 0.3308 - val_loss: 1.4550 - val_accuracy: 0.4620\n",
            "Epoch 4/10\n",
            "20/20 [==============================] - 0s 19ms/step - loss: 1.4656 - accuracy: 0.3700 - val_loss: 1.4102 - val_accuracy: 0.5348\n",
            "Epoch 5/10\n",
            "20/20 [==============================] - 0s 18ms/step - loss: 1.3980 - accuracy: 0.4243 - val_loss: 1.2997 - val_accuracy: 0.5237\n",
            "Epoch 6/10\n",
            "20/20 [==============================] - 0s 18ms/step - loss: 1.3055 - accuracy: 0.4766 - val_loss: 1.1811 - val_accuracy: 0.5617\n",
            "Epoch 7/10\n",
            "20/20 [==============================] - 0s 19ms/step - loss: 1.1829 - accuracy: 0.5408 - val_loss: 1.0584 - val_accuracy: 0.6329\n",
            "Epoch 8/10\n",
            "20/20 [==============================] - 0s 19ms/step - loss: 1.0926 - accuracy: 0.5812 - val_loss: 0.9790 - val_accuracy: 0.6551\n",
            "Epoch 9/10\n",
            "20/20 [==============================] - 0s 19ms/step - loss: 0.9977 - accuracy: 0.6228 - val_loss: 0.9110 - val_accuracy: 0.6725\n",
            "Epoch 10/10\n",
            "20/20 [==============================] - 0s 19ms/step - loss: 0.9494 - accuracy: 0.6387 - val_loss: 0.8839 - val_accuracy: 0.6804\n",
            "20/20 [==============================] - 0s 2ms/step - loss: 0.8839 - accuracy: 0.6804\n",
            "Epoch 1/10\n",
            "20/20 [==============================] - 2s 30ms/step - loss: 1.5796 - accuracy: 0.3023 - val_loss: 1.5174 - val_accuracy: 0.3528\n",
            "Epoch 2/10\n",
            "20/20 [==============================] - 0s 21ms/step - loss: 1.5253 - accuracy: 0.3324 - val_loss: 1.4715 - val_accuracy: 0.5142\n",
            "Epoch 3/10\n",
            "20/20 [==============================] - 0s 19ms/step - loss: 1.4930 - accuracy: 0.3447 - val_loss: 1.4444 - val_accuracy: 0.5127\n",
            "Epoch 4/10\n",
            "20/20 [==============================] - 0s 21ms/step - loss: 1.4476 - accuracy: 0.3772 - val_loss: 1.3735 - val_accuracy: 0.5285\n",
            "Epoch 5/10\n",
            "20/20 [==============================] - 0s 20ms/step - loss: 1.3495 - accuracy: 0.4548 - val_loss: 1.2550 - val_accuracy: 0.5554\n",
            "Epoch 6/10\n",
            "20/20 [==============================] - 1s 26ms/step - loss: 1.2271 - accuracy: 0.5166 - val_loss: 1.1156 - val_accuracy: 0.6503\n",
            "Epoch 7/10\n",
            "20/20 [==============================] - 1s 31ms/step - loss: 1.1099 - accuracy: 0.5808 - val_loss: 1.0054 - val_accuracy: 0.6582\n",
            "Epoch 8/10\n",
            "20/20 [==============================] - 1s 35ms/step - loss: 1.0305 - accuracy: 0.5994 - val_loss: 0.9784 - val_accuracy: 0.6424\n",
            "Epoch 9/10\n",
            "20/20 [==============================] - 1s 34ms/step - loss: 0.9554 - accuracy: 0.6315 - val_loss: 0.9124 - val_accuracy: 0.6582\n",
            "Epoch 10/10\n",
            "20/20 [==============================] - 1s 32ms/step - loss: 0.8930 - accuracy: 0.6387 - val_loss: 0.8910 - val_accuracy: 0.6709\n",
            "20/20 [==============================] - 0s 3ms/step - loss: 0.8910 - accuracy: 0.6709\n",
            "Epoch 1/10\n",
            "20/20 [==============================] - 2s 30ms/step - loss: 1.5824 - accuracy: 0.3059 - val_loss: 1.5317 - val_accuracy: 0.3544\n",
            "Epoch 2/10\n",
            "20/20 [==============================] - 0s 19ms/step - loss: 1.5274 - accuracy: 0.3158 - val_loss: 1.4691 - val_accuracy: 0.3655\n",
            "Epoch 3/10\n",
            "20/20 [==============================] - 0s 19ms/step - loss: 1.4937 - accuracy: 0.3479 - val_loss: 1.4431 - val_accuracy: 0.4367\n",
            "Epoch 4/10\n",
            "20/20 [==============================] - 0s 20ms/step - loss: 1.4592 - accuracy: 0.3728 - val_loss: 1.3964 - val_accuracy: 0.5111\n",
            "Epoch 5/10\n",
            "20/20 [==============================] - 0s 18ms/step - loss: 1.3837 - accuracy: 0.4136 - val_loss: 1.2826 - val_accuracy: 0.5522\n",
            "Epoch 6/10\n",
            "20/20 [==============================] - 0s 19ms/step - loss: 1.2538 - accuracy: 0.5024 - val_loss: 1.1365 - val_accuracy: 0.6566\n",
            "Epoch 7/10\n",
            "20/20 [==============================] - 0s 19ms/step - loss: 1.1256 - accuracy: 0.5757 - val_loss: 1.0078 - val_accuracy: 0.6424\n",
            "Epoch 8/10\n",
            "20/20 [==============================] - 0s 19ms/step - loss: 1.0376 - accuracy: 0.6101 - val_loss: 0.9427 - val_accuracy: 0.6598\n",
            "Epoch 9/10\n",
            "20/20 [==============================] - 0s 19ms/step - loss: 0.9480 - accuracy: 0.6395 - val_loss: 0.9004 - val_accuracy: 0.6725\n",
            "Epoch 10/10\n",
            "20/20 [==============================] - 0s 20ms/step - loss: 0.9118 - accuracy: 0.6569 - val_loss: 0.8771 - val_accuracy: 0.6899\n",
            "20/20 [==============================] - 0s 2ms/step - loss: 0.8771 - accuracy: 0.6899\n",
            "Epoch 1/10\n",
            "20/20 [==============================] - 1s 29ms/step - loss: 1.5804 - accuracy: 0.3146 - val_loss: 1.5243 - val_accuracy: 0.3149\n",
            "Epoch 2/10\n",
            "20/20 [==============================] - 0s 19ms/step - loss: 1.5244 - accuracy: 0.3229 - val_loss: 1.4720 - val_accuracy: 0.3149\n",
            "Epoch 3/10\n",
            "20/20 [==============================] - 0s 19ms/step - loss: 1.4978 - accuracy: 0.3459 - val_loss: 1.4579 - val_accuracy: 0.3149\n",
            "Epoch 4/10\n",
            "20/20 [==============================] - 0s 19ms/step - loss: 1.4603 - accuracy: 0.3760 - val_loss: 1.4015 - val_accuracy: 0.4905\n",
            "Epoch 5/10\n",
            "20/20 [==============================] - 0s 19ms/step - loss: 1.3690 - accuracy: 0.4370 - val_loss: 1.2944 - val_accuracy: 0.5206\n",
            "Epoch 6/10\n",
            "20/20 [==============================] - 0s 19ms/step - loss: 1.2495 - accuracy: 0.5095 - val_loss: 1.1523 - val_accuracy: 0.6203\n",
            "Epoch 7/10\n",
            "20/20 [==============================] - 0s 20ms/step - loss: 1.1377 - accuracy: 0.5630 - val_loss: 1.0302 - val_accuracy: 0.6535\n",
            "Epoch 8/10\n",
            "20/20 [==============================] - 1s 28ms/step - loss: 1.0326 - accuracy: 0.5955 - val_loss: 0.9574 - val_accuracy: 0.6804\n",
            "Epoch 9/10\n",
            "20/20 [==============================] - 1s 27ms/step - loss: 0.9599 - accuracy: 0.6410 - val_loss: 0.9154 - val_accuracy: 0.6582\n",
            "Epoch 10/10\n",
            "20/20 [==============================] - 1s 29ms/step - loss: 0.8947 - accuracy: 0.6470 - val_loss: 0.8893 - val_accuracy: 0.6693\n",
            "20/20 [==============================] - 0s 4ms/step - loss: 0.8893 - accuracy: 0.6693\n",
            "Epoch 1/10\n",
            "20/20 [==============================] - 2s 29ms/step - loss: 1.5843 - accuracy: 0.3118 - val_loss: 1.5377 - val_accuracy: 0.3149\n",
            "Epoch 2/10\n",
            "20/20 [==============================] - 0s 19ms/step - loss: 1.5272 - accuracy: 0.3063 - val_loss: 1.4714 - val_accuracy: 0.3180\n",
            "Epoch 3/10\n",
            "20/20 [==============================] - 0s 19ms/step - loss: 1.5060 - accuracy: 0.3360 - val_loss: 1.4605 - val_accuracy: 0.3465\n",
            "Epoch 4/10\n",
            "20/20 [==============================] - 0s 19ms/step - loss: 1.4728 - accuracy: 0.3700 - val_loss: 1.4132 - val_accuracy: 0.5443\n",
            "Epoch 5/10\n",
            "20/20 [==============================] - 0s 19ms/step - loss: 1.4067 - accuracy: 0.4097 - val_loss: 1.3292 - val_accuracy: 0.5649\n",
            "Epoch 6/10\n",
            "20/20 [==============================] - 0s 20ms/step - loss: 1.2886 - accuracy: 0.5036 - val_loss: 1.1718 - val_accuracy: 0.6297\n",
            "Epoch 7/10\n",
            "20/20 [==============================] - 0s 20ms/step - loss: 1.1533 - accuracy: 0.5574 - val_loss: 1.0534 - val_accuracy: 0.6661\n",
            "Epoch 8/10\n",
            "20/20 [==============================] - 0s 19ms/step - loss: 1.0593 - accuracy: 0.5911 - val_loss: 0.9804 - val_accuracy: 0.6630\n",
            "Epoch 9/10\n",
            "20/20 [==============================] - 0s 19ms/step - loss: 0.9789 - accuracy: 0.6177 - val_loss: 0.9149 - val_accuracy: 0.6661\n",
            "Epoch 10/10\n",
            "20/20 [==============================] - 0s 19ms/step - loss: 0.9597 - accuracy: 0.6189 - val_loss: 0.8946 - val_accuracy: 0.6630\n",
            "20/20 [==============================] - 0s 2ms/step - loss: 0.8946 - accuracy: 0.6630\n",
            "Epoch 1/10\n",
            "20/20 [==============================] - 1s 28ms/step - loss: 1.5848 - accuracy: 0.3074 - val_loss: 1.5345 - val_accuracy: 0.3339\n",
            "Epoch 2/10\n",
            "20/20 [==============================] - 0s 19ms/step - loss: 1.5274 - accuracy: 0.3257 - val_loss: 1.4658 - val_accuracy: 0.4320\n",
            "Epoch 3/10\n",
            "20/20 [==============================] - 0s 19ms/step - loss: 1.4867 - accuracy: 0.3617 - val_loss: 1.4292 - val_accuracy: 0.4684\n",
            "Epoch 4/10\n",
            "20/20 [==============================] - 0s 20ms/step - loss: 1.4247 - accuracy: 0.4113 - val_loss: 1.3492 - val_accuracy: 0.5174\n",
            "Epoch 5/10\n",
            "20/20 [==============================] - 0s 20ms/step - loss: 1.3469 - accuracy: 0.4774 - val_loss: 1.2223 - val_accuracy: 0.5538\n",
            "Epoch 6/10\n",
            "20/20 [==============================] - 0s 19ms/step - loss: 1.2263 - accuracy: 0.5265 - val_loss: 1.0876 - val_accuracy: 0.5870\n",
            "Epoch 7/10\n",
            "20/20 [==============================] - 0s 19ms/step - loss: 1.1049 - accuracy: 0.5828 - val_loss: 0.9902 - val_accuracy: 0.6598\n",
            "Epoch 8/10\n",
            "20/20 [==============================] - 0s 17ms/step - loss: 1.0352 - accuracy: 0.6121 - val_loss: 0.9469 - val_accuracy: 0.6582\n",
            "Epoch 9/10\n",
            "20/20 [==============================] - 0s 23ms/step - loss: 0.9654 - accuracy: 0.6367 - val_loss: 0.9080 - val_accuracy: 0.6424\n",
            "Epoch 10/10\n",
            "20/20 [==============================] - 1s 27ms/step - loss: 0.8986 - accuracy: 0.6561 - val_loss: 0.8845 - val_accuracy: 0.6614\n",
            "20/20 [==============================] - 0s 4ms/step - loss: 0.8845 - accuracy: 0.6614\n",
            "Epoch 1/10\n",
            "20/20 [==============================] - 2s 28ms/step - loss: 1.5874 - accuracy: 0.3257 - val_loss: 1.5481 - val_accuracy: 0.3149\n",
            "Epoch 2/10\n",
            "20/20 [==============================] - 0s 19ms/step - loss: 1.5400 - accuracy: 0.3348 - val_loss: 1.4829 - val_accuracy: 0.3149\n",
            "Epoch 3/10\n",
            "20/20 [==============================] - 0s 18ms/step - loss: 1.4991 - accuracy: 0.3423 - val_loss: 1.4531 - val_accuracy: 0.4399\n",
            "Epoch 4/10\n",
            "20/20 [==============================] - 0s 19ms/step - loss: 1.4471 - accuracy: 0.3950 - val_loss: 1.3804 - val_accuracy: 0.5585\n",
            "Epoch 5/10\n",
            "20/20 [==============================] - 0s 19ms/step - loss: 1.3666 - accuracy: 0.4758 - val_loss: 1.2582 - val_accuracy: 0.5696\n",
            "Epoch 6/10\n",
            "20/20 [==============================] - 0s 19ms/step - loss: 1.2306 - accuracy: 0.5376 - val_loss: 1.1211 - val_accuracy: 0.6108\n",
            "Epoch 7/10\n",
            "20/20 [==============================] - 0s 20ms/step - loss: 1.1239 - accuracy: 0.5876 - val_loss: 1.0064 - val_accuracy: 0.6487\n",
            "Epoch 8/10\n",
            "20/20 [==============================] - 0s 19ms/step - loss: 1.0078 - accuracy: 0.6300 - val_loss: 0.9568 - val_accuracy: 0.6646\n",
            "Epoch 9/10\n",
            "20/20 [==============================] - 0s 19ms/step - loss: 0.9495 - accuracy: 0.6406 - val_loss: 0.9209 - val_accuracy: 0.6582\n",
            "Epoch 10/10\n",
            "20/20 [==============================] - 0s 20ms/step - loss: 0.9093 - accuracy: 0.6442 - val_loss: 0.9056 - val_accuracy: 0.6756\n",
            "20/20 [==============================] - 0s 2ms/step - loss: 0.9056 - accuracy: 0.6756\n"
          ]
        }
      ],
      "source": [
        "dan_accs = []\n",
        "for i in range(20):\n",
        "    model = make_deep_average_net(print_model=False)\n",
        "    model.fit(train_x, train_y, batch_size=128, epochs=10, validation_data=(dev_x, dev_y))\n",
        "    dan_accs.append(model.evaluate(dev_x, dev_y)[1])"
      ]
    },
    {
      "cell_type": "code",
      "execution_count": null,
      "metadata": {
        "colab": {
          "base_uri": "https://localhost:8080/",
          "height": 654
        },
        "id": "qsDazDsWTQjG",
        "outputId": "c666aed8-4b37-497d-a7d2-fb2cb0ecc27d"
      },
      "outputs": [
        {
          "name": "stdout",
          "output_type": "stream",
          "text": [
            "       DAN\n",
            "0   0.6661\n",
            "1   0.6693\n",
            "2   0.6820\n",
            "3   0.6820\n",
            "4   0.6709\n",
            "5   0.6725\n",
            "6   0.6835\n",
            "7   0.6804\n",
            "8   0.6867\n",
            "9   0.6709\n",
            "10  0.6756\n",
            "11  0.6709\n",
            "12  0.6646\n",
            "13  0.6804\n",
            "14  0.6709\n",
            "15  0.6899\n",
            "16  0.6693\n",
            "17  0.6630\n",
            "18  0.6614\n",
            "19  0.6756\n"
          ]
        },
        {
          "data": {
            "text/html": [
              "\n",
              "  <div id=\"df-5cd5531b-5bbe-432c-918c-50060d75a1fe\">\n",
              "    <div class=\"colab-df-container\">\n",
              "      <div>\n",
              "<style scoped>\n",
              "    .dataframe tbody tr th:only-of-type {\n",
              "        vertical-align: middle;\n",
              "    }\n",
              "\n",
              "    .dataframe tbody tr th {\n",
              "        vertical-align: top;\n",
              "    }\n",
              "\n",
              "    .dataframe thead th {\n",
              "        text-align: right;\n",
              "    }\n",
              "</style>\n",
              "<table border=\"1\" class=\"dataframe\">\n",
              "  <thead>\n",
              "    <tr style=\"text-align: right;\">\n",
              "      <th></th>\n",
              "      <th>DAN</th>\n",
              "    </tr>\n",
              "  </thead>\n",
              "  <tbody>\n",
              "    <tr>\n",
              "      <th>count</th>\n",
              "      <td>20.000000</td>\n",
              "    </tr>\n",
              "    <tr>\n",
              "      <th>mean</th>\n",
              "      <td>0.674288</td>\n",
              "    </tr>\n",
              "    <tr>\n",
              "      <th>std</th>\n",
              "      <td>0.008056</td>\n",
              "    </tr>\n",
              "    <tr>\n",
              "      <th>min</th>\n",
              "      <td>0.661392</td>\n",
              "    </tr>\n",
              "    <tr>\n",
              "      <th>25%</th>\n",
              "      <td>0.669304</td>\n",
              "    </tr>\n",
              "    <tr>\n",
              "      <th>50%</th>\n",
              "      <td>0.671677</td>\n",
              "    </tr>\n",
              "    <tr>\n",
              "      <th>75%</th>\n",
              "      <td>0.680775</td>\n",
              "    </tr>\n",
              "    <tr>\n",
              "      <th>max</th>\n",
              "      <td>0.689873</td>\n",
              "    </tr>\n",
              "  </tbody>\n",
              "</table>\n",
              "</div>\n",
              "      <button class=\"colab-df-convert\" onclick=\"convertToInteractive('df-5cd5531b-5bbe-432c-918c-50060d75a1fe')\"\n",
              "              title=\"Convert this dataframe to an interactive table.\"\n",
              "              style=\"display:none;\">\n",
              "        \n",
              "  <svg xmlns=\"http://www.w3.org/2000/svg\" height=\"24px\"viewBox=\"0 0 24 24\"\n",
              "       width=\"24px\">\n",
              "    <path d=\"M0 0h24v24H0V0z\" fill=\"none\"/>\n",
              "    <path d=\"M18.56 5.44l.94 2.06.94-2.06 2.06-.94-2.06-.94-.94-2.06-.94 2.06-2.06.94zm-11 1L8.5 8.5l.94-2.06 2.06-.94-2.06-.94L8.5 2.5l-.94 2.06-2.06.94zm10 10l.94 2.06.94-2.06 2.06-.94-2.06-.94-.94-2.06-.94 2.06-2.06.94z\"/><path d=\"M17.41 7.96l-1.37-1.37c-.4-.4-.92-.59-1.43-.59-.52 0-1.04.2-1.43.59L10.3 9.45l-7.72 7.72c-.78.78-.78 2.05 0 2.83L4 21.41c.39.39.9.59 1.41.59.51 0 1.02-.2 1.41-.59l7.78-7.78 2.81-2.81c.8-.78.8-2.07 0-2.86zM5.41 20L4 18.59l7.72-7.72 1.47 1.35L5.41 20z\"/>\n",
              "  </svg>\n",
              "      </button>\n",
              "      \n",
              "  <style>\n",
              "    .colab-df-container {\n",
              "      display:flex;\n",
              "      flex-wrap:wrap;\n",
              "      gap: 12px;\n",
              "    }\n",
              "\n",
              "    .colab-df-convert {\n",
              "      background-color: #E8F0FE;\n",
              "      border: none;\n",
              "      border-radius: 50%;\n",
              "      cursor: pointer;\n",
              "      display: none;\n",
              "      fill: #1967D2;\n",
              "      height: 32px;\n",
              "      padding: 0 0 0 0;\n",
              "      width: 32px;\n",
              "    }\n",
              "\n",
              "    .colab-df-convert:hover {\n",
              "      background-color: #E2EBFA;\n",
              "      box-shadow: 0px 1px 2px rgba(60, 64, 67, 0.3), 0px 1px 3px 1px rgba(60, 64, 67, 0.15);\n",
              "      fill: #174EA6;\n",
              "    }\n",
              "\n",
              "    [theme=dark] .colab-df-convert {\n",
              "      background-color: #3B4455;\n",
              "      fill: #D2E3FC;\n",
              "    }\n",
              "\n",
              "    [theme=dark] .colab-df-convert:hover {\n",
              "      background-color: #434B5C;\n",
              "      box-shadow: 0px 1px 3px 1px rgba(0, 0, 0, 0.15);\n",
              "      filter: drop-shadow(0px 1px 2px rgba(0, 0, 0, 0.3));\n",
              "      fill: #FFFFFF;\n",
              "    }\n",
              "  </style>\n",
              "\n",
              "      <script>\n",
              "        const buttonEl =\n",
              "          document.querySelector('#df-5cd5531b-5bbe-432c-918c-50060d75a1fe button.colab-df-convert');\n",
              "        buttonEl.style.display =\n",
              "          google.colab.kernel.accessAllowed ? 'block' : 'none';\n",
              "\n",
              "        async function convertToInteractive(key) {\n",
              "          const element = document.querySelector('#df-5cd5531b-5bbe-432c-918c-50060d75a1fe');\n",
              "          const dataTable =\n",
              "            await google.colab.kernel.invokeFunction('convertToInteractive',\n",
              "                                                     [key], {});\n",
              "          if (!dataTable) return;\n",
              "\n",
              "          const docLinkHtml = 'Like what you see? Visit the ' +\n",
              "            '<a target=\"_blank\" href=https://colab.research.google.com/notebooks/data_table.ipynb>data table notebook</a>'\n",
              "            + ' to learn more about interactive tables.';\n",
              "          element.innerHTML = '';\n",
              "          dataTable['output_type'] = 'display_data';\n",
              "          await google.colab.output.renderOutput(dataTable, element);\n",
              "          const docLink = document.createElement('div');\n",
              "          docLink.innerHTML = docLinkHtml;\n",
              "          element.appendChild(docLink);\n",
              "        }\n",
              "      </script>\n",
              "    </div>\n",
              "  </div>\n",
              "  "
            ],
            "text/plain": [
              "             DAN\n",
              "count  20.000000\n",
              "mean    0.674288\n",
              "std     0.008056\n",
              "min     0.661392\n",
              "25%     0.669304\n",
              "50%     0.671677\n",
              "75%     0.680775\n",
              "max     0.689873"
            ]
          },
          "execution_count": 618,
          "metadata": {},
          "output_type": "execute_result"
        }
      ],
      "source": [
        "dan_accs_df = pd.DataFrame(dan_accs, columns=['DAN'])\n",
        "print(dan_accs_df.round(4))\n",
        "dan_accs_df.describe()"
      ]
    },
    {
      "cell_type": "code",
      "execution_count": null,
      "metadata": {
        "colab": {
          "base_uri": "https://localhost:8080/"
        },
        "id": "VE1i3F4oBk94",
        "outputId": "3e10c37d-714f-4031-94cc-2d9775004744"
      },
      "outputs": [
        {
          "name": "stdout",
          "output_type": "stream",
          "text": [
            "20/20 [==============================] - 0s 2ms/step\n",
            "              precision    recall  f1-score   support\n",
            "\n",
            "           0       0.72      0.82      0.77       199\n",
            "           1       0.83      0.93      0.88       204\n",
            "           2       0.42      0.69      0.52       102\n",
            "           3       0.50      0.04      0.08        72\n",
            "           4       0.00      0.00      0.00        55\n",
            "\n",
            "    accuracy                           0.68       632\n",
            "   macro avg       0.49      0.50      0.45       632\n",
            "weighted avg       0.62      0.68      0.62       632\n",
            "\n"
          ]
        },
        {
          "name": "stderr",
          "output_type": "stream",
          "text": [
            "/usr/local/lib/python3.8/dist-packages/sklearn/metrics/_classification.py:1318: UndefinedMetricWarning: Precision and F-score are ill-defined and being set to 0.0 in labels with no predicted samples. Use `zero_division` parameter to control this behavior.\n",
            "  _warn_prf(average, modifier, msg_start, len(result))\n",
            "/usr/local/lib/python3.8/dist-packages/sklearn/metrics/_classification.py:1318: UndefinedMetricWarning: Precision and F-score are ill-defined and being set to 0.0 in labels with no predicted samples. Use `zero_division` parameter to control this behavior.\n",
            "  _warn_prf(average, modifier, msg_start, len(result))\n",
            "/usr/local/lib/python3.8/dist-packages/sklearn/metrics/_classification.py:1318: UndefinedMetricWarning: Precision and F-score are ill-defined and being set to 0.0 in labels with no predicted samples. Use `zero_division` parameter to control this behavior.\n",
            "  _warn_prf(average, modifier, msg_start, len(result))\n"
          ]
        }
      ],
      "source": [
        "prediction = [np.argmax(x) for x in model.predict(dev_x)]\n",
        "print(classification_report(dev['label'], prediction))"
      ]
    },
    {
      "cell_type": "code",
      "execution_count": null,
      "metadata": {
        "colab": {
          "base_uri": "https://localhost:8080/",
          "height": 297
        },
        "id": "VGlmN1UhTSMI",
        "outputId": "a60c45ed-7bfc-4a7f-c99f-dad5b8845ddc"
      },
      "outputs": [
        {
          "data": {
            "text/html": [
              "\n",
              "  <div id=\"df-a684a9e1-fc86-4b80-b22e-605eec19b631\">\n",
              "    <div class=\"colab-df-container\">\n",
              "      <div>\n",
              "<style scoped>\n",
              "    .dataframe tbody tr th:only-of-type {\n",
              "        vertical-align: middle;\n",
              "    }\n",
              "\n",
              "    .dataframe tbody tr th {\n",
              "        vertical-align: top;\n",
              "    }\n",
              "\n",
              "    .dataframe thead th {\n",
              "        text-align: right;\n",
              "    }\n",
              "</style>\n",
              "<table border=\"1\" class=\"dataframe\">\n",
              "  <thead>\n",
              "    <tr style=\"text-align: right;\">\n",
              "      <th></th>\n",
              "      <th>DAN</th>\n",
              "      <th>CNN</th>\n",
              "    </tr>\n",
              "  </thead>\n",
              "  <tbody>\n",
              "    <tr>\n",
              "      <th>count</th>\n",
              "      <td>20.000000</td>\n",
              "      <td>20.000000</td>\n",
              "    </tr>\n",
              "    <tr>\n",
              "      <th>mean</th>\n",
              "      <td>0.674288</td>\n",
              "      <td>0.631250</td>\n",
              "    </tr>\n",
              "    <tr>\n",
              "      <th>std</th>\n",
              "      <td>0.008056</td>\n",
              "      <td>0.062039</td>\n",
              "    </tr>\n",
              "    <tr>\n",
              "      <th>min</th>\n",
              "      <td>0.661392</td>\n",
              "      <td>0.507911</td>\n",
              "    </tr>\n",
              "    <tr>\n",
              "      <th>25%</th>\n",
              "      <td>0.669304</td>\n",
              "      <td>0.602057</td>\n",
              "    </tr>\n",
              "    <tr>\n",
              "      <th>50%</th>\n",
              "      <td>0.671677</td>\n",
              "      <td>0.617880</td>\n",
              "    </tr>\n",
              "    <tr>\n",
              "      <th>75%</th>\n",
              "      <td>0.680775</td>\n",
              "      <td>0.662184</td>\n",
              "    </tr>\n",
              "    <tr>\n",
              "      <th>max</th>\n",
              "      <td>0.689873</td>\n",
              "      <td>0.738924</td>\n",
              "    </tr>\n",
              "  </tbody>\n",
              "</table>\n",
              "</div>\n",
              "      <button class=\"colab-df-convert\" onclick=\"convertToInteractive('df-a684a9e1-fc86-4b80-b22e-605eec19b631')\"\n",
              "              title=\"Convert this dataframe to an interactive table.\"\n",
              "              style=\"display:none;\">\n",
              "        \n",
              "  <svg xmlns=\"http://www.w3.org/2000/svg\" height=\"24px\"viewBox=\"0 0 24 24\"\n",
              "       width=\"24px\">\n",
              "    <path d=\"M0 0h24v24H0V0z\" fill=\"none\"/>\n",
              "    <path d=\"M18.56 5.44l.94 2.06.94-2.06 2.06-.94-2.06-.94-.94-2.06-.94 2.06-2.06.94zm-11 1L8.5 8.5l.94-2.06 2.06-.94-2.06-.94L8.5 2.5l-.94 2.06-2.06.94zm10 10l.94 2.06.94-2.06 2.06-.94-2.06-.94-.94-2.06-.94 2.06-2.06.94z\"/><path d=\"M17.41 7.96l-1.37-1.37c-.4-.4-.92-.59-1.43-.59-.52 0-1.04.2-1.43.59L10.3 9.45l-7.72 7.72c-.78.78-.78 2.05 0 2.83L4 21.41c.39.39.9.59 1.41.59.51 0 1.02-.2 1.41-.59l7.78-7.78 2.81-2.81c.8-.78.8-2.07 0-2.86zM5.41 20L4 18.59l7.72-7.72 1.47 1.35L5.41 20z\"/>\n",
              "  </svg>\n",
              "      </button>\n",
              "      \n",
              "  <style>\n",
              "    .colab-df-container {\n",
              "      display:flex;\n",
              "      flex-wrap:wrap;\n",
              "      gap: 12px;\n",
              "    }\n",
              "\n",
              "    .colab-df-convert {\n",
              "      background-color: #E8F0FE;\n",
              "      border: none;\n",
              "      border-radius: 50%;\n",
              "      cursor: pointer;\n",
              "      display: none;\n",
              "      fill: #1967D2;\n",
              "      height: 32px;\n",
              "      padding: 0 0 0 0;\n",
              "      width: 32px;\n",
              "    }\n",
              "\n",
              "    .colab-df-convert:hover {\n",
              "      background-color: #E2EBFA;\n",
              "      box-shadow: 0px 1px 2px rgba(60, 64, 67, 0.3), 0px 1px 3px 1px rgba(60, 64, 67, 0.15);\n",
              "      fill: #174EA6;\n",
              "    }\n",
              "\n",
              "    [theme=dark] .colab-df-convert {\n",
              "      background-color: #3B4455;\n",
              "      fill: #D2E3FC;\n",
              "    }\n",
              "\n",
              "    [theme=dark] .colab-df-convert:hover {\n",
              "      background-color: #434B5C;\n",
              "      box-shadow: 0px 1px 3px 1px rgba(0, 0, 0, 0.15);\n",
              "      filter: drop-shadow(0px 1px 2px rgba(0, 0, 0, 0.3));\n",
              "      fill: #FFFFFF;\n",
              "    }\n",
              "  </style>\n",
              "\n",
              "      <script>\n",
              "        const buttonEl =\n",
              "          document.querySelector('#df-a684a9e1-fc86-4b80-b22e-605eec19b631 button.colab-df-convert');\n",
              "        buttonEl.style.display =\n",
              "          google.colab.kernel.accessAllowed ? 'block' : 'none';\n",
              "\n",
              "        async function convertToInteractive(key) {\n",
              "          const element = document.querySelector('#df-a684a9e1-fc86-4b80-b22e-605eec19b631');\n",
              "          const dataTable =\n",
              "            await google.colab.kernel.invokeFunction('convertToInteractive',\n",
              "                                                     [key], {});\n",
              "          if (!dataTable) return;\n",
              "\n",
              "          const docLinkHtml = 'Like what you see? Visit the ' +\n",
              "            '<a target=\"_blank\" href=https://colab.research.google.com/notebooks/data_table.ipynb>data table notebook</a>'\n",
              "            + ' to learn more about interactive tables.';\n",
              "          element.innerHTML = '';\n",
              "          dataTable['output_type'] = 'display_data';\n",
              "          await google.colab.output.renderOutput(dataTable, element);\n",
              "          const docLink = document.createElement('div');\n",
              "          docLink.innerHTML = docLinkHtml;\n",
              "          element.appendChild(docLink);\n",
              "        }\n",
              "      </script>\n",
              "    </div>\n",
              "  </div>\n",
              "  "
            ],
            "text/plain": [
              "             DAN        CNN\n",
              "count  20.000000  20.000000\n",
              "mean    0.674288   0.631250\n",
              "std     0.008056   0.062039\n",
              "min     0.661392   0.507911\n",
              "25%     0.669304   0.602057\n",
              "50%     0.671677   0.617880\n",
              "75%     0.680775   0.662184\n",
              "max     0.689873   0.738924"
            ]
          },
          "execution_count": 620,
          "metadata": {},
          "output_type": "execute_result"
        }
      ],
      "source": [
        "pd.concat([dan_accs_df.describe(), cnn_accs_df.describe()], axis=1)"
      ]
    },
    {
      "cell_type": "markdown",
      "metadata": {
        "id": "EU-qJ81IlvRX"
      },
      "source": [
        "# predict & สร้างตารางใหม่"
      ]
    },
    {
      "cell_type": "code",
      "execution_count": null,
      "metadata": {
        "colab": {
          "base_uri": "https://localhost:8080/",
          "height": 232
        },
        "id": "iP_2hp5LTzIY",
        "outputId": "f286b06a-bc5b-4201-db0c-518d6b122f6a"
      },
      "outputs": [],
      "source": [
        "aspect_map_dict = {0:'food', 1:'anecdotes/miscellaneous', 2:'service', 3:'ambience', 4:'price'}\n",
        "# Use .replace() to convert the numbers to new values\n",
        "newdf['aspectCategory'] = newdf['aspectCategory'].replace(aspect_map_dict)\n",
        "\n",
        "polarity_map_dict = {0:'negative', 1:'neutral', 2:'positive', 3:'conflict'}\n",
        "\n",
        "newdf['polarity'] = newdf['polarity'].replace(polarity_map_dict)"
      ]
    },
    {
      "cell_type": "code",
      "execution_count": null,
      "metadata": {
        "colab": {
          "base_uri": "https://localhost:8080/",
          "height": 419
        },
        "id": "LSx_PvXzlpUV",
        "outputId": "1fe7243f-25bf-48d9-ff99-e2e2d7bb2b4c"
      },
      "outputs": [
        {
          "data": {
            "text/html": [
              "\n",
              "  <div id=\"df-4d11fab5-ac3b-4dda-94a0-bf82915a4696\">\n",
              "    <div class=\"colab-df-container\">\n",
              "      <div>\n",
              "<style scoped>\n",
              "    .dataframe tbody tr th:only-of-type {\n",
              "        vertical-align: middle;\n",
              "    }\n",
              "\n",
              "    .dataframe tbody tr th {\n",
              "        vertical-align: top;\n",
              "    }\n",
              "\n",
              "    .dataframe thead th {\n",
              "        text-align: right;\n",
              "    }\n",
              "</style>\n",
              "<table border=\"1\" class=\"dataframe\">\n",
              "  <thead>\n",
              "    <tr style=\"text-align: right;\">\n",
              "      <th></th>\n",
              "      <th>id</th>\n",
              "      <th>aspectCategory</th>\n",
              "      <th>polarity</th>\n",
              "    </tr>\n",
              "  </thead>\n",
              "  <tbody>\n",
              "    <tr>\n",
              "      <th>292</th>\n",
              "      <td>3699</td>\n",
              "      <td>price</td>\n",
              "      <td>positive</td>\n",
              "    </tr>\n",
              "    <tr>\n",
              "      <th>1813</th>\n",
              "      <td>503</td>\n",
              "      <td>ambience</td>\n",
              "      <td>positive</td>\n",
              "    </tr>\n",
              "    <tr>\n",
              "      <th>3122</th>\n",
              "      <td>1295</td>\n",
              "      <td>service</td>\n",
              "      <td>negative</td>\n",
              "    </tr>\n",
              "    <tr>\n",
              "      <th>3134</th>\n",
              "      <td>758</td>\n",
              "      <td>food</td>\n",
              "      <td>neutral</td>\n",
              "    </tr>\n",
              "    <tr>\n",
              "      <th>2867</th>\n",
              "      <td>89</td>\n",
              "      <td>price</td>\n",
              "      <td>positive</td>\n",
              "    </tr>\n",
              "    <tr>\n",
              "      <th>...</th>\n",
              "      <td>...</td>\n",
              "      <td>...</td>\n",
              "      <td>...</td>\n",
              "    </tr>\n",
              "    <tr>\n",
              "      <th>1616</th>\n",
              "      <td>2101</td>\n",
              "      <td>price</td>\n",
              "      <td>negative</td>\n",
              "    </tr>\n",
              "    <tr>\n",
              "      <th>2509</th>\n",
              "      <td>2833</td>\n",
              "      <td>ambience</td>\n",
              "      <td>positive</td>\n",
              "    </tr>\n",
              "    <tr>\n",
              "      <th>150</th>\n",
              "      <td>2936</td>\n",
              "      <td>anecdotes/miscellaneous</td>\n",
              "      <td>negative</td>\n",
              "    </tr>\n",
              "    <tr>\n",
              "      <th>407</th>\n",
              "      <td>1891</td>\n",
              "      <td>food</td>\n",
              "      <td>positive</td>\n",
              "    </tr>\n",
              "    <tr>\n",
              "      <th>678</th>\n",
              "      <td>1684</td>\n",
              "      <td>anecdotes/miscellaneous</td>\n",
              "      <td>positive</td>\n",
              "    </tr>\n",
              "  </tbody>\n",
              "</table>\n",
              "<p>2524 rows × 3 columns</p>\n",
              "</div>\n",
              "      <button class=\"colab-df-convert\" onclick=\"convertToInteractive('df-4d11fab5-ac3b-4dda-94a0-bf82915a4696')\"\n",
              "              title=\"Convert this dataframe to an interactive table.\"\n",
              "              style=\"display:none;\">\n",
              "        \n",
              "  <svg xmlns=\"http://www.w3.org/2000/svg\" height=\"24px\"viewBox=\"0 0 24 24\"\n",
              "       width=\"24px\">\n",
              "    <path d=\"M0 0h24v24H0V0z\" fill=\"none\"/>\n",
              "    <path d=\"M18.56 5.44l.94 2.06.94-2.06 2.06-.94-2.06-.94-.94-2.06-.94 2.06-2.06.94zm-11 1L8.5 8.5l.94-2.06 2.06-.94-2.06-.94L8.5 2.5l-.94 2.06-2.06.94zm10 10l.94 2.06.94-2.06 2.06-.94-2.06-.94-.94-2.06-.94 2.06-2.06.94z\"/><path d=\"M17.41 7.96l-1.37-1.37c-.4-.4-.92-.59-1.43-.59-.52 0-1.04.2-1.43.59L10.3 9.45l-7.72 7.72c-.78.78-.78 2.05 0 2.83L4 21.41c.39.39.9.59 1.41.59.51 0 1.02-.2 1.41-.59l7.78-7.78 2.81-2.81c.8-.78.8-2.07 0-2.86zM5.41 20L4 18.59l7.72-7.72 1.47 1.35L5.41 20z\"/>\n",
              "  </svg>\n",
              "      </button>\n",
              "      \n",
              "  <style>\n",
              "    .colab-df-container {\n",
              "      display:flex;\n",
              "      flex-wrap:wrap;\n",
              "      gap: 12px;\n",
              "    }\n",
              "\n",
              "    .colab-df-convert {\n",
              "      background-color: #E8F0FE;\n",
              "      border: none;\n",
              "      border-radius: 50%;\n",
              "      cursor: pointer;\n",
              "      display: none;\n",
              "      fill: #1967D2;\n",
              "      height: 32px;\n",
              "      padding: 0 0 0 0;\n",
              "      width: 32px;\n",
              "    }\n",
              "\n",
              "    .colab-df-convert:hover {\n",
              "      background-color: #E2EBFA;\n",
              "      box-shadow: 0px 1px 2px rgba(60, 64, 67, 0.3), 0px 1px 3px 1px rgba(60, 64, 67, 0.15);\n",
              "      fill: #174EA6;\n",
              "    }\n",
              "\n",
              "    [theme=dark] .colab-df-convert {\n",
              "      background-color: #3B4455;\n",
              "      fill: #D2E3FC;\n",
              "    }\n",
              "\n",
              "    [theme=dark] .colab-df-convert:hover {\n",
              "      background-color: #434B5C;\n",
              "      box-shadow: 0px 1px 3px 1px rgba(0, 0, 0, 0.15);\n",
              "      filter: drop-shadow(0px 1px 2px rgba(0, 0, 0, 0.3));\n",
              "      fill: #FFFFFF;\n",
              "    }\n",
              "  </style>\n",
              "\n",
              "      <script>\n",
              "        const buttonEl =\n",
              "          document.querySelector('#df-4d11fab5-ac3b-4dda-94a0-bf82915a4696 button.colab-df-convert');\n",
              "        buttonEl.style.display =\n",
              "          google.colab.kernel.accessAllowed ? 'block' : 'none';\n",
              "\n",
              "        async function convertToInteractive(key) {\n",
              "          const element = document.querySelector('#df-4d11fab5-ac3b-4dda-94a0-bf82915a4696');\n",
              "          const dataTable =\n",
              "            await google.colab.kernel.invokeFunction('convertToInteractive',\n",
              "                                                     [key], {});\n",
              "          if (!dataTable) return;\n",
              "\n",
              "          const docLinkHtml = 'Like what you see? Visit the ' +\n",
              "            '<a target=\"_blank\" href=https://colab.research.google.com/notebooks/data_table.ipynb>data table notebook</a>'\n",
              "            + ' to learn more about interactive tables.';\n",
              "          element.innerHTML = '';\n",
              "          dataTable['output_type'] = 'display_data';\n",
              "          await google.colab.output.renderOutput(dataTable, element);\n",
              "          const docLink = document.createElement('div');\n",
              "          docLink.innerHTML = docLinkHtml;\n",
              "          element.appendChild(docLink);\n",
              "        }\n",
              "      </script>\n",
              "    </div>\n",
              "  </div>\n",
              "  "
            ],
            "text/plain": [
              "        id           aspectCategory  polarity\n",
              "292   3699                    price  positive\n",
              "1813   503                 ambience  positive\n",
              "3122  1295                  service  negative\n",
              "3134   758                     food   neutral\n",
              "2867    89                    price  positive\n",
              "...    ...                      ...       ...\n",
              "1616  2101                    price  negative\n",
              "2509  2833                 ambience  positive\n",
              "150   2936  anecdotes/miscellaneous  negative\n",
              "407   1891                     food  positive\n",
              "678   1684  anecdotes/miscellaneous  positive\n",
              "\n",
              "[2524 rows x 3 columns]"
            ]
          },
          "execution_count": 140,
          "metadata": {},
          "output_type": "execute_result"
        }
      ],
      "source": [
        "# create new dataframe\n",
        "newdf = pd.DataFrame()\n",
        "\n",
        "# add columns (เอาผลมารวมกัน)\n",
        "newdf['id'] = dev['id']\n",
        "newdf['aspectCategory'] = dev['aspectCategory']  # prediction of aspect\n",
        "newdf['polarity'] = dev['polarity']  # prediction of polarity\n",
        "newdf\n",
        "# export to csv\n",
        "newdf.to_csv('pred.csv', index=None)\n",
        "\n",
        "# evaluate \"lab4_train.csv\" ไม่ต้องเปลี่ยน\n",
        "!python3 evaluate.py contest1_train.csv pred.csv"
      ]
    }
  ],
  "metadata": {
    "colab": {
      "provenance": [],
      "toc_visible": true
    },
    "kernelspec": {
      "display_name": "Python 3",
      "name": "python3"
    }
  },
  "nbformat": 4,
  "nbformat_minor": 0
}
